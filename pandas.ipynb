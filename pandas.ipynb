{
  "nbformat": 4,
  "nbformat_minor": 0,
  "metadata": {
    "kernelspec": {
      "display_name": "Python 3",
      "language": "python",
      "name": "python3"
    },
    "language_info": {
      "codemirror_mode": {
        "name": "ipython",
        "version": 3
      },
      "file_extension": ".py",
      "mimetype": "text/x-python",
      "name": "python",
      "nbconvert_exporter": "python",
      "pygments_lexer": "ipython3",
      "version": "3.7.3"
    },
    "colab": {
      "name": "pandas.ipynb",
      "provenance": []
    }
  },
  "cells": [
    {
      "cell_type": "markdown",
      "metadata": {
        "id": "X9OqR5wkt1qa"
      },
      "source": [
        "# 1. load, prepare, manipulate, model, and analyze"
      ]
    },
    {
      "cell_type": "markdown",
      "metadata": {
        "id": "YaNXP9Get1qg"
      },
      "source": [
        "# 2.data structures:Series,DataFrame,Panel"
      ]
    },
    {
      "cell_type": "code",
      "metadata": {
        "colab": {
          "base_uri": "https://localhost:8080/"
        },
        "id": "58FyWtv7t1qh",
        "outputId": "9d83d728-baa3-43f8-f9f0-8d678e087d4b"
      },
      "source": [
        "pip install beautifultable"
      ],
      "execution_count": null,
      "outputs": [
        {
          "output_type": "stream",
          "text": [
            "Collecting beautifultable\n",
            "  Downloading https://files.pythonhosted.org/packages/00/f8/63a013f19d6b4a2f9cc8706a98ad6261bff4941de4472a1b5e828803335d/beautifultable-1.0.0-py2.py3-none-any.whl\n",
            "Requirement already satisfied: wcwidth in /usr/local/lib/python3.6/dist-packages (from beautifultable) (0.2.5)\n",
            "Installing collected packages: beautifultable\n",
            "Successfully installed beautifultable-1.0.0\n"
          ],
          "name": "stdout"
        }
      ]
    },
    {
      "cell_type": "code",
      "metadata": {
        "colab": {
          "base_uri": "https://localhost:8080/"
        },
        "id": "gyxE_JDft1qk",
        "outputId": "c64514a4-39d4-4ea3-d038-4b0805cce5ea"
      },
      "source": [
        "from beautifultable import BeautifulTable\n",
        "table = BeautifulTable()\n",
        "table.column_headers = [\"Data Structure\", \"Dimensions\", \"Description\"]\n",
        "table.append_row([\"Series\", 1, \"1D labeled homogeneous array, sizeimmutable.\"])\n",
        "table.append_row([\"Data Frames\",2, \"General 2D labeled, size-mutable tabular structure with potentially heterogeneously typed columns.\"])\n",
        "table.append_row([\"Panel\", 3, \"General 3D labeled, size-mutable array.\"])\n",
        "print(table)"
      ],
      "execution_count": null,
      "outputs": [
        {
          "output_type": "stream",
          "text": [
            "+----------------+------------+------------------------------------------------+\n",
            "| Data Structure | Dimensions |                  Description                   |\n",
            "+----------------+------------+------------------------------------------------+\n",
            "|     Series     |     1      |  1D labeled homogeneous array, sizeimmutable.  |\n",
            "+----------------+------------+------------------------------------------------+\n",
            "|  Data Frames   |     2      | General 2D labeled, size-mutable tabular struc |\n",
            "|                |            | ture with potentially heterogeneously typed co |\n",
            "|                |            |                     lumns.                     |\n",
            "+----------------+------------+------------------------------------------------+\n",
            "|     Panel      |     3      |    General 3D labeled, size-mutable array.     |\n",
            "+----------------+------------+------------------------------------------------+\n"
          ],
          "name": "stdout"
        },
        {
          "output_type": "stream",
          "text": [
            "/usr/local/lib/python3.6/dist-packages/beautifultable/utils.py:113: FutureWarning: 'BeautifulTable.column_headers' has been deprecated in 'v1.0.0' and will be removed in 'v1.2.0'. Use 'BTColumnCollection.header' instead.\n",
            "  warnings.warn(message, FutureWarning)\n",
            "/usr/local/lib/python3.6/dist-packages/beautifultable/utils.py:113: FutureWarning: 'BeautifulTable.append_row' has been deprecated in 'v1.0.0' and will be removed in 'v1.2.0'. Use 'BTRowCollection.append' instead.\n",
            "  warnings.warn(message, FutureWarning)\n"
          ],
          "name": "stderr"
        }
      ]
    },
    {
      "cell_type": "markdown",
      "metadata": {
        "id": "sIAhWHMSt1q5"
      },
      "source": [
        "# Series"
      ]
    },
    {
      "cell_type": "markdown",
      "metadata": {
        "id": "p4oOIllWt1q5"
      },
      "source": [
        "# pandas.Series( data, index, dtype, copy)\n",
        "\n",
        "### 1.Homogeneous data\n",
        "### 2.Size Immutable\n",
        "### 3.Values of Data Mutable"
      ]
    },
    {
      "cell_type": "code",
      "metadata": {
        "scrolled": true,
        "colab": {
          "base_uri": "https://localhost:8080/"
        },
        "id": "18Y37LWat1q5",
        "outputId": "833a9387-a6f9-4472-fff2-9195e5311b6d"
      },
      "source": [
        "table = BeautifulTable()\n",
        "table.column_headers = [\"index\",\"-->\",\"0\", \"1\", \"3\",\"4\", \"5\", \"6\",\"7\", \"8\", \"9\",\"10\"]\n",
        "table.append_row(['Int Data','-->',11,22,33,44,55,66,77,88,99,100])\n",
        "table.append_row(['String Data','-->','a','b','c','d','e','f','g','h','i','j'])\n",
        "print(table)"
      ],
      "execution_count": null,
      "outputs": [
        {
          "output_type": "stream",
          "text": [
            "+-------------+-----+----+----+----+----+----+----+----+----+----+-----+\n",
            "|    index    | --> | 0  | 1  | 3  | 4  | 5  | 6  | 7  | 8  | 9  | 10  |\n",
            "+-------------+-----+----+----+----+----+----+----+----+----+----+-----+\n",
            "|  Int Data   | --> | 11 | 22 | 33 | 44 | 55 | 66 | 77 | 88 | 99 | 100 |\n",
            "+-------------+-----+----+----+----+----+----+----+----+----+----+-----+\n",
            "| String Data | --> | a  | b  | c  | d  | e  | f  | g  | h  | i  |  j  |\n",
            "+-------------+-----+----+----+----+----+----+----+----+----+----+-----+\n"
          ],
          "name": "stdout"
        },
        {
          "output_type": "stream",
          "text": [
            "/usr/local/lib/python3.6/dist-packages/beautifultable/utils.py:113: FutureWarning: 'BeautifulTable.column_headers' has been deprecated in 'v1.0.0' and will be removed in 'v1.2.0'. Use 'BTColumnCollection.header' instead.\n",
            "  warnings.warn(message, FutureWarning)\n",
            "/usr/local/lib/python3.6/dist-packages/beautifultable/utils.py:113: FutureWarning: 'BeautifulTable.append_row' has been deprecated in 'v1.0.0' and will be removed in 'v1.2.0'. Use 'BTRowCollection.append' instead.\n",
            "  warnings.warn(message, FutureWarning)\n"
          ],
          "name": "stderr"
        }
      ]
    },
    {
      "cell_type": "code",
      "metadata": {
        "colab": {
          "base_uri": "https://localhost:8080/"
        },
        "id": "USEIz2ke4W0i",
        "outputId": "87d70420-225a-49f3-d757-02fe878682f4"
      },
      "source": [
        "import pandas as pd\n",
        "print(pd.__doc__)"
      ],
      "execution_count": null,
      "outputs": [
        {
          "output_type": "stream",
          "text": [
            "\n",
            "pandas - a powerful data analysis and manipulation library for Python\n",
            "=====================================================================\n",
            "\n",
            "**pandas** is a Python package providing fast, flexible, and expressive data\n",
            "structures designed to make working with \"relational\" or \"labeled\" data both\n",
            "easy and intuitive. It aims to be the fundamental high-level building block for\n",
            "doing practical, **real world** data analysis in Python. Additionally, it has\n",
            "the broader goal of becoming **the most powerful and flexible open source data\n",
            "analysis / manipulation tool available in any language**. It is already well on\n",
            "its way toward this goal.\n",
            "\n",
            "Main Features\n",
            "-------------\n",
            "Here are just a few of the things that pandas does well:\n",
            "\n",
            "  - Easy handling of missing data in floating point as well as non-floating\n",
            "    point data.\n",
            "  - Size mutability: columns can be inserted and deleted from DataFrame and\n",
            "    higher dimensional objects\n",
            "  - Automatic and explicit data alignment: objects can be explicitly aligned\n",
            "    to a set of labels, or the user can simply ignore the labels and let\n",
            "    `Series`, `DataFrame`, etc. automatically align the data for you in\n",
            "    computations.\n",
            "  - Powerful, flexible group by functionality to perform split-apply-combine\n",
            "    operations on data sets, for both aggregating and transforming data.\n",
            "  - Make it easy to convert ragged, differently-indexed data in other Python\n",
            "    and NumPy data structures into DataFrame objects.\n",
            "  - Intelligent label-based slicing, fancy indexing, and subsetting of large\n",
            "    data sets.\n",
            "  - Intuitive merging and joining data sets.\n",
            "  - Flexible reshaping and pivoting of data sets.\n",
            "  - Hierarchical labeling of axes (possible to have multiple labels per tick).\n",
            "  - Robust IO tools for loading data from flat files (CSV and delimited),\n",
            "    Excel files, databases, and saving/loading data from the ultrafast HDF5\n",
            "    format.\n",
            "  - Time series-specific functionality: date range generation and frequency\n",
            "    conversion, moving window statistics, date shifting and lagging.\n",
            "\n"
          ],
          "name": "stdout"
        }
      ]
    },
    {
      "cell_type": "markdown",
      "metadata": {
        "id": "aIROkPnRt1q5"
      },
      "source": [
        "# Create a Series from ndarray"
      ]
    },
    {
      "cell_type": "code",
      "metadata": {
        "colab": {
          "base_uri": "https://localhost:8080/"
        },
        "id": "Fn9ItX5kt1q6",
        "outputId": "7915bb7a-87eb-492e-ea79-e2d0b79d74ca"
      },
      "source": [
        "import pandas as pd\n",
        "s = pd.Series()\n",
        "print (s)"
      ],
      "execution_count": null,
      "outputs": [
        {
          "output_type": "stream",
          "text": [
            "Series([], dtype: float64)\n"
          ],
          "name": "stdout"
        },
        {
          "output_type": "stream",
          "text": [
            "/usr/local/lib/python3.6/dist-packages/ipykernel_launcher.py:2: DeprecationWarning: The default dtype for empty Series will be 'object' instead of 'float64' in a future version. Specify a dtype explicitly to silence this warning.\n",
            "  \n"
          ],
          "name": "stderr"
        }
      ]
    },
    {
      "cell_type": "code",
      "metadata": {
        "colab": {
          "base_uri": "https://localhost:8080/"
        },
        "id": "gooX5-c_t1q6",
        "outputId": "0bf33a9c-dcc7-4adf-a1c0-60864d83e13f"
      },
      "source": [
        "import pandas as pd\n",
        "import numpy as np\n",
        "data = np.array(['a','b','c','d'])\n",
        "s = pd.Series(data)\n",
        "print(s)"
      ],
      "execution_count": null,
      "outputs": [
        {
          "output_type": "stream",
          "text": [
            "0    a\n",
            "1    b\n",
            "2    c\n",
            "3    d\n",
            "dtype: object\n"
          ],
          "name": "stdout"
        }
      ]
    },
    {
      "cell_type": "code",
      "metadata": {
        "colab": {
          "base_uri": "https://localhost:8080/"
        },
        "id": "nx873OIkt1q_",
        "outputId": "cac7fe70-18e1-4b65-b11d-3449d1714ea9"
      },
      "source": [
        "data = np.array(['a','b','c','d'])\n",
        "s = pd.Series(data,index=[100,101,102,103])\n",
        "print (s)"
      ],
      "execution_count": null,
      "outputs": [
        {
          "output_type": "stream",
          "text": [
            "100    a\n",
            "101    b\n",
            "102    c\n",
            "103    d\n",
            "dtype: object\n"
          ],
          "name": "stdout"
        }
      ]
    },
    {
      "cell_type": "markdown",
      "metadata": {
        "id": "8UaxPApyt1rA"
      },
      "source": [
        "###### Datasourse=ndarray\n",
        "###### index=same length of datasourse    \n",
        "\n",
        "but by default range(n) where n is array length   \n",
        "\n",
        "## [range(len(array))-1]."
      ]
    },
    {
      "cell_type": "markdown",
      "metadata": {
        "id": "yIcBiT5Vt1rA"
      },
      "source": [
        "# Create a Series from dict"
      ]
    },
    {
      "cell_type": "code",
      "metadata": {
        "colab": {
          "base_uri": "https://localhost:8080/"
        },
        "id": "SeQSG7Pft1rA",
        "outputId": "8ba0e7cb-1514-4664-992d-415f47737b68"
      },
      "source": [
        "data = {'a' : 0., 'b' : 1., 'c' : 2.}\n",
        "s = pd.Series(data)\n",
        "print (s)"
      ],
      "execution_count": null,
      "outputs": [
        {
          "output_type": "stream",
          "text": [
            "a    0.0\n",
            "b    1.0\n",
            "c    2.0\n",
            "dtype: float64\n"
          ],
          "name": "stdout"
        }
      ]
    },
    {
      "cell_type": "markdown",
      "metadata": {
        "id": "tHkuq0lQt1rA"
      },
      "source": [
        "### Dictionary keys are used to construct index."
      ]
    },
    {
      "cell_type": "code",
      "metadata": {
        "colab": {
          "base_uri": "https://localhost:8080/"
        },
        "id": "lOceXitCt1rA",
        "outputId": "7594fca9-b8bd-4318-f309-cf21e04b5b83"
      },
      "source": [
        "data = {'a' : 0., 'b' : 1., 'c' : 2.}                               \n",
        " \n",
        "s = pd.Series(data,index=['b','c','d','a'])\n",
        " \n",
        "r = pd.Series(data,index=['a','b','c','d','e'])\n",
        "print (s)\n",
        "print(\"---------\")\n",
        "print (r)"
      ],
      "execution_count": null,
      "outputs": [
        {
          "output_type": "stream",
          "text": [
            "b    1.0\n",
            "c    2.0\n",
            "d    NaN\n",
            "a    0.0\n",
            "dtype: float64\n",
            "---------\n",
            "a    0.0\n",
            "b    1.0\n",
            "c    2.0\n",
            "d    NaN\n",
            "e    NaN\n",
            "dtype: float64\n"
          ],
          "name": "stdout"
        }
      ]
    },
    {
      "cell_type": "markdown",
      "metadata": {
        "id": "RBW3QEKFt1rA"
      },
      "source": [
        "### Index order is persisted and the missing element is filled with NaN (Not a Number)."
      ]
    },
    {
      "cell_type": "markdown",
      "metadata": {
        "id": "H2X07WIDt1rB"
      },
      "source": [
        "# Create a Series from Scalar"
      ]
    },
    {
      "cell_type": "code",
      "metadata": {
        "colab": {
          "base_uri": "https://localhost:8080/"
        },
        "id": "iGRcADyot1rB",
        "outputId": "87f89ac2-79a8-4261-c5bc-191cf790f26e"
      },
      "source": [
        "s = pd.Series(5, index=[0, 1, 2, 3])\n",
        "print (s)"
      ],
      "execution_count": null,
      "outputs": [
        {
          "output_type": "stream",
          "text": [
            "0    5\n",
            "1    5\n",
            "2    5\n",
            "3    5\n",
            "dtype: int64\n"
          ],
          "name": "stdout"
        }
      ]
    },
    {
      "cell_type": "markdown",
      "metadata": {
        "id": "hreW6LNKt1rB"
      },
      "source": [
        "### If data is a scalar value, an index must be provided. The value will be repeated to match the length of index"
      ]
    },
    {
      "cell_type": "markdown",
      "metadata": {
        "id": "RJSzuT7nt1rB"
      },
      "source": [
        "# Accessing Data from Series with Position"
      ]
    },
    {
      "cell_type": "code",
      "metadata": {
        "id": "3Oboicrlt1rB",
        "colab": {
          "base_uri": "https://localhost:8080/"
        },
        "outputId": "944edea2-e33a-44b6-9550-205e90ebab59"
      },
      "source": [
        "import pandas as pd\n",
        "s = pd.Series([1,2,3,4,5],index = ['a','b','c','d','e'])\n",
        " \n",
        "#retrieve the first element\n",
        "print(s[[0,2]])"
      ],
      "execution_count": null,
      "outputs": [
        {
          "output_type": "stream",
          "text": [
            "a    1\n",
            "c    3\n",
            "dtype: int64\n"
          ],
          "name": "stdout"
        }
      ]
    },
    {
      "cell_type": "code",
      "metadata": {
        "colab": {
          "base_uri": "https://localhost:8080/"
        },
        "id": "LB1HSu-Jt1rB",
        "outputId": "c6c5f22a-8203-4261-bcf2-4169e35d6983"
      },
      "source": [
        "s = pd.Series([1,2,3,4,5],index = ['a','b','c','d','e'])\n",
        "\n",
        "#retrieve the first three element\n",
        "print (s[:3])"
      ],
      "execution_count": null,
      "outputs": [
        {
          "output_type": "stream",
          "text": [
            "a    1\n",
            "b    2\n",
            "c    3\n",
            "dtype: int64\n"
          ],
          "name": "stdout"
        }
      ]
    },
    {
      "cell_type": "code",
      "metadata": {
        "colab": {
          "base_uri": "https://localhost:8080/"
        },
        "id": "p1SrK7vgt1rD",
        "outputId": "9e84d777-0ede-49ff-a81b-21301018bd2d"
      },
      "source": [
        "s = pd.Series([1,2,3,4,5],index = ['a','b','c','d','e'])\n",
        " \n",
        "#retrieve the last three element\n",
        "print (s[-3:])"
      ],
      "execution_count": null,
      "outputs": [
        {
          "output_type": "stream",
          "text": [
            "c    3\n",
            "d    4\n",
            "e    5\n",
            "dtype: int64\n"
          ],
          "name": "stdout"
        }
      ]
    },
    {
      "cell_type": "markdown",
      "metadata": {
        "id": "Bwns6mgSt1rE"
      },
      "source": [
        "# Retrieve Data Using Label (Index)"
      ]
    },
    {
      "cell_type": "code",
      "metadata": {
        "colab": {
          "base_uri": "https://localhost:8080/"
        },
        "id": "wJbeqv3It1rE",
        "outputId": "0364c34b-6e0a-488c-d537-cdeb1a391470"
      },
      "source": [
        "s = pd.Series([1,2,3,4,5],index = ['a','b','c','d','e'])\n",
        "\n",
        "#retrieve a single element\n",
        "print (s['a'])"
      ],
      "execution_count": null,
      "outputs": [
        {
          "output_type": "stream",
          "text": [
            "1\n"
          ],
          "name": "stdout"
        }
      ]
    },
    {
      "cell_type": "code",
      "metadata": {
        "colab": {
          "base_uri": "https://localhost:8080/"
        },
        "id": "LFckH6p-t1rE",
        "outputId": "bc1dd9b7-cb58-4d76-f09a-f5e78db35a73"
      },
      "source": [
        "s = pd.Series([1,2,3,4,5],index = ['a','b','c','d','e'])\n",
        "\n",
        "#retrieve multiple elements\n",
        "print (s[['a','c','d']])"
      ],
      "execution_count": null,
      "outputs": [
        {
          "output_type": "stream",
          "text": [
            "a    1\n",
            "c    3\n",
            "d    4\n",
            "dtype: int64\n"
          ],
          "name": "stdout"
        }
      ]
    },
    {
      "cell_type": "code",
      "metadata": {
        "colab": {
          "base_uri": "https://localhost:8080/"
        },
        "id": "ZKC8KlVKt1rE",
        "outputId": "0f4c3f07-11ce-49cc-bb8c-e814808d3465"
      },
      "source": [
        "s = pd.Series([1,2,3,4,5],index = ['a','b','c','d','e'])\n",
        "\n",
        "#retrieve multiple elements\n",
        "print (s)"
      ],
      "execution_count": null,
      "outputs": [
        {
          "output_type": "stream",
          "text": [
            "a    1\n",
            "b    2\n",
            "c    3\n",
            "d    4\n",
            "e    5\n",
            "dtype: int64\n"
          ],
          "name": "stdout"
        }
      ]
    },
    {
      "cell_type": "markdown",
      "metadata": {
        "id": "Ni-g8X6-t1rF"
      },
      "source": [
        "# DataFrame"
      ]
    },
    {
      "cell_type": "markdown",
      "metadata": {
        "id": "Z1k5GVO7t1rF"
      },
      "source": [
        "## A Data frame is a two-dimensional data structure.\n",
        "## data is aligned in a tabular fashion in rows and columns.\n",
        "\n",
        "### Potentially columns are of different types\n",
        "### Size – Mutable\n",
        "### Labeled axes (rows and columns)\n",
        "### Can Perform Arithmetic operations on rows and columns"
      ]
    },
    {
      "cell_type": "markdown",
      "metadata": {
        "id": "d3nHd5dGt1rF"
      },
      "source": [
        "##  pandas.DataFrame( data, index, columns, dtype, copy)"
      ]
    },
    {
      "cell_type": "code",
      "metadata": {
        "colab": {
          "base_uri": "https://localhost:8080/",
          "height": 710
        },
        "id": "QKEZZFdqt1rF",
        "outputId": "6554cd08-0368-4910-9771-b0a45f63e391"
      },
      "source": [
        "from beautifultable import BeautifulTable\n",
        "table = BeautifulTable()\n",
        "table.column_headers = [\"col1\", \"col2\", \"col3\"]\n",
        "table.append_row([\"row1\",\"row1\",\"row1\"])\n",
        "table.append_row([\"row2\",\"row2\",\"row2\"])\n",
        "table.append_row([\"row3\",\"row2\",\"row3\"])\n",
        "table.append_row([\"row4\",\"row4\",\"row4\"])\n",
        "table.append_row([\"row5\",\"row5\",\"row5\"])\n",
        "table.append_row([\"row6\",\"row6\",\"row6\"])\n",
        "table.append_row([\"row7\",\"row7\",\"row7\"])\n",
        "table.append_row([\"row8\",\"row8\",\"row8\"])\n",
        "table.append_row([\"row9\",\"row9\",\"row9\"])\n",
        " \n",
        "print(table)"
      ],
      "execution_count": null,
      "outputs": [
        {
          "output_type": "error",
          "ename": "ModuleNotFoundError",
          "evalue": "ignored",
          "traceback": [
            "\u001b[0;31m---------------------------------------------------------------------------\u001b[0m",
            "\u001b[0;31mModuleNotFoundError\u001b[0m                       Traceback (most recent call last)",
            "\u001b[0;32m<ipython-input-4-ad964ec12175>\u001b[0m in \u001b[0;36m<module>\u001b[0;34m()\u001b[0m\n\u001b[0;32m----> 1\u001b[0;31m \u001b[0;32mfrom\u001b[0m \u001b[0mbeautifultable\u001b[0m \u001b[0;32mimport\u001b[0m \u001b[0mBeautifulTable\u001b[0m\u001b[0;34m\u001b[0m\u001b[0;34m\u001b[0m\u001b[0m\n\u001b[0m\u001b[1;32m      2\u001b[0m \u001b[0mtable\u001b[0m \u001b[0;34m=\u001b[0m \u001b[0mBeautifulTable\u001b[0m\u001b[0;34m(\u001b[0m\u001b[0;34m)\u001b[0m\u001b[0;34m\u001b[0m\u001b[0;34m\u001b[0m\u001b[0m\n\u001b[1;32m      3\u001b[0m \u001b[0mtable\u001b[0m\u001b[0;34m.\u001b[0m\u001b[0mcolumn_headers\u001b[0m \u001b[0;34m=\u001b[0m \u001b[0;34m[\u001b[0m\u001b[0;34m\"col1\"\u001b[0m\u001b[0;34m,\u001b[0m \u001b[0;34m\"col2\"\u001b[0m\u001b[0;34m,\u001b[0m \u001b[0;34m\"col3\"\u001b[0m\u001b[0;34m]\u001b[0m\u001b[0;34m\u001b[0m\u001b[0;34m\u001b[0m\u001b[0m\n\u001b[1;32m      4\u001b[0m \u001b[0mtable\u001b[0m\u001b[0;34m.\u001b[0m\u001b[0mappend_row\u001b[0m\u001b[0;34m(\u001b[0m\u001b[0;34m[\u001b[0m\u001b[0;34m\"row1\"\u001b[0m\u001b[0;34m,\u001b[0m\u001b[0;34m\"row1\"\u001b[0m\u001b[0;34m,\u001b[0m\u001b[0;34m\"row1\"\u001b[0m\u001b[0;34m]\u001b[0m\u001b[0;34m)\u001b[0m\u001b[0;34m\u001b[0m\u001b[0;34m\u001b[0m\u001b[0m\n\u001b[1;32m      5\u001b[0m \u001b[0mtable\u001b[0m\u001b[0;34m.\u001b[0m\u001b[0mappend_row\u001b[0m\u001b[0;34m(\u001b[0m\u001b[0;34m[\u001b[0m\u001b[0;34m\"row2\"\u001b[0m\u001b[0;34m,\u001b[0m\u001b[0;34m\"row2\"\u001b[0m\u001b[0;34m,\u001b[0m\u001b[0;34m\"row2\"\u001b[0m\u001b[0;34m]\u001b[0m\u001b[0;34m)\u001b[0m\u001b[0;34m\u001b[0m\u001b[0;34m\u001b[0m\u001b[0m\n",
            "\u001b[0;31mModuleNotFoundError\u001b[0m: No module named 'beautifultable'",
            "",
            "\u001b[0;31m---------------------------------------------------------------------------\u001b[0;32m\nNOTE: If your import is failing due to a missing package, you can\nmanually install dependencies using either !pip or !apt.\n\nTo view examples of installing some common dependencies, click the\n\"Open Examples\" button below.\n\u001b[0;31m---------------------------------------------------------------------------\u001b[0m\n"
          ]
        }
      ]
    },
    {
      "cell_type": "markdown",
      "metadata": {
        "id": "Qq7Mg168t1rF"
      },
      "source": [
        "## Create an Empty DataFrame"
      ]
    },
    {
      "cell_type": "code",
      "metadata": {
        "colab": {
          "base_uri": "https://localhost:8080/"
        },
        "id": "o9P94_A8t1rH",
        "outputId": "e73b807b-5e0d-4d79-a5f1-fb723dd49efa"
      },
      "source": [
        "import pandas as pd\n",
        "df = pd.DataFrame()\n",
        "p=pd.Series()\n",
        "print(df)"
      ],
      "execution_count": null,
      "outputs": [
        {
          "output_type": "stream",
          "text": [
            "Empty DataFrame\n",
            "Columns: []\n",
            "Index: []\n"
          ],
          "name": "stdout"
        },
        {
          "output_type": "stream",
          "text": [
            "/usr/local/lib/python3.6/dist-packages/ipykernel_launcher.py:3: DeprecationWarning: The default dtype for empty Series will be 'object' instead of 'float64' in a future version. Specify a dtype explicitly to silence this warning.\n",
            "  This is separate from the ipykernel package so we can avoid doing imports until\n"
          ],
          "name": "stderr"
        }
      ]
    },
    {
      "cell_type": "markdown",
      "metadata": {
        "id": "EOY_1lxSt1rH"
      },
      "source": [
        "## Create a DataFrame from Lists\n",
        "\n",
        "\n"
      ]
    },
    {
      "cell_type": "code",
      "metadata": {
        "colab": {
          "base_uri": "https://localhost:8080/"
        },
        "id": "_RkVswD2t1rH",
        "outputId": "151f01dd-fed4-4278-8a71-fe54d458007e"
      },
      "source": [
        "import pandas as pd\n",
        "data = [1,2,3,4,5]\n",
        "df = pd.DataFrame(data)\n",
        " \n",
        " \n",
        "print (df)"
      ],
      "execution_count": null,
      "outputs": [
        {
          "output_type": "stream",
          "text": [
            "   0\n",
            "0  1\n",
            "1  2\n",
            "2  3\n",
            "3  4\n",
            "4  5\n"
          ],
          "name": "stdout"
        }
      ]
    },
    {
      "cell_type": "code",
      "metadata": {
        "colab": {
          "base_uri": "https://localhost:8080/"
        },
        "id": "eM8oQIfDt1rH",
        "outputId": "df82e82b-2644-4794-cabf-6a7e6fbd35ac"
      },
      "source": [
        "import pandas as pd\n",
        "data = [['Alex',10],['Bob',12],['Clarke',13]]\n",
        "df = pd.DataFrame(data,columns=['Name','Age'],index=['a','b','c'])\n",
        "\n",
        "print (df)"
      ],
      "execution_count": null,
      "outputs": [
        {
          "output_type": "stream",
          "text": [
            "     Name  Age\n",
            "a    Alex   10\n",
            "b     Bob   12\n",
            "c  Clarke   13\n"
          ],
          "name": "stdout"
        }
      ]
    },
    {
      "cell_type": "code",
      "metadata": {
        "colab": {
          "base_uri": "https://localhost:8080/"
        },
        "id": "slku45x5t1rI",
        "outputId": "f5ca61ac-98ce-4ffc-bfb3-f0f132225ed0"
      },
      "source": [
        "data = [['Alex',10],['Bob',12],['Clarke',13]]\n",
        "df = pd.DataFrame(data,columns=['Name','Age'],dtype=float)\n",
        "print (df)"
      ],
      "execution_count": null,
      "outputs": [
        {
          "output_type": "stream",
          "text": [
            "     Name   Age\n",
            "0    Alex  10.0\n",
            "1     Bob  12.0\n",
            "2  Clarke  13.0\n"
          ],
          "name": "stdout"
        }
      ]
    },
    {
      "cell_type": "markdown",
      "metadata": {
        "id": "JkDQNR_At1rI"
      },
      "source": [
        "### Create a DataFrame from Dict of ndarrays / Lists"
      ]
    },
    {
      "cell_type": "code",
      "metadata": {
        "id": "4tX2KPeEt1rI",
        "outputId": "9b800726-c80e-4787-f01a-931b4acea239"
      },
      "source": [
        "data = {'Name':['Tom', 'Jack', 'Steve', 'Ricky'],'Age':[28,34,29,42]}\n",
        "df = pd.DataFrame(data)\n",
        "print (df)"
      ],
      "execution_count": null,
      "outputs": [
        {
          "output_type": "stream",
          "text": [
            "    Name  Age\n",
            "0    Tom   28\n",
            "1   Jack   34\n",
            "2  Steve   29\n",
            "3  Ricky   42\n"
          ],
          "name": "stdout"
        }
      ]
    },
    {
      "cell_type": "code",
      "metadata": {
        "id": "dhKdML3nt1rI",
        "colab": {
          "base_uri": "https://localhost:8080/"
        },
        "outputId": "0305fb36-1119-42aa-c071-bb5fe3bf62cb"
      },
      "source": [
        "data = {'Name':['Tom', 'Jack', 'Steve', 'Ricky'],'Age':[28,34,29,42]}\n",
        "df = pd.DataFrame(data, index=['rank1','rank2','rank3','rank4'])\n",
        "print (df)"
      ],
      "execution_count": null,
      "outputs": [
        {
          "output_type": "stream",
          "text": [
            "        Name  Age\n",
            "rank1    Tom   28\n",
            "rank2   Jack   34\n",
            "rank3  Steve   29\n",
            "rank4  Ricky   42\n"
          ],
          "name": "stdout"
        }
      ]
    },
    {
      "cell_type": "markdown",
      "metadata": {
        "id": "owfixUbet1rJ"
      },
      "source": [
        "### Create a DataFrame from List of Dicts"
      ]
    },
    {
      "cell_type": "code",
      "metadata": {
        "colab": {
          "base_uri": "https://localhost:8080/"
        },
        "id": "pufbTtAmt1rJ",
        "outputId": "4d88ac38-5dd9-410d-fe3e-84c327526e91"
      },
      "source": [
        "data = [{'a': 1, 'b': 2},{'a': 5, 'b': 10, 'c': 20},{'a': 5, 'b': 10, 'c': 20,'d':35}]\n",
        "df = pd.DataFrame(data)\n",
        "print (df)"
      ],
      "execution_count": null,
      "outputs": [
        {
          "output_type": "stream",
          "text": [
            "   a   b     c     d\n",
            "0  1   2   NaN   NaN\n",
            "1  5  10  20.0   NaN\n",
            "2  5  10  20.0  35.0\n"
          ],
          "name": "stdout"
        }
      ]
    },
    {
      "cell_type": "code",
      "metadata": {
        "colab": {
          "base_uri": "https://localhost:8080/"
        },
        "id": "IAbmPUPSt1rf",
        "outputId": "c86899d3-6a86-45a7-e534-ddf1a75da80c"
      },
      "source": [
        "data = [{'a': 1, 'b': 2},{'a': 5, 'b': 10, 'c': 20}]\n",
        "df = pd.DataFrame(data, index=['first', 'second'])\n",
        "print (df)"
      ],
      "execution_count": null,
      "outputs": [
        {
          "output_type": "stream",
          "text": [
            "        a   b     c\n",
            "first   1   2   NaN\n",
            "second  5  10  20.0\n"
          ],
          "name": "stdout"
        }
      ]
    },
    {
      "cell_type": "code",
      "metadata": {
        "colab": {
          "base_uri": "https://localhost:8080/"
        },
        "id": "tMsuPntMt1rg",
        "outputId": "e926da29-9bee-47b2-bd5e-664016a4bf90"
      },
      "source": [
        "data = [{'a': 1, 'b': 2},{'a': 5, 'b': 10, 'c': 20}]\n",
        " \n",
        "#With two column indices, values same as dictionary keys\n",
        "df1 = pd.DataFrame(data, index=['first', 'second'], columns=['a', 'b'])\n",
        " \n",
        "#With two column indices with one index with other name\n",
        "df2 = pd.DataFrame(data, index=['first', 'second'], columns=['c', 'd'])\n",
        "print (df1)\n",
        "print (df2)"
      ],
      "execution_count": null,
      "outputs": [
        {
          "output_type": "stream",
          "text": [
            "        a   b\n",
            "first   1   2\n",
            "second  5  10\n",
            "           c   d\n",
            "first    NaN NaN\n",
            "second  20.0 NaN\n"
          ],
          "name": "stdout"
        }
      ]
    },
    {
      "cell_type": "markdown",
      "metadata": {
        "id": "25ODEnxpt1rg"
      },
      "source": [
        "### Create a DataFrame from Dict of Series"
      ]
    },
    {
      "cell_type": "code",
      "metadata": {
        "colab": {
          "base_uri": "https://localhost:8080/"
        },
        "id": "83pgRoApt1rg",
        "outputId": "be430d3a-868c-4751-a776-d63c51304622"
      },
      "source": [
        "d = {'one' : pd.Series([1, 2, 3,], index=['a', 'b', 'c',]),\n",
        "     'two' : pd.Series([1, 2, 3, 4], index=['a', 'b', 'c', 'd']),\n",
        "     'three' : pd.Series([1, 2, 3, 4], index=['a', 'b', 'c', 'd'])}\n",
        "\n",
        "df = pd.DataFrame(d)\n",
        "print (df)"
      ],
      "execution_count": null,
      "outputs": [
        {
          "output_type": "stream",
          "text": [
            "   one  two  three\n",
            "a  1.0    1      1\n",
            "b  2.0    2      2\n",
            "c  3.0    3      3\n",
            "d  NaN    4      4\n"
          ],
          "name": "stdout"
        }
      ]
    },
    {
      "cell_type": "markdown",
      "metadata": {
        "id": "ucy7l-Nlt1rg"
      },
      "source": [
        "### Column Selection"
      ]
    },
    {
      "cell_type": "code",
      "metadata": {
        "colab": {
          "base_uri": "https://localhost:8080/"
        },
        "id": "eqccHzF9t1rg",
        "outputId": "209bb59f-b323-4df6-c6ec-da6e4cec61f0"
      },
      "source": [
        "d = {'one' : pd.Series([1, 2, 3], index=['a', 'b', 'c']),\n",
        "     'two' : pd.Series([1, 2, 3, 4], index=['a', 'b', 'c', 'd'])}\n",
        "df = pd.DataFrame(d)\n",
        "print (df ['one'])"
      ],
      "execution_count": null,
      "outputs": [
        {
          "output_type": "stream",
          "text": [
            "a    1.0\n",
            "b    2.0\n",
            "c    3.0\n",
            "d    NaN\n",
            "Name: one, dtype: float64\n"
          ],
          "name": "stdout"
        }
      ]
    },
    {
      "cell_type": "markdown",
      "metadata": {
        "id": "HZPvKE01t1rg"
      },
      "source": [
        "### Column Addition"
      ]
    },
    {
      "cell_type": "code",
      "metadata": {
        "colab": {
          "base_uri": "https://localhost:8080/"
        },
        "id": "E6VDk2N9t1rh",
        "outputId": "1bff07b9-072c-4dbd-b5c8-ea16e9af46ce"
      },
      "source": [
        "d = {'one' : pd.Series([1, 2, 3], index=['a', 'b', 'c']),\n",
        "     'two' : pd.Series([1, 2, 3, 4], index=['a', 'b', 'c', 'd'])}\n",
        " \n",
        "df = pd.DataFrame(d)\n",
        " \n",
        "# Adding a new column to an existing DataFrame object with column label by passing new series\n",
        " \n",
        "print (\"Adding a new column by passing as Series:\")\n",
        "print (\"------------------------------------------\")\n",
        "df['three']=pd.Series([10,20,30],index=['a','b','c'])\n",
        "print (df)\n",
        "print (\"-------------------------------------------------------------\")\n",
        "print (\"Adding a new column using the existing columns in DataFrame:\")\n",
        "print (\"-------------------------------------------------------------\")\n",
        "df['four']=df['one']+df['three']\n",
        " \n",
        "print (df)"
      ],
      "execution_count": null,
      "outputs": [
        {
          "output_type": "stream",
          "text": [
            "Adding a new column by passing as Series:\n",
            "------------------------------------------\n",
            "   one  two  three\n",
            "a  1.0    1   10.0\n",
            "b  2.0    2   20.0\n",
            "c  3.0    3   30.0\n",
            "d  NaN    4    NaN\n",
            "-------------------------------------------------------------\n",
            "Adding a new column using the existing columns in DataFrame:\n",
            "-------------------------------------------------------------\n",
            "   one  two  three  four\n",
            "a  1.0    1   10.0  11.0\n",
            "b  2.0    2   20.0  22.0\n",
            "c  3.0    3   30.0  33.0\n",
            "d  NaN    4    NaN   NaN\n"
          ],
          "name": "stdout"
        }
      ]
    },
    {
      "cell_type": "markdown",
      "metadata": {
        "id": "vhjAN4kzt1rq"
      },
      "source": [
        "### Column Deletion"
      ]
    },
    {
      "cell_type": "code",
      "metadata": {
        "colab": {
          "base_uri": "https://localhost:8080/"
        },
        "id": "vjyhPsjBt1rq",
        "outputId": "27eef38c-4534-44df-ee35-8e810d53e208"
      },
      "source": [
        "d = {'one' : pd.Series([1, 2, 3], index=['a', 'b', 'c']),\n",
        "     'two' : pd.Series([1, 2, 3, 4], index=['a', 'b', 'c', 'd']), \n",
        "     'three' : pd.Series([10,20,30], index=['a','b','c'])}\n",
        " \n",
        "df = pd.DataFrame(d)\n",
        "print (\"Our dataframe is:\")\n",
        "print (\"------------------------------------\")\n",
        "print (df)\n",
        " \n",
        "# using del function\n",
        "print (\"Deleting the first column using DEL function:\")\n",
        "print (\"--------------------------------------\")\n",
        "del df['one']\n",
        "print (df)\n",
        " \n",
        "# using pop function\n",
        "print (\"Deleting another column using POP function:\")\n",
        "print (\"----------------------------------------\")\n",
        "df.pop('two')\n",
        "print(df)"
      ],
      "execution_count": null,
      "outputs": [
        {
          "output_type": "stream",
          "text": [
            "Our dataframe is:\n",
            "------------------------------------\n",
            "   one  two  three\n",
            "a  1.0    1   10.0\n",
            "b  2.0    2   20.0\n",
            "c  3.0    3   30.0\n",
            "d  NaN    4    NaN\n",
            "Deleting the first column using DEL function:\n",
            "--------------------------------------\n",
            "   two  three\n",
            "a    1   10.0\n",
            "b    2   20.0\n",
            "c    3   30.0\n",
            "d    4    NaN\n",
            "Deleting another column using POP function:\n",
            "----------------------------------------\n",
            "   three\n",
            "a   10.0\n",
            "b   20.0\n",
            "c   30.0\n",
            "d    NaN\n"
          ],
          "name": "stdout"
        }
      ]
    },
    {
      "cell_type": "markdown",
      "metadata": {
        "id": "08QKStcpt1rr"
      },
      "source": [
        "### Row Selection, Addition, and Deletion"
      ]
    },
    {
      "cell_type": "markdown",
      "metadata": {
        "id": "YjZ6xiOft1rr"
      },
      "source": [
        "#### Selection by Label"
      ]
    },
    {
      "cell_type": "code",
      "metadata": {
        "colab": {
          "base_uri": "https://localhost:8080/"
        },
        "id": "sHLiqgqOt1rr",
        "outputId": "e9652e87-6627-4207-ab60-0d907256b310"
      },
      "source": [
        "d = {'one' : pd.Series([1, 2, 3], index=['a', 'b', 'c']),\n",
        "     'two' : pd.Series([1, 2, 3, 4], index=['a', 'b', 'c', 'd'])}\n",
        "\n",
        "df = pd.DataFrame(d)\n",
        "print(df)\n",
        "print(\"---------------------------------\")\n",
        "print (df.loc['a'])"
      ],
      "execution_count": null,
      "outputs": [
        {
          "output_type": "stream",
          "text": [
            "   one  two\n",
            "a  1.0    1\n",
            "b  2.0    2\n",
            "c  3.0    3\n",
            "d  NaN    4\n",
            "---------------------------------\n",
            "one    1.0\n",
            "two    1.0\n",
            "Name: a, dtype: float64\n"
          ],
          "name": "stdout"
        }
      ]
    },
    {
      "cell_type": "markdown",
      "metadata": {
        "id": "N60GjBbZt1rr"
      },
      "source": [
        "#### Selection by integer location"
      ]
    },
    {
      "cell_type": "code",
      "metadata": {
        "colab": {
          "base_uri": "https://localhost:8080/"
        },
        "id": "SFbE-JM-t1rr",
        "outputId": "c9fb02d1-3a56-405f-f381-f03b7db9f142"
      },
      "source": [
        "d = {'one' : pd.Series([1, 2, 3], index=['a', 'b', 'c']),\n",
        "     'two' : pd.Series([1, 2, 3, 4], index=['a', 'b', 'c', 'd'])}\n",
        " \n",
        "df = pd.DataFrame(d)\n",
        "print(df)\n",
        "print(\"---------------------------------\")\n",
        "print (df.iloc[2])"
      ],
      "execution_count": null,
      "outputs": [
        {
          "output_type": "stream",
          "text": [
            "   one  two\n",
            "a  1.0    1\n",
            "b  2.0    2\n",
            "c  3.0    3\n",
            "d  NaN    4\n",
            "---------------------------------\n",
            "one    3.0\n",
            "two    3.0\n",
            "Name: c, dtype: float64\n"
          ],
          "name": "stdout"
        }
      ]
    },
    {
      "cell_type": "markdown",
      "metadata": {
        "id": "sN50AsEkt1rs"
      },
      "source": [
        "#### Slice Rows"
      ]
    },
    {
      "cell_type": "code",
      "metadata": {
        "colab": {
          "base_uri": "https://localhost:8080/"
        },
        "id": "aTdZghfwt1rs",
        "outputId": "eca3b06e-8aa4-4b3e-ec5c-8c033d1e64e9"
      },
      "source": [
        "d = {'one' : pd.Series([1, 2, 3], index=['a', 'b', 'c']), \n",
        "     'two' : pd.Series([1, 2, 3, 4], index=['a', 'b', 'c', 'd'])}\n",
        "\n",
        "df = pd.DataFrame(d)\n",
        "print(df)\n",
        "print(\"---------------------------------\")\n",
        "print(df[2:4])"
      ],
      "execution_count": null,
      "outputs": [
        {
          "output_type": "stream",
          "text": [
            "   one  two\n",
            "a  1.0    1\n",
            "b  2.0    2\n",
            "c  3.0    3\n",
            "d  NaN    4\n",
            "---------------------------------\n",
            "   one  two\n",
            "c  3.0    3\n",
            "d  NaN    4\n"
          ],
          "name": "stdout"
        }
      ]
    },
    {
      "cell_type": "markdown",
      "metadata": {
        "id": "u3ExsGort1rs"
      },
      "source": [
        "#### Addition of Rows"
      ]
    },
    {
      "cell_type": "code",
      "metadata": {
        "colab": {
          "base_uri": "https://localhost:8080/"
        },
        "id": "OM1NuT42t1rs",
        "outputId": "6a432821-74bc-4e7f-91ad-27474459ef9f"
      },
      "source": [
        "df = pd.DataFrame([[1, 2], [3, 4]], columns = ['a','b'])\n",
        "df2 = pd.DataFrame([[5, 6], [7, 8]], columns = ['a','b'])\n",
        "\n",
        "df = df.append(df2)\n",
        "print (df)"
      ],
      "execution_count": null,
      "outputs": [
        {
          "output_type": "stream",
          "text": [
            "   a  b\n",
            "0  1  2\n",
            "1  3  4\n",
            "0  5  6\n",
            "1  7  8\n"
          ],
          "name": "stdout"
        }
      ]
    },
    {
      "cell_type": "markdown",
      "metadata": {
        "id": "DAvbXoJBt1rt"
      },
      "source": [
        "#### Deletion of Rows"
      ]
    },
    {
      "cell_type": "code",
      "metadata": {
        "colab": {
          "base_uri": "https://localhost:8080/"
        },
        "id": "i5JNCKs-t1rt",
        "outputId": "94d78cd1-a551-424e-dc9d-304e40afce29"
      },
      "source": [
        "df = pd.DataFrame([[1, 2], [3, 4]], columns = ['a','b'])\n",
        "df2 = pd.DataFrame([[5, 6], [7, 8]], columns = ['a','b'])\n",
        "\n",
        "df = df.append(df2)\n",
        "print (df)\n",
        "print(\"-----------------------\")\n",
        "# Drop rows with label 0\n",
        "df = df.drop(0)\n",
        "\n",
        "print (df)"
      ],
      "execution_count": null,
      "outputs": [
        {
          "output_type": "stream",
          "text": [
            "   a  b\n",
            "0  1  2\n",
            "1  3  4\n",
            "0  5  6\n",
            "1  7  8\n",
            "-----------------------\n",
            "   a  b\n",
            "1  3  4\n",
            "1  7  8\n"
          ],
          "name": "stdout"
        }
      ]
    },
    {
      "cell_type": "markdown",
      "metadata": {
        "id": "anhq1SQWt1rz"
      },
      "source": [
        "# Series Basic Functionality*"
      ]
    },
    {
      "cell_type": "markdown",
      "metadata": {
        "id": "5FPnujyNt1rz"
      },
      "source": [
        "##### 1.axes(Returns a list of the row axis labels)\n",
        "##### 2.dtype(Returns the dtype of the object.)\n",
        "##### 3.empty(Returns True if series is empty.)\n",
        "##### 4.ndim(Returns the number of dimensions of the underlying data, by definition 1.)\n",
        "##### 5.size(Returns the number of elements in the underlying data.)\n",
        "##### 6.values(Returns the Series as ndarray.)\n",
        "##### 7.head()(Returns the first n rows.)\n",
        "##### 8.tail()(Returns the last n rows)"
      ]
    },
    {
      "cell_type": "code",
      "metadata": {
        "colab": {
          "base_uri": "https://localhost:8080/"
        },
        "id": "eWxh8AP7t1rz",
        "outputId": "33f34a56-2e94-47e4-cbe4-1e1c508447c1"
      },
      "source": [
        "import pandas as pd\n",
        "import numpy as np\n",
        "\n",
        "#Create a series with 4 random numbers\n",
        "s = pd.Series(np.random.randn(4))\n",
        "print (s)"
      ],
      "execution_count": null,
      "outputs": [
        {
          "output_type": "stream",
          "text": [
            "0   -0.317853\n",
            "1   -2.642315\n",
            "2   -0.589768\n",
            "3   -0.478489\n",
            "dtype: float64\n"
          ],
          "name": "stdout"
        }
      ]
    },
    {
      "cell_type": "markdown",
      "metadata": {
        "id": "gsZdm4sKt1rz"
      },
      "source": [
        "## axes"
      ]
    },
    {
      "cell_type": "code",
      "metadata": {
        "id": "c9WDjEQIt1rz",
        "outputId": "9c5ee4ca-de22-4e39-8da6-47bfc342b743"
      },
      "source": [
        "#Create a series with 4 random numbers\n",
        "s = pd.Series(np.random.randn(4))\n",
        "print (\"The axes are:\")\n",
        "print (s.axes)\n",
        "print (s)"
      ],
      "execution_count": null,
      "outputs": [
        {
          "output_type": "stream",
          "text": [
            "The axes are:\n",
            "[RangeIndex(start=0, stop=4, step=1)]\n",
            "0    0.528438\n",
            "1    0.894174\n",
            "2    0.639060\n",
            "3    0.056696\n",
            "dtype: float64\n"
          ],
          "name": "stdout"
        }
      ]
    },
    {
      "cell_type": "markdown",
      "metadata": {
        "id": "S3RE5cF9t1rz"
      },
      "source": [
        "## empty"
      ]
    },
    {
      "cell_type": "code",
      "metadata": {
        "id": "2tsXeNckt1rz",
        "outputId": "a33f4a7c-a4bb-4cfd-a6d2-967df26c957b"
      },
      "source": [
        "#Create a series with 4 random numbers\n",
        "s = pd.Series(np.random.randn(4))\n",
        "print (\"Is the Object empty?\")\n",
        "print (s.empty)"
      ],
      "execution_count": null,
      "outputs": [
        {
          "output_type": "stream",
          "text": [
            "Is the Object empty?\n",
            "False\n"
          ],
          "name": "stdout"
        }
      ]
    },
    {
      "cell_type": "markdown",
      "metadata": {
        "id": "CLhMs5zZt1r1"
      },
      "source": [
        "## ndim"
      ]
    },
    {
      "cell_type": "code",
      "metadata": {
        "id": "Kq9HIzRft1r1",
        "outputId": "f7b22795-36a2-4bbf-9d59-ef9225994440"
      },
      "source": [
        "#Create a series with 4 random numbers\n",
        "s = pd.Series(np.random.randn(4))\n",
        "print (s)\n",
        "\n",
        "print (\"The dimensions of the object:\")\n",
        "print (s.ndim)"
      ],
      "execution_count": null,
      "outputs": [
        {
          "output_type": "stream",
          "text": [
            "0    0.154259\n",
            "1    1.347884\n",
            "2    0.641988\n",
            "3   -0.622020\n",
            "dtype: float64\n",
            "The dimensions of the object:\n",
            "1\n"
          ],
          "name": "stdout"
        }
      ]
    },
    {
      "cell_type": "markdown",
      "metadata": {
        "id": "DhkbEnJYt1r1"
      },
      "source": [
        "## size"
      ]
    },
    {
      "cell_type": "code",
      "metadata": {
        "id": "PSJIc_V1t1r1",
        "outputId": "3a46b883-215b-43b8-f463-e695ec066aa1"
      },
      "source": [
        "#Create a series with 4 random numbers\n",
        "s = pd.Series(np.random.randn(2))\n",
        "print (s)\n",
        "print (\"The size of the object:\")\n",
        "print (s.size)"
      ],
      "execution_count": null,
      "outputs": [
        {
          "output_type": "stream",
          "text": [
            "0    1.273891\n",
            "1    0.069509\n",
            "dtype: float64\n",
            "The size of the object:\n",
            "2\n"
          ],
          "name": "stdout"
        }
      ]
    },
    {
      "cell_type": "markdown",
      "metadata": {
        "id": "LpSz4UeKt1r2"
      },
      "source": [
        "## values"
      ]
    },
    {
      "cell_type": "code",
      "metadata": {
        "colab": {
          "base_uri": "https://localhost:8080/"
        },
        "id": "xOcREuv3t1r2",
        "outputId": "f7dce2aa-3fe2-4077-d033-ad6a151dfc4c"
      },
      "source": [
        "#Create a series with 4 random numbers\n",
        "s = pd.Series(np.random.randn(4))\n",
        "print (s)\n",
        "\n",
        "print (\"The actual data series is:\")\n",
        "print (s.values)"
      ],
      "execution_count": null,
      "outputs": [
        {
          "output_type": "stream",
          "text": [
            "0    0.211108\n",
            "1   -1.466126\n",
            "2   -1.669991\n",
            "3    1.323870\n",
            "dtype: float64\n",
            "The actual data series is:\n",
            "[ 0.21110801 -1.4661257  -1.66999077  1.32387041]\n"
          ],
          "name": "stdout"
        }
      ]
    },
    {
      "cell_type": "markdown",
      "metadata": {
        "id": "i6WVLUgmt1r2"
      },
      "source": [
        "## Head & Tail"
      ]
    },
    {
      "cell_type": "code",
      "metadata": {
        "colab": {
          "base_uri": "https://localhost:8080/"
        },
        "id": "UI2oSFoCt1r2",
        "outputId": "3c2ab6c7-d930-4865-86da-0a49de724725"
      },
      "source": [
        "#Create a series with 4 random numbers\n",
        "s = pd.Series(np.random.randn(4))\n",
        "print (\"The original series is:\")\n",
        "print (s)\n",
        "print(\"------------------------------\")\n",
        "print (\"The first two rows of the data series:\")\n",
        "print (s.head(2))\n",
        "print (s.tail(2))"
      ],
      "execution_count": null,
      "outputs": [
        {
          "output_type": "stream",
          "text": [
            "The original series is:\n",
            "0   -1.388903\n",
            "1   -0.348833\n",
            "2    1.565724\n",
            "3    0.373640\n",
            "dtype: float64\n",
            "------------------------------\n",
            "The first two rows of the data series:\n",
            "0   -1.388903\n",
            "1   -0.348833\n",
            "dtype: float64\n",
            "2    1.565724\n",
            "3    0.373640\n",
            "dtype: float64\n"
          ],
          "name": "stdout"
        }
      ]
    },
    {
      "cell_type": "code",
      "metadata": {
        "colab": {
          "base_uri": "https://localhost:8080/"
        },
        "id": "ERKM5SAMt1r3",
        "outputId": "f18d82aa-d728-45b7-affb-352218b13ed7"
      },
      "source": [
        "#Create a series with 4 random numbers\n",
        "s = pd.Series(np.random.randn(4))\n",
        "print (\"The original series is:\")\n",
        "print (s)\n",
        "\n",
        "print (\"The last two rows of the data series:\")\n",
        "print (s.tail(2))"
      ],
      "execution_count": null,
      "outputs": [
        {
          "output_type": "stream",
          "text": [
            "The original series is:\n",
            "0   -0.830466\n",
            "1    0.494064\n",
            "2   -0.230857\n",
            "3   -1.279266\n",
            "dtype: float64\n",
            "The last two rows of the data series:\n",
            "2   -0.230857\n",
            "3   -1.279266\n",
            "dtype: float64\n"
          ],
          "name": "stdout"
        }
      ]
    },
    {
      "cell_type": "markdown",
      "metadata": {
        "id": "sKE1txl0t1r4"
      },
      "source": [
        "# DataFrame Basic Functionality*"
      ]
    },
    {
      "cell_type": "markdown",
      "metadata": {
        "id": "SSq0v7Gvt1r4"
      },
      "source": [
        "#### 1.T-Transposes rows and columns.\n",
        "#### 2.axes-Returns a list with the row axis labels and column axis labels as the only members.\n",
        "#### 3.dtypes-Returns the dtypes in this object.\n",
        "#### 4.empty-True if NDFrame is entirely empty [no items]; if any of the axes are of length 0.\n",
        "#### 5.ndim-Number of axes / array dimensions.\n",
        "#### 6.shape-Returns a tuple representing the dimensionality of the DataFrame.\n",
        "#### 7.size-Number of elements in the NDFrame.\n",
        "#### 8.values-Numpy representation of NDFrame.\n",
        "#### 9.head()-Returns the first n rows.\n",
        "#### 10.tail()-Returns last n rows."
      ]
    },
    {
      "cell_type": "code",
      "metadata": {
        "scrolled": true,
        "colab": {
          "base_uri": "https://localhost:8080/"
        },
        "id": "TA5Oeoz2t1r4",
        "outputId": "610b9f07-065b-4d42-95e6-387d6b7efba3"
      },
      "source": [
        "#Create a Dictionary of series\n",
        "d = {'Name':pd.Series(['Tom','James','Ricky','Vin','Steve','Smith','Jack']),\n",
        "   'Age':pd.Series([25,26,25,23,30,29,23]),\n",
        "   'Rating':pd.Series([4.23,3.24,3.98,2.56,3.20,4.6,3.8])}\n",
        "\n",
        "#Create a DataFrame\n",
        "df = pd.DataFrame(d)\n",
        "print (\"Our data series is:\")\n",
        "print (df)"
      ],
      "execution_count": null,
      "outputs": [
        {
          "output_type": "stream",
          "text": [
            "Our data series is:\n",
            "    Name  Age  Rating\n",
            "0    Tom   25    4.23\n",
            "1  James   26    3.24\n",
            "2  Ricky   25    3.98\n",
            "3    Vin   23    2.56\n",
            "4  Steve   30    3.20\n",
            "5  Smith   29    4.60\n",
            "6   Jack   23    3.80\n"
          ],
          "name": "stdout"
        }
      ]
    },
    {
      "cell_type": "markdown",
      "metadata": {
        "id": "XluTgOQxt1r5"
      },
      "source": [
        "## T (Transpose)"
      ]
    },
    {
      "cell_type": "code",
      "metadata": {
        "colab": {
          "base_uri": "https://localhost:8080/"
        },
        "id": "3sgsIym3t1r5",
        "outputId": "a5467c77-6d3a-43f0-9882-1efcef4fa1eb"
      },
      "source": [
        "# Create a Dictionary of series\n",
        "d = {'Name':pd.Series(['Tom','James','Ricky','Vin','Steve','Smith','Jack']),\n",
        "   'Age':pd.Series([25,26,25,23,30,29,23]),\n",
        "   'Rating':pd.Series([4.23,3.24,3.98,2.56,3.20,4.6,3.8])}\n",
        "\n",
        "# Create a DataFrame\n",
        "df = pd.DataFrame(d)\n",
        "print (\"The transpose of the data series is:\")\n",
        "print (df.T)"
      ],
      "execution_count": null,
      "outputs": [
        {
          "output_type": "stream",
          "text": [
            "The transpose of the data series is:\n",
            "           0      1      2     3      4      5     6\n",
            "Name     Tom  James  Ricky   Vin  Steve  Smith  Jack\n",
            "Age       25     26     25    23     30     29    23\n",
            "Rating  4.23   3.24   3.98  2.56    3.2    4.6   3.8\n"
          ],
          "name": "stdout"
        }
      ]
    },
    {
      "cell_type": "markdown",
      "metadata": {
        "id": "ozYA04CNt1r5"
      },
      "source": [
        "## axes"
      ]
    },
    {
      "cell_type": "code",
      "metadata": {
        "colab": {
          "base_uri": "https://localhost:8080/"
        },
        "id": "5LzAE3oht1r5",
        "outputId": "c5d4d65c-3876-4e40-94cc-6322a611ed38"
      },
      "source": [
        "#Create a Dictionary of series\n",
        "d = {'Name':pd.Series(['Tom','James','Ricky','Vin','Steve','Smith','Jack']),\n",
        "   'Age':pd.Series([25,26,25,23,30,29,23]),\n",
        "   'Rating':pd.Series([4.23,3.24,3.98,2.56,3.20,4.6,3.8])}\n",
        "\n",
        "#Create a DataFrame\n",
        "df = pd.DataFrame(d)\n",
        "print(df)\n",
        "print(\"------------------------------------------\")\n",
        "print (\"Row axis labels and column axis labels are:\")\n",
        "print (df.axes)"
      ],
      "execution_count": null,
      "outputs": [
        {
          "output_type": "stream",
          "text": [
            "    Name  Age  Rating\n",
            "0    Tom   25    4.23\n",
            "1  James   26    3.24\n",
            "2  Ricky   25    3.98\n",
            "3    Vin   23    2.56\n",
            "4  Steve   30    3.20\n",
            "5  Smith   29    4.60\n",
            "6   Jack   23    3.80\n",
            "------------------------------------------\n",
            "Row axis labels and column axis labels are:\n",
            "[RangeIndex(start=0, stop=7, step=1), Index(['Name', 'Age', 'Rating'], dtype='object')]\n"
          ],
          "name": "stdout"
        }
      ]
    },
    {
      "cell_type": "markdown",
      "metadata": {
        "id": "M0_Zg9z4t1r6"
      },
      "source": [
        "## dtypes"
      ]
    },
    {
      "cell_type": "code",
      "metadata": {
        "id": "DIKqQglPt1r6",
        "colab": {
          "base_uri": "https://localhost:8080/"
        },
        "outputId": "e4122717-1f9e-4201-947f-3e31d3ea887b"
      },
      "source": [
        "#Create a Dictionary of series\n",
        "d = {'Name':pd.Series(['Tom','James','vin','Vin','Steve','Smith','Jack']),\n",
        "   'Age':pd.Series([25,26,25,23,30,29,23]),\n",
        "   'Rating':pd.Series([4.23,3.24,3.98,2.56,3.20,4.6,3.8])}\n",
        "\n",
        "#Create a DataFrame\n",
        "df = pd.DataFrame(d)\n",
        "print(df)\n",
        "print(\"------------------------------------------\")\n",
        "print (\"The data types of each column are:\")\n",
        "print (df.dtypes)"
      ],
      "execution_count": null,
      "outputs": [
        {
          "output_type": "stream",
          "text": [
            "    Name  Age  Rating\n",
            "0    Tom   25    4.23\n",
            "1  James   26    3.24\n",
            "2      7   25    3.98\n",
            "3    Vin   23    2.56\n",
            "4  Steve   30    3.20\n",
            "5  Smith   29    4.60\n",
            "6   Jack   23    3.80\n",
            "------------------------------------------\n",
            "The data types of each column are:\n",
            "Name       object\n",
            "Age         int64\n",
            "Rating    float64\n",
            "dtype: object\n"
          ],
          "name": "stdout"
        }
      ]
    },
    {
      "cell_type": "markdown",
      "metadata": {
        "id": "ATm7t4dwt1r6"
      },
      "source": [
        "## empty"
      ]
    },
    {
      "cell_type": "code",
      "metadata": {
        "id": "1YrtD1Rxt1r6",
        "outputId": "16594787-8263-4488-db87-bdaeeeaf6f01"
      },
      "source": [
        "#Create a Dictionary of series\n",
        "d = {'Name':pd.Series(['Tom','James','Ricky','Vin','Steve','Smith','Jack']),\n",
        "   'Age':pd.Series([25,26,25,23,30,29,23]),\n",
        "   'Rating':pd.Series([4.23,3.24,3.98,2.56,3.20,4.6,3.8])}\n",
        " \n",
        "#Create a DataFrame\n",
        "df = pd.DataFrame(d)\n",
        "df = pd.DataFrame(d)\n",
        "print(df)\n",
        "print(\"------------------------------------------\")\n",
        "print (\"Is the object empty?\")\n",
        "print (df.empty)"
      ],
      "execution_count": null,
      "outputs": [
        {
          "output_type": "stream",
          "text": [
            "    Name  Age  Rating\n",
            "0    Tom   25    4.23\n",
            "1  James   26    3.24\n",
            "2  Ricky   25    3.98\n",
            "3    Vin   23    2.56\n",
            "4  Steve   30    3.20\n",
            "5  Smith   29    4.60\n",
            "6   Jack   23    3.80\n",
            "------------------------------------------\n",
            "Is the object empty?\n",
            "False\n"
          ],
          "name": "stdout"
        }
      ]
    },
    {
      "cell_type": "markdown",
      "metadata": {
        "id": "YCil9GKFt1r6"
      },
      "source": [
        "## ndim"
      ]
    },
    {
      "cell_type": "code",
      "metadata": {
        "id": "zVR-B04dt1r6",
        "outputId": "169cd7cd-abf8-496a-d050-a7695d97d517"
      },
      "source": [
        "#Create a Dictionary of series\n",
        "d = {'Name':pd.Series(['Tom','James','Ricky','Vin','Steve','Smith','Jack']),\n",
        "   'Age':pd.Series([25,26,25,23,30,29,23]),\n",
        "   'Rating':pd.Series([4.23,3.24,3.98,2.56,3.20,4.6,3.8])}\n",
        "\n",
        "#Create a DataFrame\n",
        "df = pd.DataFrame(d)\n",
        "print (\"Our object is:\")\n",
        "print (df)\n",
        "print (\"The dimension of the object is:\")\n",
        "print (df.ndim)"
      ],
      "execution_count": null,
      "outputs": [
        {
          "output_type": "stream",
          "text": [
            "Our object is:\n",
            "    Name  Age  Rating\n",
            "0    Tom   25    4.23\n",
            "1  James   26    3.24\n",
            "2  Ricky   25    3.98\n",
            "3    Vin   23    2.56\n",
            "4  Steve   30    3.20\n",
            "5  Smith   29    4.60\n",
            "6   Jack   23    3.80\n",
            "The dimension of the object is:\n",
            "2\n"
          ],
          "name": "stdout"
        }
      ]
    },
    {
      "cell_type": "markdown",
      "metadata": {
        "id": "pkkgavTMt1r8"
      },
      "source": [
        "## shape"
      ]
    },
    {
      "cell_type": "code",
      "metadata": {
        "id": "FmJEnIxTt1r8",
        "outputId": "a13d58ef-319f-43a5-b7a9-9773021ac19f"
      },
      "source": [
        "#Create a Dictionary of series\n",
        "d = {'Name':pd.Series(['Tom','James','Ricky','Vin','Steve','Smith','Jack']),\n",
        "   'Age':pd.Series([25,26,25,23,30,29,23]),\n",
        "   'Rating':pd.Series([4.23,3.24,3.98,2.56,3.20,4.6,3.8])}\n",
        " \n",
        "#Create a DataFrame\n",
        "df = pd.DataFrame(d)\n",
        "print (\"Our object is:\")\n",
        "print (df)\n",
        "print (\"The shape of the object is:\")\n",
        "print (df.shape)"
      ],
      "execution_count": null,
      "outputs": [
        {
          "output_type": "stream",
          "text": [
            "Our object is:\n",
            "    Name  Age  Rating\n",
            "0    Tom   25    4.23\n",
            "1  James   26    3.24\n",
            "2  Ricky   25    3.98\n",
            "3    Vin   23    2.56\n",
            "4  Steve   30    3.20\n",
            "5  Smith   29    4.60\n",
            "6   Jack   23    3.80\n",
            "The shape of the object is:\n",
            "(7, 3)\n"
          ],
          "name": "stdout"
        }
      ]
    },
    {
      "cell_type": "markdown",
      "metadata": {
        "id": "yuvmY0NGt1r8"
      },
      "source": [
        "## size"
      ]
    },
    {
      "cell_type": "code",
      "metadata": {
        "id": "Hj1ghwTct1r9",
        "outputId": "1efd2299-9713-40a3-f336-a26525dbd6a3"
      },
      "source": [
        "#Create a Dictionary of series\n",
        "d = {'Name':pd.Series(['Tom','James','Ricky','Vin','Steve','Smith','Jack']),\n",
        "   'Age':pd.Series([25,26,25,23,30,29,23]),\n",
        "   'Rating':pd.Series([4.23,3.24,3.98,2.56,3.20,4.6,3.8])}\n",
        " \n",
        "#Create a DataFrame\n",
        "df = pd.DataFrame(d)\n",
        "print (\"Our object is:\")\n",
        "print (df)\n",
        "print (\"The total number of elements in our object is:\")\n",
        "print (df.size)"
      ],
      "execution_count": null,
      "outputs": [
        {
          "output_type": "stream",
          "text": [
            "Our object is:\n",
            "    Name  Age  Rating\n",
            "0    Tom   25    4.23\n",
            "1  James   26    3.24\n",
            "2  Ricky   25    3.98\n",
            "3    Vin   23    2.56\n",
            "4  Steve   30    3.20\n",
            "5  Smith   29    4.60\n",
            "6   Jack   23    3.80\n",
            "The total number of elements in our object is:\n",
            "21\n"
          ],
          "name": "stdout"
        }
      ]
    },
    {
      "cell_type": "markdown",
      "metadata": {
        "id": "a7qdD8flt1r9"
      },
      "source": [
        "## values"
      ]
    },
    {
      "cell_type": "code",
      "metadata": {
        "id": "e54sgKHSt1r9",
        "outputId": "2b3413c0-c3ea-45b0-bc29-48b08a8c01cc"
      },
      "source": [
        "#Create a Dictionary of series\n",
        "d = {'Name':pd.Series(['Tom','James','Ricky','Vin','Steve','Smith','Jack']),\n",
        "   'Age':pd.Series([25,26,25,23,30,29,23]),\n",
        "   'Rating':pd.Series([4.23,3.24,3.98,2.56,3.20,4.6,3.8])}\n",
        " \n",
        "#Create a DataFrame\n",
        "df = pd.DataFrame(d)\n",
        "print (\"Our object is:\")\n",
        "print (df)\n",
        "print (\"The actual data in our data frame is:\")\n",
        "print (df.values)"
      ],
      "execution_count": null,
      "outputs": [
        {
          "output_type": "stream",
          "text": [
            "Our object is:\n",
            "    Name  Age  Rating\n",
            "0    Tom   25    4.23\n",
            "1  James   26    3.24\n",
            "2  Ricky   25    3.98\n",
            "3    Vin   23    2.56\n",
            "4  Steve   30    3.20\n",
            "5  Smith   29    4.60\n",
            "6   Jack   23    3.80\n",
            "The actual data in our data frame is:\n",
            "[['Tom' 25 4.23]\n",
            " ['James' 26 3.24]\n",
            " ['Ricky' 25 3.98]\n",
            " ['Vin' 23 2.56]\n",
            " ['Steve' 30 3.2]\n",
            " ['Smith' 29 4.6]\n",
            " ['Jack' 23 3.8]]\n"
          ],
          "name": "stdout"
        }
      ]
    },
    {
      "cell_type": "markdown",
      "metadata": {
        "id": "WDXGrpElt1r9"
      },
      "source": [
        "## Head & Tail"
      ]
    },
    {
      "cell_type": "code",
      "metadata": {
        "id": "TCLrLvIgt1r9",
        "outputId": "3567628d-ef48-42fd-f659-9ffca291b4e1"
      },
      "source": [
        "#Create a Dictionary of series\n",
        "d = {'Name':pd.Series(['Tom','James','Ricky','Vin','Steve','Smith','Jack']),\n",
        "   'Age':pd.Series([25,26,25,23,30,29,23]),\n",
        "   'Rating':pd.Series([4.23,3.24,3.98,2.56,3.20,4.6,3.8])}\n",
        "\n",
        "#Create a DataFrame\n",
        "df = pd.DataFrame(d)\n",
        "print (\"Our data frame is:\")\n",
        "print (df)\n",
        "print (\"The first two rows of the data frame is:\")\n",
        "print (df.head(2))\n",
        "print (\"The last two rows of the data frame is:\")\n",
        "print (df.tail(2))"
      ],
      "execution_count": null,
      "outputs": [
        {
          "output_type": "stream",
          "text": [
            "Our data frame is:\n",
            "    Name  Age  Rating\n",
            "0    Tom   25    4.23\n",
            "1  James   26    3.24\n",
            "2  Ricky   25    3.98\n",
            "3    Vin   23    2.56\n",
            "4  Steve   30    3.20\n",
            "5  Smith   29    4.60\n",
            "6   Jack   23    3.80\n",
            "The first two rows of the data frame is:\n",
            "    Name  Age  Rating\n",
            "0    Tom   25    4.23\n",
            "1  James   26    3.24\n"
          ],
          "name": "stdout"
        }
      ]
    },
    {
      "cell_type": "code",
      "metadata": {
        "id": "T2AQo9xct1r-",
        "outputId": "1e2b9040-e95c-4d11-9c0d-e1831df6affd"
      },
      "source": [
        "#Create a Dictionary of series\n",
        "d = {'Name':pd.Series(['Tom','James','Ricky','Vin','Steve','Smith','Jack']),\n",
        "   'Age':pd.Series([25,26,25,23,30,29,23]), \n",
        "   'Rating':pd.Series([4.23,3.24,3.98,2.56,3.20,4.6,3.8])}\n",
        " \n",
        "#Create a DataFrame\n",
        "df = pd.DataFrame(d)\n",
        "print (\"Our data frame is:\")\n",
        "print (df)\n",
        "print (\"The last two rows of the data frame is:\")\n",
        "print (df.tail(2))"
      ],
      "execution_count": null,
      "outputs": [
        {
          "output_type": "stream",
          "text": [
            "Our data frame is:\n",
            "    Name  Age  Rating\n",
            "0    Tom   25    4.23\n",
            "1  James   26    3.24\n",
            "2  Ricky   25    3.98\n",
            "3    Vin   23    2.56\n",
            "4  Steve   30    3.20\n",
            "5  Smith   29    4.60\n",
            "6   Jack   23    3.80\n",
            "The last two rows of the data frame is:\n",
            "    Name  Age  Rating\n",
            "5  Smith   29     4.6\n",
            "6   Jack   23     3.8\n"
          ],
          "name": "stdout"
        }
      ]
    },
    {
      "cell_type": "markdown",
      "metadata": {
        "id": "_f5ldfwRt1sC"
      },
      "source": [
        "# Statistics"
      ]
    },
    {
      "cell_type": "markdown",
      "metadata": {
        "id": "f69geKkyt1sC"
      },
      "source": [
        "## DataFrame − “index” (axis=0, default), “columns” (axis=1)"
      ]
    },
    {
      "cell_type": "code",
      "metadata": {
        "id": "6dbWwusgt1sC",
        "outputId": "5ab42b55-a06f-4e7b-e018-29a72187c276"
      },
      "source": [
        "import pandas as pd\n",
        "import numpy as np\n",
        "\n",
        "#Create a Dictionary of series\n",
        "d = {'Name':pd.Series(['Tom','James','Ricky','Vin','Steve','Smith','Jack','Lee','David','Gasper','Betina','Andres']),\n",
        "     'Age':pd.Series([25,26,25,23,30,29,23,34,40,30,51,46]),\n",
        "     'Rating':pd.Series([4.23,3.24,3.98,2.56,3.20,4.6,3.8,3.78,2.98,4.80,4.10,3.65])\n",
        "}\n",
        "\n",
        "#Create a DataFrame\n",
        "df = pd.DataFrame(d)\n",
        "print (df)"
      ],
      "execution_count": null,
      "outputs": [
        {
          "output_type": "stream",
          "text": [
            "      Name  Age  Rating\n",
            "0      Tom   25    4.23\n",
            "1    James   26    3.24\n",
            "2    Ricky   25    3.98\n",
            "3      Vin   23    2.56\n",
            "4    Steve   30    3.20\n",
            "5    Smith   29    4.60\n",
            "6     Jack   23    3.80\n",
            "7      Lee   34    3.78\n",
            "8    David   40    2.98\n",
            "9   Gasper   30    4.80\n",
            "10  Betina   51    4.10\n",
            "11  Andres   46    3.65\n"
          ],
          "name": "stdout"
        }
      ]
    },
    {
      "cell_type": "markdown",
      "metadata": {
        "id": "ZAY41XgNt1sC"
      },
      "source": [
        "## sum()"
      ]
    },
    {
      "cell_type": "markdown",
      "metadata": {
        "id": "IWJa0NMut1sC"
      },
      "source": [
        "### axis=0"
      ]
    },
    {
      "cell_type": "code",
      "metadata": {
        "id": "HaX6fVJwt1sC",
        "outputId": "d1cd7333-3d9d-458c-cf4d-30b415b82e8a"
      },
      "source": [
        "#Create a Dictionary of series\n",
        "d = {'Name':pd.Series(['Tom','James','Ricky','Vin','Steve','Smith','Jack','Lee','David',\n",
        "                       'Gasper','Betina','Andres']),\n",
        "     'Age':pd.Series([25,26,25,23,30,29,23,34,40,30,51,46]),\n",
        "     'Rating':pd.Series([4.23,3.24,3.98,2.56,3.20,4.6,3.8,3.78,2.98,4.80,4.10,3.65])\n",
        "}\n",
        " \n",
        "#Create a DataFrame\n",
        "df = pd.DataFrame(d)\n",
        " \n",
        "print (df.sum())\n",
        " \n",
        "print (df.sum(1))"
      ],
      "execution_count": null,
      "outputs": [
        {
          "output_type": "stream",
          "text": [
            "Name      TomJamesRickyVinSteveSmithJackLeeDavidGasperBe...\n",
            "Age                                                     382\n",
            "Rating                                                44.92\n",
            "dtype: object\n"
          ],
          "name": "stdout"
        }
      ]
    },
    {
      "cell_type": "markdown",
      "metadata": {
        "id": "zVCo3xSNt1sD"
      },
      "source": [
        "### axis=1"
      ]
    },
    {
      "cell_type": "code",
      "metadata": {
        "id": "r62wwMWft1sD",
        "outputId": "ab64d439-f769-4574-d96c-81bf8ce93d60"
      },
      "source": [
        "#Create a Dictionary of series\n",
        "d = {'Name':pd.Series(['Tom','James','Ricky','Vin','Steve','Smith','Jack','Lee','David','Gasper','Betina','Andres']),\n",
        "     'Age':pd.Series([25,26,25,23,30,29,23,34,40,30,51,46]),\n",
        "     'Rating':pd.Series([4.23,3.24,3.98,2.56,3.20,4.6,3.8,3.78,2.98,4.80,4.10,3.65])\n",
        "}\n",
        " \n",
        "#Create a DataFrame\n",
        "df = pd.DataFrame(d)\n",
        "print (df.sum(1))"
      ],
      "execution_count": null,
      "outputs": [
        {
          "output_type": "stream",
          "text": [
            "0     29.23\n",
            "1     29.24\n",
            "2     28.98\n",
            "3     25.56\n",
            "4     33.20\n",
            "5     33.60\n",
            "6     26.80\n",
            "7     37.78\n",
            "8     42.98\n",
            "9     34.80\n",
            "10    55.10\n",
            "11    49.65\n",
            "dtype: float64\n"
          ],
          "name": "stdout"
        }
      ]
    },
    {
      "cell_type": "markdown",
      "metadata": {
        "id": "bOJg_7hvt1sD"
      },
      "source": [
        "## mean()"
      ]
    },
    {
      "cell_type": "code",
      "metadata": {
        "id": "-_v8tUDdt1sD",
        "outputId": "2918ab18-7072-48b0-e91a-24762f2e38ef"
      },
      "source": [
        "#Create a Dictionary of series\n",
        "d = {'Name':pd.Series(['Tom','James','Ricky','Vin','Steve','Smith','Jack','Lee','David','Gasper','Betina','Andres']),\n",
        "     'Age':pd.Series([25,26,25,23,30,29,23,34,40,30,51,46]),\n",
        "     'Rating':pd.Series([4.23,3.24,3.98,2.56,3.20,4.6,3.8,3.78,2.98,4.80,4.10,3.65])\n",
        "}\n",
        "\n",
        "#Create a DataFrame\n",
        "df = pd.DataFrame(d)\n",
        "print (df.mean())\n",
        "print (df.std())"
      ],
      "execution_count": null,
      "outputs": [
        {
          "output_type": "stream",
          "text": [
            "Age       31.833333\n",
            "Rating     3.743333\n",
            "dtype: float64\n"
          ],
          "name": "stdout"
        }
      ]
    },
    {
      "cell_type": "markdown",
      "metadata": {
        "id": "E2UQH3ezt1sD"
      },
      "source": [
        "## std()"
      ]
    },
    {
      "cell_type": "code",
      "metadata": {
        "id": "vgWTW4mct1sD",
        "outputId": "02a78d6e-1e01-4278-f19b-d18c11cc2170"
      },
      "source": [
        "#Create a Dictionary of series\n",
        "d = {'Name':pd.Series(['Tom','James','Ricky','Vin','Steve','Smith','Jack','Lee','David','Gasper','Betina','Andres']),\n",
        "     'Age':pd.Series([25,26,25,23,30,29,23,34,40,30,51,46]),\n",
        "     'Rating':pd.Series([4.23,3.24,3.98,2.56,3.20,4.6,3.8,3.78,2.98,4.80,4.10,3.65])\n",
        "}\n",
        "\n",
        "#Create a DataFrame\n",
        "df = pd.DataFrame(d)\n",
        "print (df.std())"
      ],
      "execution_count": null,
      "outputs": [
        {
          "output_type": "stream",
          "text": [
            "Age       9.232682\n",
            "Rating    0.661628\n",
            "dtype: float64\n"
          ],
          "name": "stdout"
        }
      ]
    },
    {
      "cell_type": "markdown",
      "metadata": {
        "id": "a7gUxVAxt1sF"
      },
      "source": [
        "#### 1\tcount()\tNumber of non-null observations\n",
        "#### 2\tsum()\tSum of values\n",
        "#### 3\tmean()\tMean of Values\n",
        "#### 4\tmedian()\tMedian of Values\n",
        "#### 5\tmode()\tMode of values\n",
        "#### 6\tstd()\tStandard Deviation of the Values\n",
        "#### 7\tmin()\tMinimum Value\n",
        "#### 8\tmax()\tMaximum Value\n",
        "#### 9\tabs()\tAbsolute Value\n",
        "#### 10\tprod()\tProduct of Values\n",
        "#### 11\tcumsum()\tCumulative Sum\n",
        "#### 12\tcumprod()\tCumulative Product"
      ]
    },
    {
      "cell_type": "markdown",
      "metadata": {
        "id": "UQ6fb_-Lt1sF"
      },
      "source": [
        "## Summarizing Data"
      ]
    },
    {
      "cell_type": "code",
      "metadata": {
        "id": "B2KbCYH3t1sF",
        "outputId": "e203a77b-b7f3-4071-d64e-a42df6fe12a0"
      },
      "source": [
        "#Create a Dictionary of series\n",
        "d = {'Name':pd.Series(['Tom','James','Ricky','Vin','Steve','Smith','Jack','Lee','David','Gasper','Betina','Andres']),\n",
        "     'Age':pd.Series([25,26,25,23,30,29,23,34,40,30,51,46]),\n",
        "     'Rating':pd.Series([4.23,3.24,3.98,2.56,3.20,4.6,3.8,3.78,2.98,4.80,4.10,3.65])\n",
        "}\n",
        "\n",
        "#Create a DataFrame\n",
        "df = pd.DataFrame(d)\n",
        "print (df.describe())"
      ],
      "execution_count": null,
      "outputs": [
        {
          "output_type": "stream",
          "text": [
            "             Age     Rating\n",
            "count  12.000000  12.000000\n",
            "mean   31.833333   3.743333\n",
            "std     9.232682   0.661628\n",
            "min    23.000000   2.560000\n",
            "25%    25.000000   3.230000\n",
            "50%    29.500000   3.790000\n",
            "75%    35.500000   4.132500\n",
            "max    51.000000   4.800000\n"
          ],
          "name": "stdout"
        }
      ]
    },
    {
      "cell_type": "code",
      "metadata": {
        "id": "K5bznjfgt1sG",
        "outputId": "11f785f5-46e4-465f-8b0a-e4ece03dde2b"
      },
      "source": [
        "#Create a Dictionary of series\n",
        "d = {'Name':pd.Series(['Tom','James','Ricky','Vin','Steve','Smith','Jack',\n",
        "                       'Lee','David','Gasper','Betina','Andres','Vin']),\n",
        "     'Age':pd.Series([25,26,25,23,30,29,23,34,40,30,51,46]),\n",
        "     'Rating':pd.Series([4.23,3.24,3.98,2.56,3.20,4.6,3.8,3.78,2.98,4.80,4.10,3.65])\n",
        "} \n",
        "\n",
        "#Create a DataFrame\n",
        "df = pd.DataFrame(d)\n",
        "print (df.describe(include=['object']))\n",
        "## need to check\n",
        "\n",
        "\n",
        "print (df. describe(include='all'))"
      ],
      "execution_count": null,
      "outputs": [
        {
          "output_type": "stream",
          "text": [
            "       Name\n",
            "count    13\n",
            "unique   12\n",
            "top     Vin\n",
            "freq      2\n"
          ],
          "name": "stdout"
        }
      ]
    },
    {
      "cell_type": "code",
      "metadata": {
        "id": "gjrSBlNBt1sG",
        "outputId": "fa0b28cf-f649-4c52-97cb-52110a8b7bf5"
      },
      "source": [
        "#Create a Dictionary of series\n",
        "d = {'Name':pd.Series(['Tom','James','Ricky','Vin','Steve','Smith',\n",
        "                       'Jack','Lee','David','Gasper','Betina','Andres']),\n",
        "     'Age':pd.Series([25,26,25,23,30,29,23,34,40,30,51,46]),\n",
        "     'Rating':pd.Series([4.23,3.24,3.98,2.56,3.20,4.6,3.8,3.78,2.98,4.80,4.10,3.65])\n",
        "}\n",
        " \n",
        "#Create a DataFrame\n",
        "df = pd.DataFrame(d)\n",
        "print (df. describe(include='all'))"
      ],
      "execution_count": null,
      "outputs": [
        {
          "output_type": "stream",
          "text": [
            "         Name        Age     Rating\n",
            "count      12  12.000000  12.000000\n",
            "unique     12        NaN        NaN\n",
            "top     James        NaN        NaN\n",
            "freq        1        NaN        NaN\n",
            "mean      NaN  31.833333   3.743333\n",
            "std       NaN   9.232682   0.661628\n",
            "min       NaN  23.000000   2.560000\n",
            "25%       NaN  25.000000   3.230000\n",
            "50%       NaN  29.500000   3.790000\n",
            "75%       NaN  35.500000   4.132500\n",
            "max       NaN  51.000000   4.800000\n"
          ],
          "name": "stdout"
        }
      ]
    },
    {
      "cell_type": "markdown",
      "metadata": {
        "id": "iorrwDAAt1sG"
      },
      "source": [
        "## Function Application"
      ]
    },
    {
      "cell_type": "markdown",
      "metadata": {
        "id": "JDgzQ9But1sG"
      },
      "source": [
        "### To apply your own or another library’s functions to Pandas objects, \n",
        "### you should be aware of the three important methods.\n",
        "### The methods have been discussed below. \n",
        "### The appropriate method to use depends on whether your function expects to operate on an entire DataFrame,\n",
        "### row- or column-wise, or element wise.To apply your own or another library’s functions to Pandas objects, \n",
        "### you should be aware of the three important methods. \n",
        "### The methods have been discussed below. \n",
        "### The appropriate method to use depends on whether your function expects to operate on an entire DataFrame,\n",
        "### row- or column-wise, or element wise.\n",
        "\n",
        "## Table wise Function Application: pipe()\n",
        "## Row or Column Wise Function Application: apply()\n",
        "## Element wise Function Application: applymap()"
      ]
    },
    {
      "cell_type": "markdown",
      "metadata": {
        "id": "1zvwmGGct1sG"
      },
      "source": [
        "## Table-wise Function Application"
      ]
    },
    {
      "cell_type": "code",
      "metadata": {
        "colab": {
          "base_uri": "https://localhost:8080/"
        },
        "id": "BoucjyOKt1sG",
        "outputId": "5a0f1470-e1d9-4ce6-c20c-181bb7215f42"
      },
      "source": [
        "import pandas as pd\n",
        "import numpy as np\n",
        "def adder(ele1,ele2):\n",
        "    return ele1+ele2\n",
        "\n",
        "df = pd.DataFrame(np.random.randn(5,4),columns=['col1','col2','col3','col4'])\n",
        "print(df)\n",
        "df.pipe(adder,2)\n",
        "print(\"---------------------------------------\")\n",
        "print(\"Mean Value Col wise\")\n",
        "print (df.apply(np.mean))"
      ],
      "execution_count": null,
      "outputs": [
        {
          "output_type": "stream",
          "text": [
            "       col1      col2      col3      col4\n",
            "0 -0.149205  0.013828 -0.528207 -1.675257\n",
            "1 -0.514564 -0.957603  0.611705  0.807687\n",
            "2  0.582534 -1.502291  0.394036  1.016741\n",
            "3 -2.246988 -0.403791  0.048024  0.196800\n",
            "4 -0.870376  1.478773  0.252962 -0.284473\n",
            "---------------------------------------\n",
            "Mean Value Col wise\n",
            "col1   -0.639720\n",
            "col2   -0.274217\n",
            "col3    0.155704\n",
            "col4    0.012299\n",
            "dtype: float64\n"
          ],
          "name": "stdout"
        }
      ]
    },
    {
      "cell_type": "code",
      "metadata": {
        "id": "24oQGLa8t1sH",
        "outputId": "f0902fac-8430-4dbb-9af9-51ee9280ccd7"
      },
      "source": [
        "df = pd.DataFrame(np.random.randn(5,3),columns=['col1','col2','col3'])\n",
        "print(df)\n",
        "df.apply(np.mean)\n",
        "print(\"---------------------------------------\")\n",
        "print(\"Mean Value Col wise\")\n",
        "print (df.apply(np.mean))"
      ],
      "execution_count": null,
      "outputs": [
        {
          "output_type": "stream",
          "text": [
            "       col1      col2      col3\n",
            "0 -2.670242  0.348195  0.777135\n",
            "1 -0.641507  0.303381  0.731934\n",
            "2 -0.895044 -1.049973 -0.824933\n",
            "3 -0.511183 -1.414205 -1.555488\n",
            "4 -0.443780  0.345457 -0.671568\n",
            "---------------------------------------\n",
            "Mean Value Col wise\n",
            "col1   -1.032351\n",
            "col2   -0.293429\n",
            "col3   -0.308584\n",
            "dtype: float64\n"
          ],
          "name": "stdout"
        }
      ]
    },
    {
      "cell_type": "code",
      "metadata": {
        "id": "k5k-cGvQt1sH",
        "outputId": "eeef81a1-8f52-4b28-da6d-31035896fdd2"
      },
      "source": [
        "df = pd.DataFrame(np.random.randn(5,3),columns=['col1','col2','col3'])\n",
        "print(df)\n",
        "df.apply(np.mean)\n",
        "print(\"---------------------------------------\")\n",
        "df.apply(np.mean,axis=1)\n",
        "print (df.apply(np.mean))"
      ],
      "execution_count": null,
      "outputs": [
        {
          "output_type": "stream",
          "text": [
            "       col1      col2      col3\n",
            "0 -0.751370 -2.341935 -0.204023\n",
            "1  1.733309  0.537332 -0.675542\n",
            "2 -0.287291 -0.517764  0.997821\n",
            "3  1.404652 -0.902468  0.291382\n",
            "4  0.038873 -1.052316  0.460822\n",
            "---------------------------------------\n",
            "col1    0.427635\n",
            "col2   -0.855430\n",
            "col3    0.174092\n",
            "dtype: float64\n"
          ],
          "name": "stdout"
        }
      ]
    },
    {
      "cell_type": "code",
      "metadata": {
        "id": "aSathzJBt1sJ",
        "outputId": "9f660eb8-b081-4b2f-9223-eeed0040cb0e"
      },
      "source": [
        "df = pd.DataFrame(np.random.randn(5,3),columns=['col1','col2','col3'])\n",
        "df.apply(lambda x: x.max() - x.min())\n",
        "print (df.apply(np.mean))"
      ],
      "execution_count": null,
      "outputs": [
        {
          "output_type": "stream",
          "text": [
            "col1   -0.183249\n",
            "col2   -0.377933\n",
            "col3    0.051039\n",
            "dtype: float64\n"
          ],
          "name": "stdout"
        }
      ]
    },
    {
      "cell_type": "markdown",
      "metadata": {
        "id": "CIkL0r9Ft1sJ"
      },
      "source": [
        "### Element Wise Function Application"
      ]
    },
    {
      "cell_type": "code",
      "metadata": {
        "colab": {
          "base_uri": "https://localhost:8080/"
        },
        "id": "AA-vVsxUt1sJ",
        "outputId": "866f9130-710f-4db4-9882-62c2204161f3"
      },
      "source": [
        "df = pd.DataFrame(np.random.randn(5,3),columns=['col1','col2','col3'])\n",
        "\n",
        "# My custom function\n",
        "df['col1'].map(lambda x:x*100)\n",
        "df.apply(np.mean)"
      ],
      "execution_count": null,
      "outputs": [
        {
          "output_type": "execute_result",
          "data": {
            "text/plain": [
              "col1   -0.070439\n",
              "col2   -0.794149\n",
              "col3   -0.419459\n",
              "dtype: float64"
            ]
          },
          "metadata": {
            "tags": []
          },
          "execution_count": 50
        }
      ]
    },
    {
      "cell_type": "code",
      "metadata": {
        "colab": {
          "base_uri": "https://localhost:8080/"
        },
        "id": "XtmMcr4at1sK",
        "outputId": "9016b8ce-6cd5-4513-e6e4-168f49c69d5c"
      },
      "source": [
        "# My custom function\n",
        "df = pd.DataFrame(np.random.randn(5,3),columns=['col1','col2','col3'])\n",
        "df.applymap(lambda x:x*100)\n",
        "df.apply(np.mean)"
      ],
      "execution_count": null,
      "outputs": [
        {
          "output_type": "execute_result",
          "data": {
            "text/plain": [
              "col1    0.144011\n",
              "col2    0.425743\n",
              "col3   -0.405552\n",
              "dtype: float64"
            ]
          },
          "metadata": {
            "tags": []
          },
          "execution_count": 51
        }
      ]
    },
    {
      "cell_type": "markdown",
      "metadata": {
        "id": "RjPh7sLnt1sK"
      },
      "source": [
        "# Reindexing"
      ]
    },
    {
      "cell_type": "markdown",
      "metadata": {
        "id": "hW1tLIA9t1sK"
      },
      "source": [
        "### Reindexing changes the row labels and column labels of a DataFrame.\n",
        "### To reindex means to conform the data to match a given set of labels along a particular axis"
      ]
    },
    {
      "cell_type": "markdown",
      "metadata": {
        "id": "SlYi5I4st1sK"
      },
      "source": [
        "### 1.Reorder the existing data to match a new set of labels.\n",
        "\n",
        "### 2.Insert missing value (NA) markers in label locations where no data for the label existed."
      ]
    },
    {
      "cell_type": "code",
      "metadata": {
        "colab": {
          "base_uri": "https://localhost:8080/",
          "height": 519
        },
        "id": "U7AuGygzt1sK",
        "outputId": "4871a863-c560-4ede-eb49-36f74b11276b"
      },
      "source": [
        "import pandas as pd\n",
        "import numpy as np\n",
        " \n",
        "N=20\n",
        " \n",
        "df = pd.DataFrame({\n",
        "   'A': pd.date_range(start='2016-01-01',periods=N,freq='D'),\n",
        "   'x': np.linspace(0,stop=N-1,num=N),\n",
        "   'y': np.random.rand(N),\n",
        "   'C': np.random.choice(['Low','Medium','High'],N).tolist(),\n",
        "   'D': np.random.normal(100, 10, size=(N)).tolist()\n",
        "})\n",
        " \n",
        "print(df)\n",
        " \n",
        " \n",
        "#reindex the DataFrame\n",
        "df_reindexed = df.reindex(index=[0,2,5], columns=['A', 'C', 'B'])\n",
        " \n",
        "df_reindexed"
      ],
      "execution_count": null,
      "outputs": [
        {
          "output_type": "stream",
          "text": [
            "            A     x         y       C           D\n",
            "0  2016-01-01   0.0  0.995909    High   98.301895\n",
            "1  2016-01-02   1.0  0.569441  Medium  106.552793\n",
            "2  2016-01-03   2.0  0.049169     Low   87.155786\n",
            "3  2016-01-04   3.0  0.127914    High  107.253941\n",
            "4  2016-01-05   4.0  0.828239     Low   69.404711\n",
            "5  2016-01-06   5.0  0.596229     Low   88.741476\n",
            "6  2016-01-07   6.0  0.302876    High  105.450701\n",
            "7  2016-01-08   7.0  0.843235  Medium  105.088818\n",
            "8  2016-01-09   8.0  0.807067     Low   76.055904\n",
            "9  2016-01-10   9.0  0.077269     Low   91.040080\n",
            "10 2016-01-11  10.0  0.271647     Low  107.110245\n",
            "11 2016-01-12  11.0  0.581245     Low  106.467854\n",
            "12 2016-01-13  12.0  0.543981  Medium   88.690292\n",
            "13 2016-01-14  13.0  0.383533  Medium  109.853450\n",
            "14 2016-01-15  14.0  0.890162  Medium  105.576202\n",
            "15 2016-01-16  15.0  0.456704     Low  107.105459\n",
            "16 2016-01-17  16.0  0.918518    High  102.079795\n",
            "17 2016-01-18  17.0  0.588079    High   91.395092\n",
            "18 2016-01-19  18.0  0.342651     Low   99.550474\n",
            "19 2016-01-20  19.0  0.207403     Low  101.118158\n"
          ],
          "name": "stdout"
        },
        {
          "output_type": "execute_result",
          "data": {
            "text/html": [
              "<div>\n",
              "<style scoped>\n",
              "    .dataframe tbody tr th:only-of-type {\n",
              "        vertical-align: middle;\n",
              "    }\n",
              "\n",
              "    .dataframe tbody tr th {\n",
              "        vertical-align: top;\n",
              "    }\n",
              "\n",
              "    .dataframe thead th {\n",
              "        text-align: right;\n",
              "    }\n",
              "</style>\n",
              "<table border=\"1\" class=\"dataframe\">\n",
              "  <thead>\n",
              "    <tr style=\"text-align: right;\">\n",
              "      <th></th>\n",
              "      <th>A</th>\n",
              "      <th>C</th>\n",
              "      <th>B</th>\n",
              "    </tr>\n",
              "  </thead>\n",
              "  <tbody>\n",
              "    <tr>\n",
              "      <th>0</th>\n",
              "      <td>2016-01-01</td>\n",
              "      <td>High</td>\n",
              "      <td>NaN</td>\n",
              "    </tr>\n",
              "    <tr>\n",
              "      <th>2</th>\n",
              "      <td>2016-01-03</td>\n",
              "      <td>Low</td>\n",
              "      <td>NaN</td>\n",
              "    </tr>\n",
              "    <tr>\n",
              "      <th>5</th>\n",
              "      <td>2016-01-06</td>\n",
              "      <td>Low</td>\n",
              "      <td>NaN</td>\n",
              "    </tr>\n",
              "  </tbody>\n",
              "</table>\n",
              "</div>"
            ],
            "text/plain": [
              "           A     C   B\n",
              "0 2016-01-01  High NaN\n",
              "2 2016-01-03   Low NaN\n",
              "5 2016-01-06   Low NaN"
            ]
          },
          "metadata": {
            "tags": []
          },
          "execution_count": 11
        }
      ]
    },
    {
      "cell_type": "markdown",
      "metadata": {
        "id": "nS5T6CSlt1sL"
      },
      "source": [
        "### Reindex to Align with Other Objects"
      ]
    },
    {
      "cell_type": "code",
      "metadata": {
        "id": "UHgGSoQEt1sL",
        "outputId": "5eba03b8-eecb-480f-9ada-9e69e04e9855"
      },
      "source": [
        "df1 = pd.DataFrame(np.random.randn(10,3),columns=['col1','col2','col3'])\n",
        "df2 = pd.DataFrame(np.random.randn(7,3),columns=['col1','col2','col3'])\n",
        "df3 = pd.DataFrame(np.random.randn(7,3),columns=['COL1','COL2','COL3'])\n",
        "\n",
        "print (df1)\n",
        "print(\"----------------------------------\")\n",
        "print (df2)\n",
        "print(\"----------------------------------\")\n",
        "print (df3)\n",
        "print(\"----------------------------------\")\n",
        "df1 = df1.reindex_like(df2)\n",
        "df4 = df1.reindex_like(df3)\n",
        "print(\"----------------------------------\")\n",
        "\n",
        "print(df1)\n",
        "print(\"----------------------------------\")\n",
        "print(df4)\n"
      ],
      "execution_count": null,
      "outputs": [
        {
          "output_type": "stream",
          "text": [
            "       col1      col2      col3\n",
            "0  0.736143 -0.361173  0.541433\n",
            "1 -1.348450  0.550231 -0.913716\n",
            "2  0.413242 -1.430852  0.642477\n",
            "3 -0.834715 -0.647660  0.414902\n",
            "4  0.434713 -0.291745 -0.646421\n",
            "5 -0.505899  0.313851  1.746002\n",
            "6  1.253641  1.123345  1.875058\n",
            "7 -2.638243  0.129680 -0.893373\n",
            "8  1.309346 -1.197606  0.765233\n",
            "9 -0.508995  0.204547  0.534999\n",
            "----------------------------------\n",
            "       col1      col2      col3\n",
            "0 -1.034772  1.327101  2.082269\n",
            "1 -2.002302  3.143454 -0.954577\n",
            "2 -1.462843 -0.400151  0.021789\n",
            "3  0.021267  0.740828  1.424252\n",
            "4 -0.299386 -1.037785 -0.765792\n",
            "5 -0.032733 -0.222151  0.947290\n",
            "6 -0.071493 -0.810454 -2.672621\n",
            "----------------------------------\n",
            "       COL1      COL2      COL3\n",
            "0 -0.637391  0.408611 -1.042959\n",
            "1  0.424827  0.369806  1.232612\n",
            "2  0.705332  0.301448  0.328423\n",
            "3  1.142844 -0.509134  0.196338\n",
            "4 -0.135726  0.753117  1.303301\n",
            "5  0.252629  1.434505 -0.429799\n",
            "6 -0.249613  0.288974 -0.444841\n",
            "----------------------------------\n",
            "----------------------------------\n",
            "       col1      col2      col3\n",
            "0  0.736143 -0.361173  0.541433\n",
            "1 -1.348450  0.550231 -0.913716\n",
            "2  0.413242 -1.430852  0.642477\n",
            "3 -0.834715 -0.647660  0.414902\n",
            "4  0.434713 -0.291745 -0.646421\n",
            "5 -0.505899  0.313851  1.746002\n",
            "6  1.253641  1.123345  1.875058\n",
            "----------------------------------\n",
            "   COL1  COL2  COL3\n",
            "0   NaN   NaN   NaN\n",
            "1   NaN   NaN   NaN\n",
            "2   NaN   NaN   NaN\n",
            "3   NaN   NaN   NaN\n",
            "4   NaN   NaN   NaN\n",
            "5   NaN   NaN   NaN\n",
            "6   NaN   NaN   NaN\n"
          ],
          "name": "stdout"
        }
      ]
    },
    {
      "cell_type": "markdown",
      "metadata": {
        "id": "O7BLw2iIt1sM"
      },
      "source": [
        "## Filling while ReIndexing"
      ]
    },
    {
      "cell_type": "markdown",
      "metadata": {
        "id": "ghqOsTztt1sM"
      },
      "source": [
        "### 1.pad/ffill − Fill values forward\n",
        "\n",
        "### 2.bfill/backfill − Fill values backward\n",
        "\n",
        "### 3.nearest − Fill from the nearest index values"
      ]
    },
    {
      "cell_type": "code",
      "metadata": {
        "scrolled": true,
        "id": "4ze5JMfAt1sM",
        "outputId": "b8cf571f-9afc-460b-aecf-7e8c10c7590f"
      },
      "source": [
        "df1 = pd.DataFrame(np.random.randn(6,3),columns=['col1','col2','col3'])\n",
        "df2 = pd.DataFrame(np.random.randn(2,3),columns=['col1','col2','col3'])\n",
        "\n",
        "print(df1)\n",
        "print(\"----------------------------------------\")\n",
        "print(df2)\n",
        "print(\"------------------------------------------\")\n",
        "\n",
        "print(df2.reindex_like(df1))\n",
        "\n",
        "# Now Fill the NAN's with preceding Values\n",
        "print (\"Data Frame with Forward Fill:\")\n",
        "print(df2.reindex_like(df1,method='ffill'))"
      ],
      "execution_count": null,
      "outputs": [
        {
          "output_type": "stream",
          "text": [
            "       col1      col2      col3\n",
            "0 -1.440776 -1.552530 -0.690466\n",
            "1  0.426371 -0.628339  0.415514\n",
            "2  0.629875 -0.869598 -1.328801\n",
            "3 -1.265725  0.066665  1.325255\n",
            "4 -1.285413  0.778628 -0.422697\n",
            "5  2.326649  1.177586 -0.941432\n",
            "----------------------------------------\n",
            "       col1      col2      col3\n",
            "0 -1.802586  0.797385 -0.614944\n",
            "1  1.948745  1.448855  1.574837\n",
            "------------------------------------------\n",
            "       col1      col2      col3\n",
            "0 -1.802586  0.797385 -0.614944\n",
            "1  1.948745  1.448855  1.574837\n",
            "2       NaN       NaN       NaN\n",
            "3       NaN       NaN       NaN\n",
            "4       NaN       NaN       NaN\n",
            "5       NaN       NaN       NaN\n",
            "Data Frame with Forward Fill:\n",
            "       col1      col2      col3\n",
            "0 -1.802586  0.797385 -0.614944\n",
            "1  1.948745  1.448855  1.574837\n",
            "2  1.948745  1.448855  1.574837\n",
            "3  1.948745  1.448855  1.574837\n",
            "4  1.948745  1.448855  1.574837\n",
            "5  1.948745  1.448855  1.574837\n"
          ],
          "name": "stdout"
        }
      ]
    },
    {
      "cell_type": "markdown",
      "metadata": {
        "id": "K2Ofv67Ot1sN"
      },
      "source": [
        "## Limits on Filling while Reindexing"
      ]
    },
    {
      "cell_type": "code",
      "metadata": {
        "id": "LxscA6Skt1sN",
        "outputId": "641ba240-14bf-49ea-8fd0-d085f5096c31"
      },
      "source": [
        "df1 = pd.DataFrame(np.random.randn(6,3),columns=['col1','col2','col3'])\n",
        "df2 = pd.DataFrame(np.random.randn(2,3),columns=['col1','col2','col3'])\n",
        "\n",
        "# Padding NAN's\n",
        "print (df2.reindex_like(df1))\n",
        "\n",
        "# Now Fill the NAN's with preceding Values\n",
        "print (\"Data Frame with Forward Fill limiting to 1:\")\n",
        "print (df2.reindex_like(df1,method='ffill',limit=1))"
      ],
      "execution_count": null,
      "outputs": [
        {
          "output_type": "stream",
          "text": [
            "       col1      col2      col3\n",
            "0  0.331906  0.532431 -0.740473\n",
            "1 -0.306413  0.576612  0.237036\n",
            "2       NaN       NaN       NaN\n",
            "3       NaN       NaN       NaN\n",
            "4       NaN       NaN       NaN\n",
            "5       NaN       NaN       NaN\n",
            "Data Frame with Forward Fill limiting to 1:\n",
            "       col1      col2      col3\n",
            "0  0.331906  0.532431 -0.740473\n",
            "1 -0.306413  0.576612  0.237036\n",
            "2 -0.306413  0.576612  0.237036\n",
            "3       NaN       NaN       NaN\n",
            "4       NaN       NaN       NaN\n",
            "5       NaN       NaN       NaN\n"
          ],
          "name": "stdout"
        }
      ]
    },
    {
      "cell_type": "markdown",
      "metadata": {
        "id": "FQzPnv5mt1sN"
      },
      "source": [
        "## Renaming"
      ]
    },
    {
      "cell_type": "code",
      "metadata": {
        "id": "NReitQcQt1sN",
        "outputId": "909f972f-5035-42dd-f52d-780828b0a868"
      },
      "source": [
        "df1 = pd.DataFrame(np.random.randn(6,3),columns=['col1','col2','col3'])\n",
        "print (df1)\n",
        "\n",
        "print (\"After renaming the rows and columns:\")\n",
        "print (df1.rename(columns={'col1' : 'c1', 'col2' : 'c2'},\n",
        "index = {0 : 'apple', 1 : 'banana', 2 : 'durian'}))"
      ],
      "execution_count": null,
      "outputs": [
        {
          "output_type": "stream",
          "text": [
            "       col1      col2      col3\n",
            "0  0.601735 -1.545637  0.855664\n",
            "1  0.427331  0.688290  0.019248\n",
            "2 -0.965093 -0.462462  0.006993\n",
            "3 -0.052593  2.024734  0.737861\n",
            "4 -1.147529  1.177524 -0.821518\n",
            "5  1.159880  1.378285  1.721024\n",
            "After renaming the rows and columns:\n",
            "              c1        c2      col3\n",
            "apple   0.601735 -1.545637  0.855664\n",
            "banana  0.427331  0.688290  0.019248\n",
            "durian -0.965093 -0.462462  0.006993\n",
            "3      -0.052593  2.024734  0.737861\n",
            "4      -1.147529  1.177524 -0.821518\n",
            "5       1.159880  1.378285  1.721024\n"
          ],
          "name": "stdout"
        }
      ]
    },
    {
      "cell_type": "markdown",
      "metadata": {
        "id": "aq856ASVt1sN"
      },
      "source": [
        "# Iteration"
      ]
    },
    {
      "cell_type": "markdown",
      "metadata": {
        "id": "p2AHiZgQt1sN"
      },
      "source": [
        "##### 1.Series − values\n",
        "\n",
        "#####  2.DataFrame − column labels\n",
        "\n",
        "##### 3.Panel − item labels"
      ]
    },
    {
      "cell_type": "code",
      "metadata": {
        "id": "L6TBqF3yt1sO"
      },
      "source": [
        "# The behavior of basic iteration over Pandas objects depends on the type.\n",
        "# When iterating over a Series, it is regarded as array-like, and basic iteration produces the values. \n",
        "# Other data structures, like DataFrame and Panel, \n",
        "# follow the dict-like convention of iterating over the keys of the objects.\n"
      ],
      "execution_count": null,
      "outputs": []
    },
    {
      "cell_type": "markdown",
      "metadata": {
        "id": "hw-3VHFXt1sO"
      },
      "source": [
        "### iteritems() − to iterate over the (key,value) pairs\n",
        "\n",
        "### iterrows() − iterate over the rows as (index,series) pairs\n",
        "\n",
        "### itertuples() − iterate over the rows as namedtuples"
      ]
    },
    {
      "cell_type": "code",
      "metadata": {
        "id": "UESfAIaat1sO",
        "outputId": "6948bc59-80cb-47ac-f9b4-5afadbb4a90a"
      },
      "source": [
        "N=20\n",
        "df = pd.DataFrame({\n",
        "   'A': pd.date_range(start='2016-01-01',periods=N,freq='D'),\n",
        "   'x': np.linspace(0,stop=N-1,num=N),\n",
        "   'y': np.random.rand(N),\n",
        "   'C': np.random.choice(['Low','Medium','High'],N).tolist(),\n",
        "   'D': np.random.normal(100, 10, size=(N)).tolist()\n",
        "   })\n",
        "\n",
        "print(df)\n",
        "print(\"----------------------\")\n",
        "\n",
        "for col in df:\n",
        "    print (col)"
      ],
      "execution_count": null,
      "outputs": [
        {
          "output_type": "stream",
          "text": [
            "            A     x         y       C           D\n",
            "0  2016-01-01   0.0  0.469103    High   99.066739\n",
            "1  2016-01-02   1.0  0.384756    High   98.289580\n",
            "2  2016-01-03   2.0  0.625836    High   94.166828\n",
            "3  2016-01-04   3.0  0.085611     Low   94.143489\n",
            "4  2016-01-05   4.0  0.926223    High   99.673420\n",
            "5  2016-01-06   5.0  0.167170     Low   86.072877\n",
            "6  2016-01-07   6.0  0.894346    High  103.924591\n",
            "7  2016-01-08   7.0  0.845146     Low   95.557201\n",
            "8  2016-01-09   8.0  0.802943     Low   96.591446\n",
            "9  2016-01-10   9.0  0.428487     Low  114.261771\n",
            "10 2016-01-11  10.0  0.341035  Medium  109.705745\n",
            "11 2016-01-12  11.0  0.405861    High  113.263162\n",
            "12 2016-01-13  12.0  0.990110  Medium   93.247052\n",
            "13 2016-01-14  13.0  0.527849  Medium   89.724544\n",
            "14 2016-01-15  14.0  0.988412    High   90.491433\n",
            "15 2016-01-16  15.0  0.845841  Medium  117.717130\n",
            "16 2016-01-17  16.0  0.357223  Medium  103.798182\n",
            "17 2016-01-18  17.0  0.074222    High   87.119847\n",
            "18 2016-01-19  18.0  0.526142  Medium  104.608526\n",
            "19 2016-01-20  19.0  0.285774    High  110.322365\n",
            "----------------------\n",
            "A\n",
            "x\n",
            "y\n",
            "C\n",
            "D\n"
          ],
          "name": "stdout"
        }
      ]
    },
    {
      "cell_type": "markdown",
      "metadata": {
        "id": "PSDKrMAUt1sP"
      },
      "source": [
        "###### iteritems()"
      ]
    },
    {
      "cell_type": "code",
      "metadata": {
        "id": "dh4yM_AFt1sP",
        "outputId": "3b2b238d-08e8-4819-839a-bfcaf81980f8"
      },
      "source": [
        "df = pd.DataFrame(np.random.randn(4,3),columns=['col1','col2','col3'])\n",
        "print(df)\n",
        "print(\"-------------------------\")\n",
        "for key,value in df.iteritems():\n",
        "    print (key,value)\n",
        "    print(\"---------------\")\n",
        "    \n",
        "for key in df.iteritems():\n",
        "    print (key)\n",
        "    print(\"---------------\")"
      ],
      "execution_count": null,
      "outputs": [
        {
          "output_type": "stream",
          "text": [
            "       col1      col2      col3\n",
            "0 -0.128477  0.884155 -0.056975\n",
            "1  0.343058  0.096183 -0.374702\n",
            "2  0.292324  0.693211 -0.539174\n",
            "3  0.005020  0.946078  0.741041\n",
            "-------------------------\n",
            "col1 0   -0.128477\n",
            "1    0.343058\n",
            "2    0.292324\n",
            "3    0.005020\n",
            "Name: col1, dtype: float64\n",
            "---------------\n",
            "col2 0    0.884155\n",
            "1    0.096183\n",
            "2    0.693211\n",
            "3    0.946078\n",
            "Name: col2, dtype: float64\n",
            "---------------\n",
            "col3 0   -0.056975\n",
            "1   -0.374702\n",
            "2   -0.539174\n",
            "3    0.741041\n",
            "Name: col3, dtype: float64\n",
            "---------------\n",
            "('col1', 0   -0.128477\n",
            "1    0.343058\n",
            "2    0.292324\n",
            "3    0.005020\n",
            "Name: col1, dtype: float64)\n",
            "---------------\n",
            "('col2', 0    0.884155\n",
            "1    0.096183\n",
            "2    0.693211\n",
            "3    0.946078\n",
            "Name: col2, dtype: float64)\n",
            "---------------\n",
            "('col3', 0   -0.056975\n",
            "1   -0.374702\n",
            "2   -0.539174\n",
            "3    0.741041\n",
            "Name: col3, dtype: float64)\n",
            "---------------\n"
          ],
          "name": "stdout"
        }
      ]
    },
    {
      "cell_type": "markdown",
      "metadata": {
        "id": "qFVhJFVvt1sP"
      },
      "source": [
        "###### iterrows()"
      ]
    },
    {
      "cell_type": "code",
      "metadata": {
        "id": "d-YNlPT1t1sP",
        "outputId": "d8cb4f29-3f09-4fd1-d164-2f9255286745"
      },
      "source": [
        "df = pd.DataFrame(np.random.randn(4,3),columns = ['col1','col2','col3'])\n",
        "print(df)\n",
        "print(\"-------------------------\")\n",
        "for row_index,row in df.iterrows():\n",
        "    print (row_index,row)\n",
        "    print(\"---------------\")"
      ],
      "execution_count": null,
      "outputs": [
        {
          "output_type": "stream",
          "text": [
            "       col1      col2      col3\n",
            "0  0.809363  0.286709 -0.767682\n",
            "1  0.656351  0.602912  1.319677\n",
            "2  0.646347 -0.099229  0.542436\n",
            "3  1.023947  0.327090 -0.582042\n",
            "-------------------------\n",
            "0 col1    0.809363\n",
            "col2    0.286709\n",
            "col3   -0.767682\n",
            "Name: 0, dtype: float64\n",
            "---------------\n",
            "1 col1    0.656351\n",
            "col2    0.602912\n",
            "col3    1.319677\n",
            "Name: 1, dtype: float64\n",
            "---------------\n",
            "2 col1    0.646347\n",
            "col2   -0.099229\n",
            "col3    0.542436\n",
            "Name: 2, dtype: float64\n",
            "---------------\n",
            "3 col1    1.023947\n",
            "col2    0.327090\n",
            "col3   -0.582042\n",
            "Name: 3, dtype: float64\n",
            "---------------\n"
          ],
          "name": "stdout"
        }
      ]
    },
    {
      "cell_type": "markdown",
      "metadata": {
        "id": "v1Ya8jr-t1sQ"
      },
      "source": [
        "###### itertuples()"
      ]
    },
    {
      "cell_type": "code",
      "metadata": {
        "id": "dFzI6TzGt1sQ",
        "outputId": "06dbfd0b-1b26-4c99-9243-4fabb76ca184"
      },
      "source": [
        "df = pd.DataFrame(np.random.randn(4,3),columns = ['col1','col2','col3'])\n",
        "print(df)\n",
        "print(\"-------------------------\")\n",
        "for row in df.itertuples():\n",
        "    print (row)\n",
        "    print(\"---------------------------\")"
      ],
      "execution_count": null,
      "outputs": [
        {
          "output_type": "stream",
          "text": [
            "       col1      col2      col3\n",
            "0 -0.998443 -0.929647 -1.133552\n",
            "1 -0.173873 -0.240203  1.570984\n",
            "2  0.356646  0.161227 -0.505193\n",
            "3 -0.340915 -0.928790 -1.026224\n",
            "-------------------------\n",
            "Pandas(Index=0, col1=-0.9984427029901235, col2=-0.9296471834806882, col3=-1.133551518232767)\n",
            "---------------------------\n",
            "Pandas(Index=1, col1=-0.1738726250626595, col2=-0.24020304142022353, col3=1.5709836342664254)\n",
            "---------------------------\n",
            "Pandas(Index=2, col1=0.3566456337577536, col2=0.16122701604262574, col3=-0.5051929786018774)\n",
            "---------------------------\n",
            "Pandas(Index=3, col1=-0.34091476226138295, col2=-0.928790482160012, col3=-1.0262235012138607)\n",
            "---------------------------\n"
          ],
          "name": "stdout"
        }
      ]
    },
    {
      "cell_type": "code",
      "metadata": {
        "id": "_lzQsrDGt1sQ",
        "outputId": "4476dd73-2a10-44d9-ea8b-7f322db17c27"
      },
      "source": [
        "import pandas as pd\n",
        "import numpy as np\n",
        "df = pd.DataFrame(np.random.randn(4,3),columns = ['col1','col2','col3'])\n",
        "print(df)\n",
        "print(\"-------------------------\")\n",
        "for index, row in df.iterrows():\n",
        "    row['a'] = 10\n",
        "print (df)"
      ],
      "execution_count": null,
      "outputs": [
        {
          "output_type": "stream",
          "text": [
            "       col1      col2      col3\n",
            "0  0.696836 -0.016777 -1.774341\n",
            "1 -0.800332 -0.993427 -0.431193\n",
            "2  0.398850 -0.179831 -0.465011\n",
            "3  0.778632 -0.962137 -0.048974\n",
            "-------------------------\n",
            "       col1      col2      col3\n",
            "0  0.696836 -0.016777 -1.774341\n",
            "1 -0.800332 -0.993427 -0.431193\n",
            "2  0.398850 -0.179831 -0.465011\n",
            "3  0.778632 -0.962137 -0.048974\n"
          ],
          "name": "stdout"
        }
      ]
    },
    {
      "cell_type": "markdown",
      "metadata": {
        "id": "qW5jxkuAt1sQ"
      },
      "source": [
        "# Sorting"
      ]
    },
    {
      "cell_type": "markdown",
      "metadata": {
        "id": "u9xdd_q6t1sQ"
      },
      "source": [
        "## By label\n",
        "## By Actual Value"
      ]
    },
    {
      "cell_type": "code",
      "metadata": {
        "id": "HxBk4l_nt1sR",
        "outputId": "bc70ca22-50b4-470c-da52-231665db5cb5"
      },
      "source": [
        "import pandas as pd\n",
        "import numpy as np\n",
        "\n",
        "unsorted_df=pd.DataFrame(np.random.randn(10,2),index=[1,4,6,2,3,5,9,8,0,7],columns=['col2','col1'])\n",
        "print(unsorted_df)\n",
        "sorted_df=unsorted_df.sort_index()\n",
        "sorted_df"
      ],
      "execution_count": null,
      "outputs": [
        {
          "output_type": "stream",
          "text": [
            "       col2      col1\n",
            "1 -0.176378  0.721343\n",
            "4  1.684814 -1.319425\n",
            "6  0.465002  0.937533\n",
            "2  0.932386  0.274484\n",
            "3 -0.920671  0.482813\n",
            "5 -0.007957  1.063145\n",
            "9  1.036918 -0.858404\n",
            "8 -1.153024  2.384066\n",
            "0  0.351306  1.229098\n",
            "7  1.180061 -0.706423\n"
          ],
          "name": "stdout"
        },
        {
          "output_type": "execute_result",
          "data": {
            "text/html": [
              "<div>\n",
              "<style scoped>\n",
              "    .dataframe tbody tr th:only-of-type {\n",
              "        vertical-align: middle;\n",
              "    }\n",
              "\n",
              "    .dataframe tbody tr th {\n",
              "        vertical-align: top;\n",
              "    }\n",
              "\n",
              "    .dataframe thead th {\n",
              "        text-align: right;\n",
              "    }\n",
              "</style>\n",
              "<table border=\"1\" class=\"dataframe\">\n",
              "  <thead>\n",
              "    <tr style=\"text-align: right;\">\n",
              "      <th></th>\n",
              "      <th>col2</th>\n",
              "      <th>col1</th>\n",
              "    </tr>\n",
              "  </thead>\n",
              "  <tbody>\n",
              "    <tr>\n",
              "      <th>0</th>\n",
              "      <td>0.351306</td>\n",
              "      <td>1.229098</td>\n",
              "    </tr>\n",
              "    <tr>\n",
              "      <th>1</th>\n",
              "      <td>-0.176378</td>\n",
              "      <td>0.721343</td>\n",
              "    </tr>\n",
              "    <tr>\n",
              "      <th>2</th>\n",
              "      <td>0.932386</td>\n",
              "      <td>0.274484</td>\n",
              "    </tr>\n",
              "    <tr>\n",
              "      <th>3</th>\n",
              "      <td>-0.920671</td>\n",
              "      <td>0.482813</td>\n",
              "    </tr>\n",
              "    <tr>\n",
              "      <th>4</th>\n",
              "      <td>1.684814</td>\n",
              "      <td>-1.319425</td>\n",
              "    </tr>\n",
              "    <tr>\n",
              "      <th>5</th>\n",
              "      <td>-0.007957</td>\n",
              "      <td>1.063145</td>\n",
              "    </tr>\n",
              "    <tr>\n",
              "      <th>6</th>\n",
              "      <td>0.465002</td>\n",
              "      <td>0.937533</td>\n",
              "    </tr>\n",
              "    <tr>\n",
              "      <th>7</th>\n",
              "      <td>1.180061</td>\n",
              "      <td>-0.706423</td>\n",
              "    </tr>\n",
              "    <tr>\n",
              "      <th>8</th>\n",
              "      <td>-1.153024</td>\n",
              "      <td>2.384066</td>\n",
              "    </tr>\n",
              "    <tr>\n",
              "      <th>9</th>\n",
              "      <td>1.036918</td>\n",
              "      <td>-0.858404</td>\n",
              "    </tr>\n",
              "  </tbody>\n",
              "</table>\n",
              "</div>"
            ],
            "text/plain": [
              "       col2      col1\n",
              "0  0.351306  1.229098\n",
              "1 -0.176378  0.721343\n",
              "2  0.932386  0.274484\n",
              "3 -0.920671  0.482813\n",
              "4  1.684814 -1.319425\n",
              "5 -0.007957  1.063145\n",
              "6  0.465002  0.937533\n",
              "7  1.180061 -0.706423\n",
              "8 -1.153024  2.384066\n",
              "9  1.036918 -0.858404"
            ]
          },
          "metadata": {
            "tags": []
          },
          "execution_count": 8
        }
      ]
    },
    {
      "cell_type": "markdown",
      "metadata": {
        "id": "nhEciA_dt1sR"
      },
      "source": [
        "## By Label"
      ]
    },
    {
      "cell_type": "code",
      "metadata": {
        "id": "qi-DgOP0t1sS",
        "outputId": "bba81a0b-d725-4806-b5f0-8b3c040874fa"
      },
      "source": [
        "unsorted_df = pd.DataFrame(np.random.randn(10,2),index=[1,4,6,2,3,5,9,8,0,7],columns = ['col2','col1'])\n",
        "\n",
        "sorted_df=unsorted_df.sort_index()\n",
        "sorted_df"
      ],
      "execution_count": null,
      "outputs": [
        {
          "output_type": "execute_result",
          "data": {
            "text/html": [
              "<div>\n",
              "<style scoped>\n",
              "    .dataframe tbody tr th:only-of-type {\n",
              "        vertical-align: middle;\n",
              "    }\n",
              "\n",
              "    .dataframe tbody tr th {\n",
              "        vertical-align: top;\n",
              "    }\n",
              "\n",
              "    .dataframe thead th {\n",
              "        text-align: right;\n",
              "    }\n",
              "</style>\n",
              "<table border=\"1\" class=\"dataframe\">\n",
              "  <thead>\n",
              "    <tr style=\"text-align: right;\">\n",
              "      <th></th>\n",
              "      <th>col2</th>\n",
              "      <th>col1</th>\n",
              "    </tr>\n",
              "  </thead>\n",
              "  <tbody>\n",
              "    <tr>\n",
              "      <th>0</th>\n",
              "      <td>0.951641</td>\n",
              "      <td>-1.176113</td>\n",
              "    </tr>\n",
              "    <tr>\n",
              "      <th>1</th>\n",
              "      <td>-0.149623</td>\n",
              "      <td>-0.201677</td>\n",
              "    </tr>\n",
              "    <tr>\n",
              "      <th>2</th>\n",
              "      <td>-0.587801</td>\n",
              "      <td>-0.317945</td>\n",
              "    </tr>\n",
              "    <tr>\n",
              "      <th>3</th>\n",
              "      <td>-0.693631</td>\n",
              "      <td>-1.947263</td>\n",
              "    </tr>\n",
              "    <tr>\n",
              "      <th>4</th>\n",
              "      <td>1.356048</td>\n",
              "      <td>1.558692</td>\n",
              "    </tr>\n",
              "    <tr>\n",
              "      <th>5</th>\n",
              "      <td>-2.127452</td>\n",
              "      <td>0.603313</td>\n",
              "    </tr>\n",
              "    <tr>\n",
              "      <th>6</th>\n",
              "      <td>0.415249</td>\n",
              "      <td>-2.427123</td>\n",
              "    </tr>\n",
              "    <tr>\n",
              "      <th>7</th>\n",
              "      <td>1.351355</td>\n",
              "      <td>3.074737</td>\n",
              "    </tr>\n",
              "    <tr>\n",
              "      <th>8</th>\n",
              "      <td>-0.308721</td>\n",
              "      <td>-0.280288</td>\n",
              "    </tr>\n",
              "    <tr>\n",
              "      <th>9</th>\n",
              "      <td>-0.193055</td>\n",
              "      <td>-0.185155</td>\n",
              "    </tr>\n",
              "  </tbody>\n",
              "</table>\n",
              "</div>"
            ],
            "text/plain": [
              "       col2      col1\n",
              "0  0.951641 -1.176113\n",
              "1 -0.149623 -0.201677\n",
              "2 -0.587801 -0.317945\n",
              "3 -0.693631 -1.947263\n",
              "4  1.356048  1.558692\n",
              "5 -2.127452  0.603313\n",
              "6  0.415249 -2.427123\n",
              "7  1.351355  3.074737\n",
              "8 -0.308721 -0.280288\n",
              "9 -0.193055 -0.185155"
            ]
          },
          "metadata": {
            "tags": []
          },
          "execution_count": 6
        }
      ]
    },
    {
      "cell_type": "markdown",
      "metadata": {
        "id": "Gp4g9F-lt1sS"
      },
      "source": [
        "## Order of Sorting"
      ]
    },
    {
      "cell_type": "code",
      "metadata": {
        "id": "mUu27WSht1sS",
        "outputId": "59adab4e-23d5-459d-e526-87d8ce1c84f5"
      },
      "source": [
        "unsorted_df = pd.DataFrame(np.random.randn(10,2),index=[1,4,6,2,3,5,9,8,0,7],columns = ['col2','col1'])\n",
        "\n",
        "sorted_df = unsorted_df.sort_index(ascending=False)\n",
        "sorted_df"
      ],
      "execution_count": null,
      "outputs": [
        {
          "output_type": "execute_result",
          "data": {
            "text/html": [
              "<div>\n",
              "<style scoped>\n",
              "    .dataframe tbody tr th:only-of-type {\n",
              "        vertical-align: middle;\n",
              "    }\n",
              "\n",
              "    .dataframe tbody tr th {\n",
              "        vertical-align: top;\n",
              "    }\n",
              "\n",
              "    .dataframe thead th {\n",
              "        text-align: right;\n",
              "    }\n",
              "</style>\n",
              "<table border=\"1\" class=\"dataframe\">\n",
              "  <thead>\n",
              "    <tr style=\"text-align: right;\">\n",
              "      <th></th>\n",
              "      <th>col2</th>\n",
              "      <th>col1</th>\n",
              "    </tr>\n",
              "  </thead>\n",
              "  <tbody>\n",
              "    <tr>\n",
              "      <th>9</th>\n",
              "      <td>0.655889</td>\n",
              "      <td>-0.133394</td>\n",
              "    </tr>\n",
              "    <tr>\n",
              "      <th>8</th>\n",
              "      <td>0.479283</td>\n",
              "      <td>-0.918355</td>\n",
              "    </tr>\n",
              "    <tr>\n",
              "      <th>7</th>\n",
              "      <td>0.067283</td>\n",
              "      <td>-0.172217</td>\n",
              "    </tr>\n",
              "    <tr>\n",
              "      <th>6</th>\n",
              "      <td>-0.394113</td>\n",
              "      <td>-0.505226</td>\n",
              "    </tr>\n",
              "    <tr>\n",
              "      <th>5</th>\n",
              "      <td>-0.224754</td>\n",
              "      <td>0.593272</td>\n",
              "    </tr>\n",
              "    <tr>\n",
              "      <th>4</th>\n",
              "      <td>0.199818</td>\n",
              "      <td>0.357087</td>\n",
              "    </tr>\n",
              "    <tr>\n",
              "      <th>3</th>\n",
              "      <td>0.239788</td>\n",
              "      <td>0.454363</td>\n",
              "    </tr>\n",
              "    <tr>\n",
              "      <th>2</th>\n",
              "      <td>0.608632</td>\n",
              "      <td>1.507153</td>\n",
              "    </tr>\n",
              "    <tr>\n",
              "      <th>1</th>\n",
              "      <td>0.802041</td>\n",
              "      <td>-0.234182</td>\n",
              "    </tr>\n",
              "    <tr>\n",
              "      <th>0</th>\n",
              "      <td>0.550254</td>\n",
              "      <td>-0.395527</td>\n",
              "    </tr>\n",
              "  </tbody>\n",
              "</table>\n",
              "</div>"
            ],
            "text/plain": [
              "       col2      col1\n",
              "9  0.655889 -0.133394\n",
              "8  0.479283 -0.918355\n",
              "7  0.067283 -0.172217\n",
              "6 -0.394113 -0.505226\n",
              "5 -0.224754  0.593272\n",
              "4  0.199818  0.357087\n",
              "3  0.239788  0.454363\n",
              "2  0.608632  1.507153\n",
              "1  0.802041 -0.234182\n",
              "0  0.550254 -0.395527"
            ]
          },
          "metadata": {
            "tags": []
          },
          "execution_count": 124
        }
      ]
    },
    {
      "cell_type": "markdown",
      "metadata": {
        "id": "wMWvzR_6t1sT"
      },
      "source": [
        "## Sort the Columns"
      ]
    },
    {
      "cell_type": "code",
      "metadata": {
        "id": "xHs8TEgvt1sT",
        "outputId": "eb53ddfc-44e8-4c3e-e450-edcf86a02cfa"
      },
      "source": [
        "unsorted_df = pd.DataFrame(np.random.randn(10,2),index=[1,4,6,2,3,5,9,8,0,7],columns = ['col2','col1'])\n",
        "sorted_df=unsorted_df.sort_index(axis=1)\n",
        "sorted_df"
      ],
      "execution_count": null,
      "outputs": [
        {
          "output_type": "execute_result",
          "data": {
            "text/html": [
              "<div>\n",
              "<style scoped>\n",
              "    .dataframe tbody tr th:only-of-type {\n",
              "        vertical-align: middle;\n",
              "    }\n",
              "\n",
              "    .dataframe tbody tr th {\n",
              "        vertical-align: top;\n",
              "    }\n",
              "\n",
              "    .dataframe thead th {\n",
              "        text-align: right;\n",
              "    }\n",
              "</style>\n",
              "<table border=\"1\" class=\"dataframe\">\n",
              "  <thead>\n",
              "    <tr style=\"text-align: right;\">\n",
              "      <th></th>\n",
              "      <th>col1</th>\n",
              "      <th>col2</th>\n",
              "    </tr>\n",
              "  </thead>\n",
              "  <tbody>\n",
              "    <tr>\n",
              "      <th>1</th>\n",
              "      <td>0.554013</td>\n",
              "      <td>0.095632</td>\n",
              "    </tr>\n",
              "    <tr>\n",
              "      <th>4</th>\n",
              "      <td>1.604642</td>\n",
              "      <td>0.658729</td>\n",
              "    </tr>\n",
              "    <tr>\n",
              "      <th>6</th>\n",
              "      <td>0.259505</td>\n",
              "      <td>-0.028877</td>\n",
              "    </tr>\n",
              "    <tr>\n",
              "      <th>2</th>\n",
              "      <td>0.506667</td>\n",
              "      <td>1.710806</td>\n",
              "    </tr>\n",
              "    <tr>\n",
              "      <th>3</th>\n",
              "      <td>0.544958</td>\n",
              "      <td>-0.100091</td>\n",
              "    </tr>\n",
              "    <tr>\n",
              "      <th>5</th>\n",
              "      <td>-0.009247</td>\n",
              "      <td>-0.226838</td>\n",
              "    </tr>\n",
              "    <tr>\n",
              "      <th>9</th>\n",
              "      <td>1.922264</td>\n",
              "      <td>-0.168075</td>\n",
              "    </tr>\n",
              "    <tr>\n",
              "      <th>8</th>\n",
              "      <td>0.191701</td>\n",
              "      <td>-0.204255</td>\n",
              "    </tr>\n",
              "    <tr>\n",
              "      <th>0</th>\n",
              "      <td>-1.175025</td>\n",
              "      <td>0.939515</td>\n",
              "    </tr>\n",
              "    <tr>\n",
              "      <th>7</th>\n",
              "      <td>-0.770926</td>\n",
              "      <td>-1.472450</td>\n",
              "    </tr>\n",
              "  </tbody>\n",
              "</table>\n",
              "</div>"
            ],
            "text/plain": [
              "       col1      col2\n",
              "1  0.554013  0.095632\n",
              "4  1.604642  0.658729\n",
              "6  0.259505 -0.028877\n",
              "2  0.506667  1.710806\n",
              "3  0.544958 -0.100091\n",
              "5 -0.009247 -0.226838\n",
              "9  1.922264 -0.168075\n",
              "8  0.191701 -0.204255\n",
              "0 -1.175025  0.939515\n",
              "7 -0.770926 -1.472450"
            ]
          },
          "metadata": {
            "tags": []
          },
          "execution_count": 125
        }
      ]
    },
    {
      "cell_type": "markdown",
      "metadata": {
        "id": "vFpJEF_ft1sT"
      },
      "source": [
        "## Sorting Algorithm"
      ]
    },
    {
      "cell_type": "code",
      "metadata": {
        "id": "i5_dLtjNt1sT",
        "outputId": "73a0e17e-c6ae-4527-f94c-d32ae580b2fe"
      },
      "source": [
        "unsorted_df = pd.DataFrame({'col1':[2,1,1,1],'col2':[1,3,2,4]})\n",
        "sorted_df = unsorted_df.sort_values(by='col1' ,kind='mergesort')\n",
        "sorted_df"
      ],
      "execution_count": null,
      "outputs": [
        {
          "output_type": "execute_result",
          "data": {
            "text/html": [
              "<div>\n",
              "<style scoped>\n",
              "    .dataframe tbody tr th:only-of-type {\n",
              "        vertical-align: middle;\n",
              "    }\n",
              "\n",
              "    .dataframe tbody tr th {\n",
              "        vertical-align: top;\n",
              "    }\n",
              "\n",
              "    .dataframe thead th {\n",
              "        text-align: right;\n",
              "    }\n",
              "</style>\n",
              "<table border=\"1\" class=\"dataframe\">\n",
              "  <thead>\n",
              "    <tr style=\"text-align: right;\">\n",
              "      <th></th>\n",
              "      <th>col1</th>\n",
              "      <th>col2</th>\n",
              "    </tr>\n",
              "  </thead>\n",
              "  <tbody>\n",
              "    <tr>\n",
              "      <th>1</th>\n",
              "      <td>1</td>\n",
              "      <td>3</td>\n",
              "    </tr>\n",
              "    <tr>\n",
              "      <th>2</th>\n",
              "      <td>1</td>\n",
              "      <td>2</td>\n",
              "    </tr>\n",
              "    <tr>\n",
              "      <th>3</th>\n",
              "      <td>1</td>\n",
              "      <td>4</td>\n",
              "    </tr>\n",
              "    <tr>\n",
              "      <th>0</th>\n",
              "      <td>2</td>\n",
              "      <td>1</td>\n",
              "    </tr>\n",
              "  </tbody>\n",
              "</table>\n",
              "</div>"
            ],
            "text/plain": [
              "   col1  col2\n",
              "1     1     3\n",
              "2     1     2\n",
              "3     1     4\n",
              "0     2     1"
            ]
          },
          "metadata": {
            "tags": []
          },
          "execution_count": 126
        }
      ]
    },
    {
      "cell_type": "markdown",
      "metadata": {
        "id": "6aOY9ycVt1sU"
      },
      "source": [
        "# Text Data"
      ]
    },
    {
      "cell_type": "markdown",
      "metadata": {
        "id": "J5OKCQCNt1sU"
      },
      "source": [
        "#### 1\tlower() Converts strings in the Series/Index to lower case.\n",
        "####\n",
        "#### 2\tupper() Converts strings in the Series/Index to upper case.\n",
        "####\n",
        "#### 3\tlen() Computes String length().\n",
        "####\n",
        "#### 4\tstrip() Helps strip whitespace(including newline) from each string in the Series/index from both the sides.\n",
        "####\n",
        "#### 5\tsplit(' ') Splits each string with the given pattern.\n",
        "####\n",
        "#### 6\tcat(sep=' ') Concatenates the series/index elements with given separator.\n",
        "####\n",
        "#### 7\tget_dummies() Returns the DataFrame with One-Hot Encoded values.\n",
        "####\n",
        "#### 8\tcontains(pattern) Returns a Boolean value True for each element if the substring contains in the element, else False.\n",
        "####\n",
        "#### 9  replace(a,b) Replaces the value a with the value b.\n",
        "####\n",
        "#### 10 repeat(value) Repeats each element with specified number of times.\n",
        "####\n",
        "#### 11\tcount(pattern) Returns count of appearance of pattern in each element.\n",
        "####\n",
        "#### 12\tstartswith(pattern) Returns true if the element in the Series/Index starts with the pattern.\n",
        "####\n",
        "#### 13\tendswith(pattern)  Returns true if the element in the Series/Index ends with the pattern.\n",
        "####\n",
        "#### 14\tfind(pattern) Returns the first position of the first occurrence of the pattern.\n",
        "####\n",
        "#### 15\tfindall(pattern) Returns a list of all occurrence of the pattern.\n",
        "####\n",
        "#### 16\tswapcase  Swaps the case lower/upper.\n",
        "####\n",
        "#### 17\tislower() Checks whether all characters in each string in the Series/Index in lower case or not. Returns Boolean\n",
        "####\n",
        "#### 18\tisupper() Checks whether all characters in each string in the Series/Index in upper case or not. Returns Boolean.\n",
        "####\n",
        "#### 19\tisnumeric() Checks whether all characters in each string in the Series/Index are numeric. Returns Boolean."
      ]
    },
    {
      "cell_type": "code",
      "metadata": {
        "id": "ZAPNJygAt1sU",
        "outputId": "2fc035a6-81fe-4586-e480-9af9ee35fa3b"
      },
      "source": [
        "import pandas as pd\n",
        "import numpy as np\n",
        "\n",
        "s = pd.Series(['Tom', 'William Rick', 'John', 'Alber@t', np.nan, '1234','SteveSmith'])\n",
        "\n",
        "s\n",
        "a=s.str.lower()\n",
        "b=s.str.upper()\n",
        "c=s.str.len()\n",
        "print(s)\n",
        "print(\"------------lower--------------\")\n",
        "print(a)\n",
        "print(\"------------uppor--------------\")\n",
        "print(b)\n",
        "print(\"-------------len-------------\")\n",
        "print(c)"
      ],
      "execution_count": null,
      "outputs": [
        {
          "output_type": "execute_result",
          "data": {
            "text/plain": [
              "0             Tom\n",
              "1    William Rick\n",
              "2            John\n",
              "3         Alber@t\n",
              "4             NaN\n",
              "5            1234\n",
              "6      SteveSmith\n",
              "dtype: object"
            ]
          },
          "metadata": {
            "tags": []
          },
          "execution_count": 127
        }
      ]
    },
    {
      "cell_type": "code",
      "metadata": {
        "id": "RDzsm9mGt1sV",
        "outputId": "e06d9649-c980-4160-ec20-cb2526aacec9"
      },
      "source": [
        "s = pd.Series(['Tom', 'William Rick', 'John', 'Alber@t', np.nan, '1234','SteveSmith'])\n",
        "\n",
        "a=s.str.lower()\n",
        "b=s.str.upper()\n",
        "c=s.str.len()\n",
        "print(s)\n",
        "print(\"------------lower--------------\")\n",
        "print(a)\n",
        "print(\"------------uppor--------------\")\n",
        "print(b)\n",
        "print(\"-------------len-------------\")\n",
        "print(c)"
      ],
      "execution_count": null,
      "outputs": [
        {
          "output_type": "stream",
          "text": [
            "0             Tom\n",
            "1    William Rick\n",
            "2            John\n",
            "3         Alber@t\n",
            "4             NaN\n",
            "5            1234\n",
            "6      SteveSmith\n",
            "dtype: object\n",
            "------------lower--------------\n",
            "0             tom\n",
            "1    william rick\n",
            "2            john\n",
            "3         alber@t\n",
            "4             NaN\n",
            "5            1234\n",
            "6      stevesmith\n",
            "dtype: object\n",
            "------------uppor--------------\n",
            "0             TOM\n",
            "1    WILLIAM RICK\n",
            "2            JOHN\n",
            "3         ALBER@T\n",
            "4             NaN\n",
            "5            1234\n",
            "6      STEVESMITH\n",
            "dtype: object\n",
            "-------------len-------------\n",
            "0     3.0\n",
            "1    12.0\n",
            "2     4.0\n",
            "3     7.0\n",
            "4     NaN\n",
            "5     4.0\n",
            "6    10.0\n",
            "dtype: float64\n"
          ],
          "name": "stdout"
        }
      ]
    },
    {
      "cell_type": "code",
      "metadata": {
        "id": "uwpGQ8wkt1sV",
        "outputId": "2b94b91f-04a7-45c1-c875-f5fc5eda5b47"
      },
      "source": [
        "s = pd.Series(['Tom  ', 'William Rick  ', 'John  ', 'Alber@t'])\n",
        "print(s)\n",
        "print (\"Split Pattern:\")\n",
        "s.str.split(' ')"
      ],
      "execution_count": null,
      "outputs": [
        {
          "output_type": "stream",
          "text": [
            "0             Tom  \n",
            "1    William Rick  \n",
            "2            John  \n",
            "3           Alber@t\n",
            "dtype: object\n",
            "Split Pattern:\n"
          ],
          "name": "stdout"
        },
        {
          "output_type": "execute_result",
          "data": {
            "text/plain": [
              "0              [Tom, , ]\n",
              "1    [William, Rick, , ]\n",
              "2             [John, , ]\n",
              "3              [Alber@t]\n",
              "dtype: object"
            ]
          },
          "metadata": {
            "tags": []
          },
          "execution_count": 15
        }
      ]
    },
    {
      "cell_type": "code",
      "metadata": {
        "id": "jo5fUqPUt1sW",
        "outputId": "24ba208d-69fe-4ee1-f166-7ad0a09ad755"
      },
      "source": [
        "s = pd.Series(['Tom ', ' William Rick', 'John', 'Alber@t'])\n",
        "\n",
        "s.str.cat(sep='_')"
      ],
      "execution_count": null,
      "outputs": [
        {
          "output_type": "execute_result",
          "data": {
            "text/plain": [
              "'Tom _ William Rick_John_Alber@t'"
            ]
          },
          "metadata": {
            "tags": []
          },
          "execution_count": 130
        }
      ]
    },
    {
      "cell_type": "code",
      "metadata": {
        "id": "pZTxSnEjt1sW",
        "outputId": "9ff81178-048c-4ae1-bfdb-5796aa227661"
      },
      "source": [
        "s = pd.Series(['Tom ', ' William Rick', 'John', 'Alber@t'])\n",
        "\n",
        "s.str.get_dummies()"
      ],
      "execution_count": null,
      "outputs": [
        {
          "output_type": "execute_result",
          "data": {
            "text/html": [
              "<div>\n",
              "<style scoped>\n",
              "    .dataframe tbody tr th:only-of-type {\n",
              "        vertical-align: middle;\n",
              "    }\n",
              "\n",
              "    .dataframe tbody tr th {\n",
              "        vertical-align: top;\n",
              "    }\n",
              "\n",
              "    .dataframe thead th {\n",
              "        text-align: right;\n",
              "    }\n",
              "</style>\n",
              "<table border=\"1\" class=\"dataframe\">\n",
              "  <thead>\n",
              "    <tr style=\"text-align: right;\">\n",
              "      <th></th>\n",
              "      <th>William Rick</th>\n",
              "      <th>Alber@t</th>\n",
              "      <th>John</th>\n",
              "      <th>Tom</th>\n",
              "    </tr>\n",
              "  </thead>\n",
              "  <tbody>\n",
              "    <tr>\n",
              "      <th>0</th>\n",
              "      <td>0</td>\n",
              "      <td>0</td>\n",
              "      <td>0</td>\n",
              "      <td>1</td>\n",
              "    </tr>\n",
              "    <tr>\n",
              "      <th>1</th>\n",
              "      <td>1</td>\n",
              "      <td>0</td>\n",
              "      <td>0</td>\n",
              "      <td>0</td>\n",
              "    </tr>\n",
              "    <tr>\n",
              "      <th>2</th>\n",
              "      <td>0</td>\n",
              "      <td>0</td>\n",
              "      <td>1</td>\n",
              "      <td>0</td>\n",
              "    </tr>\n",
              "    <tr>\n",
              "      <th>3</th>\n",
              "      <td>0</td>\n",
              "      <td>1</td>\n",
              "      <td>0</td>\n",
              "      <td>0</td>\n",
              "    </tr>\n",
              "  </tbody>\n",
              "</table>\n",
              "</div>"
            ],
            "text/plain": [
              "    William Rick  Alber@t  John  Tom \n",
              "0              0        0     0     1\n",
              "1              1        0     0     0\n",
              "2              0        0     1     0\n",
              "3              0        1     0     0"
            ]
          },
          "metadata": {
            "tags": []
          },
          "execution_count": 16
        }
      ]
    },
    {
      "cell_type": "code",
      "metadata": {
        "id": "8JMHQqNHt1sW",
        "outputId": "2b6f05e4-f173-452a-99a7-f44b92189534"
      },
      "source": [
        "s = pd.Series(['Tom ', ' William Rick', 'John', 'Alber@t'])\n",
        "\n",
        "s.str.contains(' ')"
      ],
      "execution_count": null,
      "outputs": [
        {
          "output_type": "execute_result",
          "data": {
            "text/plain": [
              "0     True\n",
              "1     True\n",
              "2    False\n",
              "3    False\n",
              "dtype: bool"
            ]
          },
          "metadata": {
            "tags": []
          },
          "execution_count": 17
        }
      ]
    },
    {
      "cell_type": "code",
      "metadata": {
        "id": "9d-y2sLCt1sX",
        "outputId": "99cac688-0b80-4ecc-8fd4-f85c4befd504"
      },
      "source": [
        "s = pd.Series(['Tom ', ' William Rick', 'John', 'Alber@t'])\n",
        "print (s)\n",
        "print (\"After replacing @ with $:\")\n",
        "s.str.replace('@','$')"
      ],
      "execution_count": null,
      "outputs": [
        {
          "output_type": "stream",
          "text": [
            "0             Tom \n",
            "1     William Rick\n",
            "2             John\n",
            "3          Alber@t\n",
            "dtype: object\n",
            "After replacing @ with $:\n"
          ],
          "name": "stdout"
        },
        {
          "output_type": "execute_result",
          "data": {
            "text/plain": [
              "0             Tom \n",
              "1     William Rick\n",
              "2             John\n",
              "3          Alber$t\n",
              "dtype: object"
            ]
          },
          "metadata": {
            "tags": []
          },
          "execution_count": 133
        }
      ]
    },
    {
      "cell_type": "code",
      "metadata": {
        "id": "uMOmbn7Tt1sY",
        "outputId": "491858e5-8d4d-4197-98f4-f172cfdd38e3"
      },
      "source": [
        "s = pd.Series(['Tom ', ' William Rick', 'John', 'Alber@t'])\n",
        "\n",
        "s.str.repeat(2)"
      ],
      "execution_count": null,
      "outputs": [
        {
          "output_type": "execute_result",
          "data": {
            "text/plain": [
              "0                      Tom Tom \n",
              "1     William Rick William Rick\n",
              "2                      JohnJohn\n",
              "3                Alber@tAlber@t\n",
              "dtype: object"
            ]
          },
          "metadata": {
            "tags": []
          },
          "execution_count": 134
        }
      ]
    },
    {
      "cell_type": "code",
      "metadata": {
        "id": "s1ZgRAHzt1sY",
        "outputId": "371148de-091f-4906-aee9-08c5584f921f"
      },
      "source": [
        "s = pd.Series(['Tom ', ' William Rick', 'John', 'Alber@t'])\n",
        "\n",
        "print (\"The number of 'm's in each string:\")\n",
        "s.str.count('m')"
      ],
      "execution_count": null,
      "outputs": [
        {
          "output_type": "stream",
          "text": [
            "The number of 'm's in each string:\n"
          ],
          "name": "stdout"
        },
        {
          "output_type": "execute_result",
          "data": {
            "text/plain": [
              "0    1\n",
              "1    1\n",
              "2    0\n",
              "3    0\n",
              "dtype: int64"
            ]
          },
          "metadata": {
            "tags": []
          },
          "execution_count": 135
        }
      ]
    },
    {
      "cell_type": "code",
      "metadata": {
        "id": "x_J-sqLHt1sY",
        "outputId": "2ed88e21-1e66-4b37-bdc7-1ba6fce192b2"
      },
      "source": [
        "s = pd.Series(['Tom ', ' William Rick', 'John', 'Alber@t'])\n",
        "\n",
        "print (\"Strings that start with 'T':\")\n",
        "s.str. startswith ('T')"
      ],
      "execution_count": null,
      "outputs": [
        {
          "output_type": "stream",
          "text": [
            "Strings that start with 'T':\n"
          ],
          "name": "stdout"
        },
        {
          "output_type": "execute_result",
          "data": {
            "text/plain": [
              "0     True\n",
              "1    False\n",
              "2    False\n",
              "3    False\n",
              "dtype: bool"
            ]
          },
          "metadata": {
            "tags": []
          },
          "execution_count": 136
        }
      ]
    },
    {
      "cell_type": "code",
      "metadata": {
        "id": "Pl25mfGVt1sZ",
        "outputId": "c3fa5aa3-c49f-44ec-d9d6-c0f9d714129b"
      },
      "source": [
        "s = pd.Series(['Tom ', ' William Rick', 'John', 'Alber@t'])\n",
        "print (\"Strings that end with 't':\")\n",
        "s.str.endswith('t')"
      ],
      "execution_count": null,
      "outputs": [
        {
          "output_type": "stream",
          "text": [
            "Strings that end with 't':\n"
          ],
          "name": "stdout"
        },
        {
          "output_type": "execute_result",
          "data": {
            "text/plain": [
              "0    False\n",
              "1    False\n",
              "2    False\n",
              "3     True\n",
              "dtype: bool"
            ]
          },
          "metadata": {
            "tags": []
          },
          "execution_count": 137
        }
      ]
    },
    {
      "cell_type": "code",
      "metadata": {
        "id": "Pu8-1NGWt1sZ",
        "outputId": "9f2f79d0-ff1e-478b-eb10-7ae42389dd52"
      },
      "source": [
        "s = pd.Series(['Tom ', ' William Rick', 'John', 'Alber@t'])\n",
        "\n",
        "s.str.find('e')\n"
      ],
      "execution_count": null,
      "outputs": [
        {
          "output_type": "execute_result",
          "data": {
            "text/plain": [
              "0   -1\n",
              "1   -1\n",
              "2   -1\n",
              "3    3\n",
              "dtype: int64"
            ]
          },
          "metadata": {
            "tags": []
          },
          "execution_count": 19
        }
      ]
    },
    {
      "cell_type": "code",
      "metadata": {
        "id": "lwSTxgnft1sZ",
        "outputId": "f3acb4c0-e948-4613-e713-283a9d370df7"
      },
      "source": [
        "s = pd.Series(['Tom ', ' William Rick', 'John', 'Alber@t'])\n",
        "\n",
        "s.str.findall('e')"
      ],
      "execution_count": null,
      "outputs": [
        {
          "output_type": "execute_result",
          "data": {
            "text/plain": [
              "0     []\n",
              "1     []\n",
              "2     []\n",
              "3    [e]\n",
              "dtype: object"
            ]
          },
          "metadata": {
            "tags": []
          },
          "execution_count": 139
        }
      ]
    },
    {
      "cell_type": "code",
      "metadata": {
        "id": "lHHg2QkEt1sa",
        "outputId": "21109614-328a-4d3d-def4-29f5ded0b588"
      },
      "source": [
        "s = pd.Series(['Tom', 'William Rick', 'John', 'Alber@t'])\n",
        "s.str.swapcase()"
      ],
      "execution_count": null,
      "outputs": [
        {
          "output_type": "execute_result",
          "data": {
            "text/plain": [
              "0             tOM\n",
              "1    wILLIAM rICK\n",
              "2            jOHN\n",
              "3         aLBER@T\n",
              "dtype: object"
            ]
          },
          "metadata": {
            "tags": []
          },
          "execution_count": 140
        }
      ]
    },
    {
      "cell_type": "code",
      "metadata": {
        "id": "DtTvf8jtt1sb",
        "outputId": "695ee204-2806-49e5-be80-32240c325b5c"
      },
      "source": [
        "s = pd.Series(['tom', 'William Rick', 'John', 'Alber@t'])\n",
        "s.str.islower()"
      ],
      "execution_count": null,
      "outputs": [
        {
          "output_type": "execute_result",
          "data": {
            "text/plain": [
              "0     True\n",
              "1    False\n",
              "2    False\n",
              "3    False\n",
              "dtype: bool"
            ]
          },
          "metadata": {
            "tags": []
          },
          "execution_count": 20
        }
      ]
    },
    {
      "cell_type": "code",
      "metadata": {
        "id": "IgDdqogvt1sb",
        "outputId": "6f2b43d5-d58d-4527-e004-6c48d191054c"
      },
      "source": [
        "s = pd.Series(['TOM', 'William Rick', 'John', 'Alber@t'])\n",
        "\n",
        "s.str.isupper()"
      ],
      "execution_count": null,
      "outputs": [
        {
          "output_type": "execute_result",
          "data": {
            "text/plain": [
              "0     True\n",
              "1    False\n",
              "2    False\n",
              "3    False\n",
              "dtype: bool"
            ]
          },
          "metadata": {
            "tags": []
          },
          "execution_count": 21
        }
      ]
    },
    {
      "cell_type": "code",
      "metadata": {
        "id": "Bz_nve02t1sb",
        "outputId": "614ad8cb-554c-42e9-d12f-3cd72cabb79f"
      },
      "source": [
        "s = pd.Series(['Tom', 'William Rick', 'John', 'Alber@t'])\n",
        "\n",
        "s.str.isnumeric()"
      ],
      "execution_count": null,
      "outputs": [
        {
          "output_type": "execute_result",
          "data": {
            "text/plain": [
              "0    False\n",
              "1    False\n",
              "2    False\n",
              "3    False\n",
              "dtype: bool"
            ]
          },
          "metadata": {
            "tags": []
          },
          "execution_count": 143
        }
      ]
    },
    {
      "cell_type": "markdown",
      "metadata": {
        "id": "NS8ZgOjht1sc"
      },
      "source": [
        "# Options and Customization"
      ]
    },
    {
      "cell_type": "markdown",
      "metadata": {
        "id": "Y8YpIeapt1sc"
      },
      "source": [
        "## get_option()\n",
        "## set_option()\n",
        "## reset_option()\n",
        "## describe_option()\n",
        "## option_context()"
      ]
    },
    {
      "cell_type": "markdown",
      "metadata": {
        "id": "LYESYCr0t1sc"
      },
      "source": [
        "### get_option(param)"
      ]
    },
    {
      "cell_type": "code",
      "metadata": {
        "id": "vO9_qzMqt1sd",
        "outputId": "3897b4a2-fa7f-4157-8d2d-e4fd61ab4755"
      },
      "source": [
        "import pandas as pd\n",
        "print(\"display.max_rows\")\n",
        "print(pd.get_option(\"display.max_rows\"))\n",
        "print(\"display.max_columns\")\n",
        "print (pd.get_option(\"display.max_columns\"))"
      ],
      "execution_count": null,
      "outputs": [
        {
          "output_type": "stream",
          "text": [
            "display.max_rows\n",
            "60\n",
            "display.max_columns\n",
            "20\n"
          ],
          "name": "stdout"
        }
      ]
    },
    {
      "cell_type": "markdown",
      "metadata": {
        "id": "rf1hpLx6t1sd"
      },
      "source": [
        "### set_option(param,value)"
      ]
    },
    {
      "cell_type": "code",
      "metadata": {
        "id": "yykUyF0Jt1sd",
        "outputId": "006e7c7d-c2a1-4631-e375-a5b2b9350322"
      },
      "source": [
        "pd.set_option(\"display.max_rows\",80)\n",
        "print(\"Change the max rows\")\n",
        "print (pd.get_option(\"display.max_rows\"))\n",
        "pd.set_option(\"display.max_columns\",30)\n",
        "print(\"Change the max columns\")\n",
        "print (pd.get_option(\"display.max_columns\"))"
      ],
      "execution_count": null,
      "outputs": [
        {
          "output_type": "stream",
          "text": [
            "Change the max rows\n",
            "80\n",
            "Change the max columns\n",
            "30\n"
          ],
          "name": "stdout"
        }
      ]
    },
    {
      "cell_type": "markdown",
      "metadata": {
        "id": "Oi7R3sXKt1sd"
      },
      "source": [
        "### reset_option(param)"
      ]
    },
    {
      "cell_type": "code",
      "metadata": {
        "id": "UTT6b2Bet1sd",
        "outputId": "9c9159ed-c93f-4cea-c416-6be81649b738"
      },
      "source": [
        "pd.reset_option(\"display.max_rows\")\n",
        "print (pd.get_option(\"display.max_rows\"))\n",
        "pd.reset_option(\"display.max_columns\")\n",
        "print (pd.get_option(\"display.max_columns\"))"
      ],
      "execution_count": null,
      "outputs": [
        {
          "output_type": "stream",
          "text": [
            "60\n",
            "20\n"
          ],
          "name": "stdout"
        }
      ]
    },
    {
      "cell_type": "markdown",
      "metadata": {
        "id": "aqWwOhlvt1si"
      },
      "source": [
        "### describe_option(param)"
      ]
    },
    {
      "cell_type": "code",
      "metadata": {
        "id": "jO4msvQMt1si",
        "outputId": "2c555b6c-465c-4457-c1df-3f7dc04a6a91"
      },
      "source": [
        "pd.describe_option(\"display.max_rows\")"
      ],
      "execution_count": null,
      "outputs": [
        {
          "output_type": "stream",
          "text": [
            "display.max_rows : int\n",
            "    If max_rows is exceeded, switch to truncate view. Depending on\n",
            "    `large_repr`, objects are either centrally truncated or printed as\n",
            "    a summary view. 'None' value means unlimited.\n",
            "\n",
            "    In case python/IPython is running in a terminal and `large_repr`\n",
            "    equals 'truncate' this can be set to 0 and pandas will auto-detect\n",
            "    the height of the terminal and print a truncated object which fits\n",
            "    the screen height. The IPython notebook, IPython qtconsole, or\n",
            "    IDLE do not run in a terminal and hence it is not possible to do\n",
            "    correct auto-detection.\n",
            "    [default: 60] [currently: 60]\n",
            "\n",
            "\n"
          ],
          "name": "stdout"
        }
      ]
    },
    {
      "cell_type": "code",
      "metadata": {
        "id": "s3qbMFNct1sj",
        "colab": {
          "base_uri": "https://localhost:8080/"
        },
        "outputId": "47f42ed2-a9d7-4bfa-dfb1-a95ebf77c36c"
      },
      "source": [
        "pd.describe_option(\"display.max_columns\")"
      ],
      "execution_count": null,
      "outputs": [
        {
          "output_type": "stream",
          "text": [
            "display.max_columns : int\n",
            "    If max_cols is exceeded, switch to truncate view. Depending on\n",
            "    `large_repr`, objects are either centrally truncated or printed as\n",
            "    a summary view. 'None' value means unlimited.\n",
            "\n",
            "    In case python/IPython is running in a terminal and `large_repr`\n",
            "    equals 'truncate' this can be set to 0 and pandas will auto-detect\n",
            "    the width of the terminal and print a truncated object which fits\n",
            "    the screen width. The IPython notebook, IPython qtconsole, or IDLE\n",
            "    do not run in a terminal and hence it is not possible to do\n",
            "    correct auto-detection.\n",
            "    [default: 0] [currently: 0]\n"
          ],
          "name": "stdout"
        }
      ]
    },
    {
      "cell_type": "code",
      "metadata": {
        "id": "wqE58ESct1sj",
        "outputId": "3a35e688-5084-46a2-c4b6-b1c490e47607"
      },
      "source": [
        "with pd.option_context(\"display.max_rows\",10):\n",
        "    print(pd.get_option(\"display.max_rows\"))\n",
        "    print(pd.get_option(\"display.max_rows\"))"
      ],
      "execution_count": null,
      "outputs": [
        {
          "output_type": "stream",
          "text": [
            "10\n",
            "10\n"
          ],
          "name": "stdout"
        }
      ]
    },
    {
      "cell_type": "markdown",
      "metadata": {
        "id": "dgXLL2C_t1sj"
      },
      "source": [
        "# Indexing and Selecting Data"
      ]
    },
    {
      "cell_type": "markdown",
      "metadata": {
        "id": "djky3rKct1sj"
      },
      "source": [
        "## 1.loc()-Label based\n",
        "\n",
        "## 2.iloc()-Integer based\n",
        "\n",
        "## 3.ix()-Both Label and Integer based"
      ]
    },
    {
      "cell_type": "markdown",
      "metadata": {
        "id": "uI4TdDs1t1sk"
      },
      "source": [
        "# .loc()"
      ]
    },
    {
      "cell_type": "markdown",
      "metadata": {
        "id": "7Raq7bIKt1sk"
      },
      "source": [
        "#### single scalar label\n",
        "#### list of labels\n",
        "#### slice object\n",
        "#### Boolean array"
      ]
    },
    {
      "cell_type": "code",
      "metadata": {
        "id": "j7dsDa-1t1sk",
        "outputId": "1bf93f3d-c569-439f-f70d-59e28a4e482a"
      },
      "source": [
        "import pandas as pd\n",
        "import numpy as np\n",
        "\n",
        "df = pd.DataFrame(np.random.randn(8, 4),\n",
        "index = ['a','b','c','d','e','f','g','h'], columns = ['A', 'B', 'C', 'D'])\n",
        "\n",
        "print(df)\n",
        "print(\"----------------------------------------\")\n",
        "#select all rows for a specific column\n",
        "print (df.loc[:,'A'])\n",
        "print(\"----------------------------------------\")\n",
        "# Select all rows for multiple columns, say list[]\n",
        "print (df.loc[:,['A','C']])\n",
        "print(\"----------------------------------------\")\n",
        "# Select few rows for multiple columns, say list[]\n",
        "print (df.loc[['a','b','f','h'],['A','C']])\n",
        "print(\"----------------------------------------\")\n",
        "# Select range of rows for all columns\n",
        "print (df.loc['a':'e'])\n",
        "print(\"----------------------------------------\")\n",
        "# for getting values with a boolean array\n",
        "print (df.loc['a']>0)\n",
        "print(\"----------------------------------------\")\n",
        "# for getting values with a boolean array\n",
        "print (df>0)"
      ],
      "execution_count": null,
      "outputs": [
        {
          "output_type": "stream",
          "text": [
            "          A         B         C         D\n",
            "a  0.227747  1.122365  1.315731 -0.261359\n",
            "b  1.822500 -0.574526  3.599579  0.821923\n",
            "c  0.834830 -0.754508  0.161621  1.878189\n",
            "d -1.203812  1.248114 -0.089176  0.067376\n",
            "e -0.879965  0.574576  0.515250  0.847327\n",
            "f  0.828375 -0.171245 -1.143161  1.253081\n",
            "g  0.619149 -1.044557 -0.771564 -0.252449\n",
            "h -1.337810  0.000550 -0.596813  1.297031\n",
            "----------------------------------------\n",
            "a    0.227747\n",
            "b    1.822500\n",
            "c    0.834830\n",
            "d   -1.203812\n",
            "e   -0.879965\n",
            "f    0.828375\n",
            "g    0.619149\n",
            "h   -1.337810\n",
            "Name: A, dtype: float64\n",
            "----------------------------------------\n",
            "          A         C\n",
            "a  0.227747  1.315731\n",
            "b  1.822500  3.599579\n",
            "c  0.834830  0.161621\n",
            "d -1.203812 -0.089176\n",
            "e -0.879965  0.515250\n",
            "f  0.828375 -1.143161\n",
            "g  0.619149 -0.771564\n",
            "h -1.337810 -0.596813\n",
            "----------------------------------------\n",
            "          A         C\n",
            "a  0.227747  1.315731\n",
            "b  1.822500  3.599579\n",
            "f  0.828375 -1.143161\n",
            "h -1.337810 -0.596813\n",
            "----------------------------------------\n",
            "          A         B         C         D\n",
            "a  0.227747  1.122365  1.315731 -0.261359\n",
            "b  1.822500 -0.574526  3.599579  0.821923\n",
            "c  0.834830 -0.754508  0.161621  1.878189\n",
            "d -1.203812  1.248114 -0.089176  0.067376\n",
            "e -0.879965  0.574576  0.515250  0.847327\n",
            "----------------------------------------\n",
            "A     True\n",
            "B     True\n",
            "C     True\n",
            "D    False\n",
            "Name: a, dtype: bool\n",
            "----------------------------------------\n",
            "       A      B      C      D\n",
            "a   True   True   True  False\n",
            "b   True  False   True   True\n",
            "c   True  False   True   True\n",
            "d  False   True  False   True\n",
            "e  False   True   True   True\n",
            "f   True  False  False   True\n",
            "g   True  False  False  False\n",
            "h  False   True  False   True\n"
          ],
          "name": "stdout"
        }
      ]
    },
    {
      "cell_type": "markdown",
      "metadata": {
        "id": "Mz_4OtK1t1sk"
      },
      "source": [
        "# .iloc()"
      ]
    },
    {
      "cell_type": "markdown",
      "metadata": {
        "id": "WQfD2Npnt1sk"
      },
      "source": [
        "## 0-based indexing"
      ]
    },
    {
      "cell_type": "markdown",
      "metadata": {
        "id": "0m892XPPt1sk"
      },
      "source": [
        "### Integer\n",
        "### list of integers\n",
        "### range of values"
      ]
    },
    {
      "cell_type": "code",
      "metadata": {
        "id": "XxLQ1nUtt1sl",
        "outputId": "0fa890d6-06d7-4178-d46c-4807fc0ca951"
      },
      "source": [
        "# import the pandas library and aliasing as pd\n",
        "import pandas as pd\n",
        "import numpy as np\n",
        "\n",
        "df = pd.DataFrame(np.random.randn(8, 4), columns = ['A', 'B', 'C', 'D'])\n",
        "\n",
        "print(df)\n",
        "print(\"----------------------------------------\")\n",
        "\n",
        "# select all rows for a specific column\n",
        "print (df.iloc[:4])\n",
        "\n",
        "print(\"----------------------------------------\")\n",
        "# Integer slicing[row,col]\n",
        "print (df.iloc[1:5, 2:4])\n",
        "\n",
        "print(\"----------------------------------------\")\n",
        "# Slicing through list of values\n",
        "print (df.iloc[[1, 3, 5], [1, 3]])\n",
        "print(\"----------------------------------------\")\n",
        "print (df.iloc[1:3, :])\n",
        "print(\"----------------------------------------\")\n",
        "print (df.iloc[:,1:3])\n",
        "print(\"----------------------------------------\")"
      ],
      "execution_count": null,
      "outputs": [
        {
          "output_type": "stream",
          "text": [
            "          A         B         C         D\n",
            "0  0.197683  1.284703 -1.186312  0.243199\n",
            "1  0.595383 -1.968393  1.400212 -1.554957\n",
            "2  1.638912 -0.343612  0.810869 -2.284399\n",
            "3  1.892892  0.252268  1.236760 -0.276994\n",
            "4  0.231191 -1.003299  1.381410 -0.770001\n",
            "5  2.635923 -1.317094  0.556144  0.662918\n",
            "6 -0.528518 -0.209682 -1.026075  1.030338\n",
            "7 -1.324937 -0.934585  0.548056 -1.432788\n",
            "----------------------------------------\n",
            "          A         B         C         D\n",
            "0  0.197683  1.284703 -1.186312  0.243199\n",
            "1  0.595383 -1.968393  1.400212 -1.554957\n",
            "2  1.638912 -0.343612  0.810869 -2.284399\n",
            "3  1.892892  0.252268  1.236760 -0.276994\n",
            "----------------------------------------\n",
            "          C         D\n",
            "1  1.400212 -1.554957\n",
            "2  0.810869 -2.284399\n",
            "3  1.236760 -0.276994\n",
            "4  1.381410 -0.770001\n",
            "----------------------------------------\n",
            "          B         D\n",
            "1 -1.968393 -1.554957\n",
            "3  0.252268 -0.276994\n",
            "5 -1.317094  0.662918\n",
            "----------------------------------------\n",
            "          A         B         C         D\n",
            "1  0.595383 -1.968393  1.400212 -1.554957\n",
            "2  1.638912 -0.343612  0.810869 -2.284399\n",
            "----------------------------------------\n",
            "          B         C\n",
            "0  1.284703 -1.186312\n",
            "1 -1.968393  1.400212\n",
            "2 -0.343612  0.810869\n",
            "3  0.252268  1.236760\n",
            "4 -1.003299  1.381410\n",
            "5 -1.317094  0.556144\n",
            "6 -0.209682 -1.026075\n",
            "7 -0.934585  0.548056\n",
            "----------------------------------------\n"
          ],
          "name": "stdout"
        }
      ]
    },
    {
      "cell_type": "markdown",
      "metadata": {
        "id": "oEnXshPwt1sm"
      },
      "source": [
        "# .ix()"
      ]
    },
    {
      "cell_type": "markdown",
      "metadata": {
        "id": "_aGm6bidt1sm"
      },
      "source": [
        "## hybrid method for selections and subsetting the object "
      ]
    },
    {
      "cell_type": "code",
      "metadata": {
        "id": "Rxa5zn6ct1sm",
        "outputId": "3b3a5dd2-5665-4321-ef7a-0a03a49193d3"
      },
      "source": [
        "import pandas as pd\n",
        "import numpy as np\n",
        "import sys\n",
        "df = pd.DataFrame(np.random.randn(8, 4), columns = ['A', 'B', 'C', 'D'])\n",
        "\n",
        "print(df)\n",
        "# Integer slicing\n",
        "print (df.ix[:4])"
      ],
      "execution_count": null,
      "outputs": [
        {
          "output_type": "stream",
          "text": [
            "          A         B         C         D\n",
            "0 -0.587891 -1.989858 -0.394193 -0.789454\n",
            "1 -0.208494 -0.451296  0.857345  1.129054\n",
            "2 -0.696672  0.123776 -0.360295  0.891509\n",
            "3 -0.612386  0.776178  1.879543 -0.239012\n",
            "4 -1.614926  0.864426  0.343249  0.454800\n",
            "5  0.663516 -1.077774  1.282332 -1.870881\n",
            "6  0.615719  0.038384 -2.377752 -0.022681\n",
            "7  0.141457  0.565090 -1.716846  0.488644\n",
            "          A         B         C         D\n",
            "0 -0.587891 -1.989858 -0.394193 -0.789454\n",
            "1 -0.208494 -0.451296  0.857345  1.129054\n",
            "2 -0.696672  0.123776 -0.360295  0.891509\n",
            "3 -0.612386  0.776178  1.879543 -0.239012\n",
            "4 -1.614926  0.864426  0.343249  0.454800\n"
          ],
          "name": "stdout"
        },
        {
          "output_type": "stream",
          "text": [
            "C:\\ProgramData\\Anaconda3\\lib\\site-packages\\ipykernel_launcher.py:8: DeprecationWarning: \n",
            ".ix is deprecated. Please use\n",
            ".loc for label based indexing or\n",
            ".iloc for positional indexing\n",
            "\n",
            "See the documentation here:\n",
            "http://pandas.pydata.org/pandas-docs/stable/indexing.html#ix-indexer-is-deprecated\n",
            "  \n"
          ],
          "name": "stderr"
        }
      ]
    },
    {
      "cell_type": "markdown",
      "metadata": {
        "id": "-55qq_Q2t1sm"
      },
      "source": [
        "# Statistical Functions"
      ]
    },
    {
      "cell_type": "markdown",
      "metadata": {
        "id": "nLnkFCY7t1sm"
      },
      "source": [
        "## Percent_change\n",
        "Series and DatFrames have the function pct_change(). This function compares every element with its prior element and computes the change percentage.By default, the pct_change() operates on columns; if you want to apply the same row wise, then use \n",
        "##### axis=1() argument."
      ]
    },
    {
      "cell_type": "code",
      "metadata": {
        "id": "FhNFxE03t1sn",
        "outputId": "12722c8d-89cc-4a5c-b879-c70fd27f2cc9"
      },
      "source": [
        "import pandas as pd\n",
        "import numpy as np\n",
        "s = pd.Series([1,2,3,4,5,4])\n",
        "print(s)\n",
        "print(\"--------------------------\")\n",
        "print (s.pct_change())\n",
        "\n",
        "df = pd.DataFrame(np.random.randn(5, 2))\n",
        "print(df)\n",
        "print(\"--------------------------\")\n",
        "print (df.pct_change())"
      ],
      "execution_count": null,
      "outputs": [
        {
          "output_type": "stream",
          "text": [
            "0    1\n",
            "1    2\n",
            "2    3\n",
            "3    4\n",
            "4    5\n",
            "5    4\n",
            "dtype: int64\n",
            "--------------------------\n",
            "0         NaN\n",
            "1    1.000000\n",
            "2    0.500000\n",
            "3    0.333333\n",
            "4    0.250000\n",
            "5   -0.200000\n",
            "dtype: float64\n",
            "          0         1\n",
            "0  1.484910 -0.617742\n",
            "1 -1.027008 -0.004800\n",
            "2  0.221494  0.673904\n",
            "3  1.196372  0.084609\n",
            "4 -2.383107 -0.355813\n",
            "--------------------------\n",
            "          0           1\n",
            "0       NaN         NaN\n",
            "1 -1.691630   -0.992229\n",
            "2 -1.215669 -141.384387\n",
            "3  4.401378   -0.874449\n",
            "4 -2.991945   -5.205377\n"
          ],
          "name": "stdout"
        }
      ]
    },
    {
      "cell_type": "markdown",
      "metadata": {
        "id": "kf7fq7Cwt1sn"
      },
      "source": [
        "## Covariance\n",
        "Covariance is applied on series data. \n",
        "The Series object has a method cov to compute covariance between series objects.\n",
        "NA will be excluded automatically."
      ]
    },
    {
      "cell_type": "markdown",
      "metadata": {
        "id": "r1ZT86Eyt1sn"
      },
      "source": [
        "### Cov Series"
      ]
    },
    {
      "cell_type": "code",
      "metadata": {
        "id": "JP2cfL-Et1sn",
        "outputId": "65a7cad7-5253-4008-d4e9-495191b460c5"
      },
      "source": [
        "s1 = pd.Series(np.random.randn(10))\n",
        "s2 = pd.Series(np.random.randn(10))\n",
        "\n",
        "print(s1)\n",
        "print(\"----------------------\")\n",
        "print(s2)\n",
        "print(\"----------------------\")\n",
        "print (s1.cov(s2))"
      ],
      "execution_count": null,
      "outputs": [
        {
          "output_type": "stream",
          "text": [
            "0   -1.501316\n",
            "1    0.026901\n",
            "2   -1.287457\n",
            "3    0.164336\n",
            "4    1.796291\n",
            "5   -0.211072\n",
            "6    1.336489\n",
            "7   -1.550325\n",
            "8   -1.763407\n",
            "9    0.997184\n",
            "dtype: float64\n",
            "----------------------\n",
            "0   -0.376201\n",
            "1   -0.375206\n",
            "2    1.075562\n",
            "3   -1.270089\n",
            "4   -2.122021\n",
            "5    0.097421\n",
            "6   -0.628169\n",
            "7    0.013656\n",
            "8    0.722428\n",
            "9    0.303987\n",
            "dtype: float64\n",
            "----------------------\n",
            "-0.8013754090696936\n"
          ],
          "name": "stdout"
        }
      ]
    },
    {
      "cell_type": "markdown",
      "metadata": {
        "id": "OQPHB-MLt1sn"
      },
      "source": [
        "## Cov columns"
      ]
    },
    {
      "cell_type": "markdown",
      "metadata": {
        "id": "TEgQUnAKt1sn"
      },
      "source": [
        "N:B-Observe the cov between a and b column in the first statement and the same is the value returned by cov on DataFrame."
      ]
    },
    {
      "cell_type": "markdown",
      "metadata": {
        "id": "bXwqr2SOt1so"
      },
      "source": [
        "# Correlation"
      ]
    },
    {
      "cell_type": "markdown",
      "metadata": {
        "id": "nVTS-Uq5t1so"
      },
      "source": [
        "Correlation shows the linear relationship between any two array of values (series). \n",
        "There are multiple methods to compute the correlation like pearson(default), spearman and kendall.\n",
        "\n",
        "N:B-If any non-numeric column is present in the DataFrame, it is excluded automatically."
      ]
    },
    {
      "cell_type": "code",
      "metadata": {
        "id": "WXIBUgkut1so",
        "colab": {
          "base_uri": "https://localhost:8080/"
        },
        "outputId": "e3c2f85f-f9ae-4cf3-b6e8-eb0ab5a77dda"
      },
      "source": [
        "frame = pd.DataFrame(np.random.randn(10, 5), columns=['a', 'b', 'c', 'd', 'e'])\n",
        "print(frame)\n",
        "print(\"-----------------------\")\n",
        "print(frame['a'].corr(frame['b']))\n",
        "print(\"-----------------------\")\n",
        "print (frame.corr())"
      ],
      "execution_count": null,
      "outputs": [
        {
          "output_type": "stream",
          "text": [
            "          a         b         c         d         e\n",
            "0  0.333990 -0.441555  1.838871 -1.119555  0.600505\n",
            "1  1.350492  0.886628  0.133797  0.169119  0.236085\n",
            "2 -0.145368  2.453176  0.353547 -1.219101  1.344477\n",
            "3 -0.713534  0.624477 -0.935100 -0.005074  0.627080\n",
            "4 -0.993827  1.617011  0.733419 -0.914772 -1.079662\n",
            "5  0.048118 -0.588770 -0.234062  0.960131  1.072553\n",
            "6  0.169381 -0.416867  0.184780 -0.437518  1.621967\n",
            "7 -1.682019 -0.729135  0.822733 -1.280734  0.653966\n",
            "8  0.337202 -1.308642  1.090014  0.998060 -0.996104\n",
            "9  0.360203 -0.803640 -0.374819  2.271872  0.721852\n",
            "-----------------------\n",
            "-0.0909177357912145\n",
            "-----------------------\n",
            "          a         b         c         d         e\n",
            "a  1.000000 -0.090918 -0.018323  0.464209  0.080480\n",
            "b -0.090918  1.000000 -0.155633 -0.492642  0.021127\n",
            "c -0.018323 -0.155633  1.000000 -0.478763 -0.353899\n",
            "d  0.464209 -0.492642 -0.478763  1.000000 -0.092960\n",
            "e  0.080480  0.021127 -0.353899 -0.092960  1.000000\n"
          ],
          "name": "stdout"
        }
      ]
    },
    {
      "cell_type": "markdown",
      "metadata": {
        "id": "b6_qWJJDt1sp"
      },
      "source": [
        "# Data Ranking"
      ]
    },
    {
      "cell_type": "markdown",
      "metadata": {
        "id": "qktxFsnTt1sp"
      },
      "source": [
        "Rank optionally takes a parameter ascending which by default is true; \n",
        "when false, data is reverse-ranked, with larger values assigned a smaller rank.\n",
        "\n",
        "Rank supports different tie-breaking methods, specified with the method parameter\n",
        "\n",
        "average − average rank of tied group\n",
        "\n",
        "min − lowest rank in the group\n",
        "\n",
        "max − highest rank in the group\n",
        "\n",
        "first − ranks assigned in the order they appear in the array"
      ]
    },
    {
      "cell_type": "code",
      "metadata": {
        "id": "LfKq5tq3t1sp",
        "outputId": "7fa2ce97-ecb8-471b-bf1c-05322c902527"
      },
      "source": [
        "s = pd.Series(np.random.randn(5), index=list('abcde'))\n",
        "print(s)\n",
        "#s['d'] = s['b'] # so there's a tie\n",
        "print (s.rank())"
      ],
      "execution_count": null,
      "outputs": [
        {
          "output_type": "stream",
          "text": [
            "a   -0.649987\n",
            "b   -0.791483\n",
            "c    1.099957\n",
            "d    1.498697\n",
            "e   -1.120973\n",
            "dtype: float64\n",
            "a    3.0\n",
            "b    2.0\n",
            "c    4.0\n",
            "d    5.0\n",
            "e    1.0\n",
            "dtype: float64\n"
          ],
          "name": "stdout"
        }
      ]
    },
    {
      "cell_type": "markdown",
      "metadata": {
        "id": "z4GQ5C_vt1sp"
      },
      "source": [
        "# Window Functions"
      ]
    },
    {
      "cell_type": "markdown",
      "metadata": {
        "id": "PpHZXW_Xt1sp"
      },
      "source": [
        "## .rolling() Function"
      ]
    },
    {
      "cell_type": "markdown",
      "metadata": {
        "id": "Wg7lQec8t1sq"
      },
      "source": [
        "This function can be applied on a series of data. \n",
        "Specify the window=n argument and apply the appropriate statistical function on top of it"
      ]
    },
    {
      "cell_type": "code",
      "metadata": {
        "id": "PhdvL1Jxt1sq",
        "outputId": "1d3356a0-8f5b-4937-df1b-e30d20b04e35"
      },
      "source": [
        "df = pd.DataFrame(np.random.randn(10, 4),                   \n",
        "index = pd.date_range('1/1/2000', periods=10),\n",
        "columns = ['A', 'B', 'C', 'D'])\n",
        "print (df.rolling(window=3).mean())"
      ],
      "execution_count": null,
      "outputs": [
        {
          "output_type": "stream",
          "text": [
            "                   A         B         C         D\n",
            "2000-01-01       NaN       NaN       NaN       NaN\n",
            "2000-01-02       NaN       NaN       NaN       NaN\n",
            "2000-01-03 -0.355176 -0.497197 -0.754811 -0.521911\n",
            "2000-01-04 -0.581600 -0.333234 -0.918173 -0.474948\n",
            "2000-01-05  0.149737 -0.303143 -0.262876 -0.346426\n",
            "2000-01-06  0.371931  0.173186  0.086755 -0.081250\n",
            "2000-01-07  0.811980  0.062059 -0.499685 -0.342443\n",
            "2000-01-08  0.676746  0.253550 -0.701064 -0.616310\n",
            "2000-01-09  0.578237  0.154248 -0.465024 -1.070646\n",
            "2000-01-10  0.680482  0.224583  0.325093 -0.525061\n"
          ],
          "name": "stdout"
        }
      ]
    },
    {
      "cell_type": "markdown",
      "metadata": {
        "id": "4iE5fJpst1sq"
      },
      "source": [
        "Since the window size is 3, \n",
        "for first two elements there are nulls and from third the value will be the average of the n, n-1 and n-2 elements. \n",
        "Thus we can also apply various functions as mentioned above."
      ]
    },
    {
      "cell_type": "markdown",
      "metadata": {
        "id": "povMQeU_t1sq"
      },
      "source": [
        "# .expanding() Function"
      ]
    },
    {
      "cell_type": "markdown",
      "metadata": {
        "id": "1q-WO4X2t1sq"
      },
      "source": [
        "This function can be applied on a series of data. \n",
        "Specify the min_periods=n argument and apply the appropriate statistical function on top of it."
      ]
    },
    {
      "cell_type": "code",
      "metadata": {
        "id": "rP0S3oX_t1sq",
        "outputId": "85a73e35-1712-4e97-dd20-19d6e3de5834"
      },
      "source": [
        "df = pd.DataFrame(np.random.randn(10, 4),\n",
        "   index = pd.date_range('1/1/2000', periods=10),\n",
        "   columns = ['A', 'B', 'C', 'D'])\n",
        "print (df.expanding(min_periods=3).mean())"
      ],
      "execution_count": null,
      "outputs": [
        {
          "output_type": "stream",
          "text": [
            "                   A         B         C         D\n",
            "2000-01-01       NaN       NaN       NaN       NaN\n",
            "2000-01-02       NaN       NaN       NaN       NaN\n",
            "2000-01-03 -0.047910  0.243136  0.998788 -0.040776\n",
            "2000-01-04 -0.542528 -0.238123  0.605545 -0.426651\n",
            "2000-01-05 -0.550803 -0.349210  0.574455 -0.383647\n",
            "2000-01-06 -0.505185 -0.242004  0.207957 -0.183690\n",
            "2000-01-07 -0.486452 -0.222578  0.075093 -0.371500\n",
            "2000-01-08 -0.421113 -0.129157 -0.067041 -0.276082\n",
            "2000-01-09 -0.501251 -0.172554 -0.046293 -0.256697\n",
            "2000-01-10 -0.427698  0.051972  0.002970 -0.146050\n"
          ],
          "name": "stdout"
        }
      ]
    },
    {
      "cell_type": "markdown",
      "metadata": {
        "id": "TImhDkLdt1sr"
      },
      "source": [
        "# .ewm() Function"
      ]
    },
    {
      "cell_type": "markdown",
      "metadata": {
        "id": "neNWXndvt1sr"
      },
      "source": [
        "ewm is applied on a series of data.\n",
        "Specify any of the com, span, halflife argument and apply the appropriate statistical function on top of it. \n",
        "It assigns the weights exponentially."
      ]
    },
    {
      "cell_type": "code",
      "metadata": {
        "id": "nW6OMs9St1sr",
        "outputId": "3ce7f67d-4578-4aff-8f25-6437989b7039"
      },
      "source": [
        "df = pd.DataFrame(np.random.randn(10, 4),\n",
        "   index = pd.date_range('1/1/2000', periods=10),\n",
        "   columns = ['A', 'B', 'C', 'D'])\n",
        "print (df.ewm(com=0.5).mean())"
      ],
      "execution_count": null,
      "outputs": [
        {
          "output_type": "stream",
          "text": [
            "                   A         B         C         D\n",
            "2000-01-01 -0.221277 -0.105950 -2.015244 -1.210970\n",
            "2000-01-02 -0.339916  1.351820 -0.775545  0.591233\n",
            "2000-01-03 -1.337528  1.025298 -1.165305  0.405541\n",
            "2000-01-04 -0.715051  0.502928 -1.279293  0.470560\n",
            "2000-01-05 -0.062274  1.081718 -1.293153  0.515224\n",
            "2000-01-06  0.352552  0.331221 -0.302150  0.897758\n",
            "2000-01-07  0.258823 -0.248684  0.382490  0.778726\n",
            "2000-01-08 -0.552006 -0.588933  1.037440  0.220311\n",
            "2000-01-09 -0.041116  0.205791  0.735098 -0.308264\n",
            "2000-01-10 -0.341454  0.758021  0.315329  0.768907\n"
          ],
          "name": "stdout"
        }
      ]
    },
    {
      "cell_type": "markdown",
      "metadata": {
        "id": "Dx8QBJqit1ss"
      },
      "source": [
        "# Aggregations"
      ]
    },
    {
      "cell_type": "markdown",
      "metadata": {
        "id": "tLJxQC-vt1ss"
      },
      "source": [
        "## Aggregations on DataFrame"
      ]
    },
    {
      "cell_type": "code",
      "metadata": {
        "id": "2Di-RaDOt1ss",
        "outputId": "fc3b7961-48f4-446b-96ff-a4402eef0a19"
      },
      "source": [
        "df = pd.DataFrame(np.random.randn(10, 4),\n",
        "   index = pd.date_range('1/1/2000', periods=10),\n",
        "   columns = ['A', 'B', 'C', 'D'])\n",
        "print (df)\n",
        "r = df.rolling(window=3,min_periods=1)\n",
        "print (r)"
      ],
      "execution_count": null,
      "outputs": [
        {
          "output_type": "stream",
          "text": [
            "                   A         B         C         D\n",
            "2000-01-01 -0.319540  0.865204  0.487971 -0.340908\n",
            "2000-01-02 -0.569263  0.597622 -0.085488  1.918426\n",
            "2000-01-03  1.605550 -0.497329 -0.852241 -0.432925\n",
            "2000-01-04 -0.254126 -0.391687  0.483095 -0.803540\n",
            "2000-01-05  0.385637 -0.759144 -0.137531  0.118716\n",
            "2000-01-06 -1.270387 -0.485218  0.417227 -0.162263\n",
            "2000-01-07 -0.210191 -0.870753 -0.782190 -0.744043\n",
            "2000-01-08  1.384670 -0.501805 -0.719954  0.426295\n",
            "2000-01-09  0.310769 -0.716913 -1.831518  0.573065\n",
            "2000-01-10 -1.082649  0.259588 -0.133760 -0.220571\n",
            "Rolling [window=3,min_periods=1,center=False,axis=0]\n"
          ],
          "name": "stdout"
        }
      ]
    },
    {
      "cell_type": "markdown",
      "metadata": {
        "id": "LG6GF2pjt1st"
      },
      "source": [
        "We can aggregate by passing a function to the entire DataFrame, or select a column via the standard get item method."
      ]
    },
    {
      "cell_type": "markdown",
      "metadata": {
        "id": "41vO87dct1st"
      },
      "source": [
        "## Aggregation on a Whole Dataframe"
      ]
    },
    {
      "cell_type": "code",
      "metadata": {
        "id": "NPbom98Dt1st",
        "outputId": "9a4b3290-7008-4c6b-a2d6-1aaed82ac1a8"
      },
      "source": [
        "df = pd.DataFrame(np.random.randn(10, 4),\n",
        "   index = pd.date_range('1/1/2000', periods=10),\n",
        "   columns = ['A', 'B', 'C', 'D'])\n",
        "print (df)\n",
        "print (\"------------------------------------\")\n",
        "r = df.rolling(window=3,min_periods=1)\n",
        "print (r.aggregate(np.sum))"
      ],
      "execution_count": null,
      "outputs": [
        {
          "output_type": "stream",
          "text": [
            "                   A         B         C         D\n",
            "2000-01-01  0.339376 -2.093728  0.478811 -0.376120\n",
            "2000-01-02 -0.532188  0.218475 -0.662791  0.058168\n",
            "2000-01-03 -0.586225 -0.353761  0.126455  0.811643\n",
            "2000-01-04 -0.420692 -0.093387 -1.328611  1.646543\n",
            "2000-01-05  0.846874  0.058724 -1.449543 -0.395112\n",
            "2000-01-06 -0.822700  0.486749 -0.186516  0.326825\n",
            "2000-01-07 -0.058331 -2.347856  1.119276 -0.672415\n",
            "2000-01-08 -1.801710  0.695473 -1.065686 -1.002167\n",
            "2000-01-09 -0.178839  0.248666  0.672457 -0.689541\n",
            "2000-01-10 -0.760971 -0.068141  0.106871  0.261064\n",
            "------------------------------------\n",
            "                   A         B         C         D\n",
            "2000-01-01  0.339376 -2.093728  0.478811 -0.376120\n",
            "2000-01-02 -0.192812 -1.875252 -0.183980 -0.317951\n",
            "2000-01-03 -0.779038 -2.229013 -0.057525  0.493691\n",
            "2000-01-04 -1.539106 -0.228673 -1.864947  2.516353\n",
            "2000-01-05 -0.160044 -0.388425 -2.651700  2.063073\n",
            "2000-01-06 -0.396519  0.452086 -2.964671  1.578256\n",
            "2000-01-07 -0.034157 -1.802383 -0.516783 -0.740702\n",
            "2000-01-08 -2.682741 -1.165634 -0.132925 -1.347757\n",
            "2000-01-09 -2.038880 -1.403717  0.726047 -2.364124\n",
            "2000-01-10 -2.741520  0.875997 -0.286358 -1.430644\n"
          ],
          "name": "stdout"
        }
      ]
    },
    {
      "cell_type": "markdown",
      "metadata": {
        "id": "rgd1nJ0Mt1su"
      },
      "source": [
        "## Aggregation on a Single Column of a Dataframe"
      ]
    },
    {
      "cell_type": "code",
      "metadata": {
        "id": "ZTlMfOaRt1su",
        "outputId": "5c003c72-c89d-47c6-eefa-4fcd7153a6be"
      },
      "source": [
        "df = pd.DataFrame(np.random.randn(10, 4),\n",
        "   index = pd.date_range('1/1/2000', periods=10),\n",
        "   columns = ['A', 'B', 'C', 'D'])\n",
        "print (df)\n",
        "print(\"--------------------------------\")\n",
        "r = df.rolling(window=3,min_periods=1)\n",
        "print (r['A'].aggregate(np.sum))"
      ],
      "execution_count": null,
      "outputs": [
        {
          "output_type": "stream",
          "text": [
            "                   A         B         C         D\n",
            "2000-01-01 -0.303902  0.864165  0.748708  1.697681\n",
            "2000-01-02  0.992555 -0.486319 -0.718528 -0.259037\n",
            "2000-01-03  0.385017 -1.513036 -0.484198 -0.956654\n",
            "2000-01-04 -0.540801 -0.593090 -0.883190  1.481240\n",
            "2000-01-05  0.783115  0.804089 -0.252903  0.889230\n",
            "2000-01-06 -0.635043  0.865351 -1.050035 -1.023158\n",
            "2000-01-07  0.245996 -1.487478 -1.118039 -0.538766\n",
            "2000-01-08  0.204314 -0.607259  0.344726 -0.538182\n",
            "2000-01-09 -0.920681 -0.479081 -1.578011 -1.937885\n",
            "2000-01-10  0.850013  0.635859 -1.054205  0.577379\n",
            "--------------------------------\n",
            "2000-01-01   -0.303902\n",
            "2000-01-02    0.688653\n",
            "2000-01-03    1.073670\n",
            "2000-01-04    0.836771\n",
            "2000-01-05    0.627331\n",
            "2000-01-06   -0.392729\n",
            "2000-01-07    0.394068\n",
            "2000-01-08   -0.184733\n",
            "2000-01-09   -0.470372\n",
            "2000-01-10    0.133645\n",
            "Freq: D, Name: A, dtype: float64\n"
          ],
          "name": "stdout"
        }
      ]
    },
    {
      "cell_type": "markdown",
      "metadata": {
        "id": "eqBR_lqzt1su"
      },
      "source": [
        "## Aggregation on Multiple Columns of a DataFrame"
      ]
    },
    {
      "cell_type": "code",
      "metadata": {
        "id": "MlWv24Xlt1su",
        "outputId": "27bca552-b56e-4bec-8fdf-5192d4117b6e"
      },
      "source": [
        "df = pd.DataFrame(np.random.randn(10, 4),\n",
        "   index = pd.date_range('1/1/2000', periods=10),\n",
        "   columns = ['A', 'B', 'C', 'D'])\n",
        "print (df)\n",
        "print (\"------------------------------------\")\n",
        "r = df.rolling(window=3,min_periods=1)\n",
        "print (r[['A','B']].aggregate(np.sum))"
      ],
      "execution_count": null,
      "outputs": [
        {
          "output_type": "stream",
          "text": [
            "                   A         B         C         D\n",
            "2000-01-01 -0.636514 -0.457869 -0.280058 -1.003815\n",
            "2000-01-02 -1.242148  0.924135 -0.918198  0.153620\n",
            "2000-01-03  0.153920 -0.575609  0.404590  0.302217\n",
            "2000-01-04  0.341757  0.880055 -0.523554  0.500790\n",
            "2000-01-05 -1.142520  0.981559  0.075006  1.306971\n",
            "2000-01-06 -0.979805  0.095956 -0.917603  1.320233\n",
            "2000-01-07 -0.430364  0.437538  1.422111  1.223051\n",
            "2000-01-08  1.957286 -1.129704 -1.809615 -0.233858\n",
            "2000-01-09  0.196643  0.589086  0.774109  1.283920\n",
            "2000-01-10 -0.971523  1.882637 -0.688909  0.462239\n",
            "------------------------------------\n",
            "                   A         B\n",
            "2000-01-01 -0.636514 -0.457869\n",
            "2000-01-02 -1.878662  0.466267\n",
            "2000-01-03 -1.724742 -0.109342\n",
            "2000-01-04 -0.746471  1.228582\n",
            "2000-01-05 -0.646843  1.286006\n",
            "2000-01-06 -1.780567  1.957571\n",
            "2000-01-07 -2.552689  1.515053\n",
            "2000-01-08  0.547117 -0.596210\n",
            "2000-01-09  1.723565 -0.103081\n",
            "2000-01-10  1.182406  1.342018\n"
          ],
          "name": "stdout"
        }
      ]
    },
    {
      "cell_type": "markdown",
      "metadata": {
        "id": "YEEgCl7Qt1sv"
      },
      "source": [
        "## Multiple Functions on a Single Column of a DataFrame"
      ]
    },
    {
      "cell_type": "code",
      "metadata": {
        "id": "ApUd8EWvt1sv",
        "outputId": "0cf7637a-ff30-4206-94e7-664364006896"
      },
      "source": [
        "df = pd.DataFrame(np.random.randn(10, 4),\n",
        "   index = pd.date_range('1/1/2000', periods=10),\n",
        "   columns = ['A', 'B', 'C', 'D'])\n",
        "print (df)\n",
        "print (\"------------------------------------\")\n",
        "r = df.rolling(window=3,min_periods=1)\n",
        "print (r['A'].aggregate([np.sum,np.mean]))"
      ],
      "execution_count": null,
      "outputs": [
        {
          "output_type": "stream",
          "text": [
            "                   A         B         C         D\n",
            "2000-01-01 -0.857227 -0.145764  0.855763 -2.052630\n",
            "2000-01-02 -0.101351  0.889760  0.676481  0.759866\n",
            "2000-01-03  1.425826 -0.033234  0.617306  0.323292\n",
            "2000-01-04 -0.473358 -0.604464 -1.144603 -1.290999\n",
            "2000-01-05  0.625437 -1.517308  0.137624 -0.464273\n",
            "2000-01-06 -1.278332 -1.095048 -0.826218 -1.400258\n",
            "2000-01-07 -0.323251  0.218328 -0.299253 -0.751908\n",
            "2000-01-08 -1.430160 -0.561661 -0.609853 -1.835458\n",
            "2000-01-09  1.993146 -0.067826  0.952493 -1.124862\n",
            "2000-01-10 -0.458167  1.200760  0.170938  0.142498\n",
            "------------------------------------\n",
            "                 sum      mean\n",
            "2000-01-01 -0.857227 -0.857227\n",
            "2000-01-02 -0.958579 -0.479289\n",
            "2000-01-03  0.467247  0.155749\n",
            "2000-01-04  0.851117  0.283706\n",
            "2000-01-05  1.577905  0.525968\n",
            "2000-01-06 -1.126252 -0.375417\n",
            "2000-01-07 -0.976145 -0.325382\n",
            "2000-01-08 -3.031743 -1.010581\n",
            "2000-01-09  0.239735  0.079912\n",
            "2000-01-10  0.104820  0.034940\n"
          ],
          "name": "stdout"
        }
      ]
    },
    {
      "cell_type": "markdown",
      "metadata": {
        "id": "tM0Lbu5Wt1sw"
      },
      "source": [
        "## Multiple Functions on Multiple Columns of a DataFrame"
      ]
    },
    {
      "cell_type": "code",
      "metadata": {
        "id": "brgca3Z0t1sw",
        "outputId": "9d0df570-75a5-40c3-add5-d6487137e416"
      },
      "source": [
        "df = pd.DataFrame(np.random.randn(10, 4),\n",
        "   index = pd.date_range('1/1/2000', periods=10),\n",
        "   columns = ['A', 'B', 'C', 'D'])\n",
        "print (df)\n",
        "print (\"------------------------------------\")\n",
        "r = df.rolling(window=3,min_periods=1)\n",
        "print(r[['A','B']].aggregate([np.sum,np.mean]))"
      ],
      "execution_count": null,
      "outputs": [
        {
          "output_type": "stream",
          "text": [
            "                   A         B         C         D\n",
            "2000-01-01 -0.451195 -0.052515  0.832134  0.340260\n",
            "2000-01-02 -0.903172  0.208264  2.090629 -0.698972\n",
            "2000-01-03 -1.129315  0.387692 -0.039233  0.973254\n",
            "2000-01-04  1.023003  0.422587 -0.045246  1.742119\n",
            "2000-01-05  0.265932  0.514171 -0.263427  0.207634\n",
            "2000-01-06 -0.316453 -0.354600 -0.784363  0.632124\n",
            "2000-01-07 -0.668108 -0.188655 -0.595742  0.055858\n",
            "2000-01-08 -1.920022 -1.439592  0.555157 -0.547701\n",
            "2000-01-09 -1.239196  0.018230  0.258139  1.640846\n",
            "2000-01-10 -0.094751 -1.071072 -0.127711 -0.956501\n",
            "------------------------------------\n",
            "                   A                   B          \n",
            "                 sum      mean       sum      mean\n",
            "2000-01-01 -0.451195 -0.451195 -0.052515 -0.052515\n",
            "2000-01-02 -1.354367 -0.677183  0.155748  0.077874\n",
            "2000-01-03 -2.483682 -0.827894  0.543440  0.181147\n",
            "2000-01-04 -1.009485 -0.336495  1.018543  0.339514\n",
            "2000-01-05  0.159619  0.053206  1.324450  0.441483\n",
            "2000-01-06  0.972481  0.324160  0.582158  0.194053\n",
            "2000-01-07 -0.718630 -0.239543 -0.029085 -0.009695\n",
            "2000-01-08 -2.904584 -0.968195 -1.982848 -0.660949\n",
            "2000-01-09 -3.827326 -1.275775 -1.610017 -0.536672\n",
            "2000-01-10 -3.253969 -1.084656 -2.492434 -0.830811\n"
          ],
          "name": "stdout"
        }
      ]
    },
    {
      "cell_type": "markdown",
      "metadata": {
        "id": "5MILu4hxt1sw"
      },
      "source": [
        "## Different Functions to Different Columns of a Dataframe"
      ]
    },
    {
      "cell_type": "code",
      "metadata": {
        "id": "dCrz2j00t1sx",
        "outputId": "2cdb3d7b-8b10-4034-f74d-e32d9f979455"
      },
      "source": [
        "df = pd.DataFrame(np.random.randn(3, 4),\n",
        "   index = pd.date_range('1/1/2000', periods=3),\n",
        "   columns = ['A', 'B', 'C', 'D'])\n",
        "print (df)\n",
        "print (\"------------------------------------\")\n",
        "r = df.rolling(window=3,min_periods=1)\n",
        "print (r.aggregate({'A' : np.sum,'B' : np.mean}))"
      ],
      "execution_count": null,
      "outputs": [
        {
          "output_type": "stream",
          "text": [
            "                   A         B         C         D\n",
            "2000-01-01  0.015896  0.245859 -1.837012  2.087316\n",
            "2000-01-02 -0.219205 -0.236824 -0.260937 -0.492843\n",
            "2000-01-03 -0.183465  0.908343  0.367161  0.572624\n",
            "------------------------------------\n",
            "                   A         B\n",
            "2000-01-01  0.015896  0.245859\n",
            "2000-01-02 -0.203309  0.004517\n",
            "2000-01-03 -0.386775  0.305792\n"
          ],
          "name": "stdout"
        }
      ]
    },
    {
      "cell_type": "markdown",
      "metadata": {
        "id": "CGeS_kHut1sx"
      },
      "source": [
        "# Missing Data"
      ]
    },
    {
      "cell_type": "code",
      "metadata": {
        "id": "FftOcP90t1sx",
        "outputId": "afc30a03-fa32-4612-bdf5-dcc8e0e936a7"
      },
      "source": [
        "df = pd.DataFrame(np.random.randn(5, 3), index=['a', 'c', 'e', 'f',\n",
        "'h'],columns=['one', 'two', 'three'])\n",
        "\n",
        "df = df.reindex(['a', 'b', 'c', 'd', 'e', 'f', 'g', 'h'])\n",
        "\n",
        "print (df)"
      ],
      "execution_count": null,
      "outputs": [
        {
          "output_type": "stream",
          "text": [
            "        one       two     three\n",
            "a  2.266484 -0.085099  1.666502\n",
            "b       NaN       NaN       NaN\n",
            "c  0.302056 -1.116180 -0.741985\n",
            "d       NaN       NaN       NaN\n",
            "e -1.703449 -0.946450  0.975381\n",
            "f  0.059689 -0.094803  1.560669\n",
            "g       NaN       NaN       NaN\n",
            "h  1.419191 -0.585118 -1.086383\n"
          ],
          "name": "stdout"
        }
      ]
    },
    {
      "cell_type": "markdown",
      "metadata": {
        "id": "VwxRtdHNt1sx"
      },
      "source": [
        "## NaN means Not a Number.\n",
        "\n",
        " ## 1.isnull()\n",
        " ## 2.notnull()"
      ]
    },
    {
      "cell_type": "code",
      "metadata": {
        "id": "mPK9sLzOt1sx",
        "outputId": "dcb48f68-bcdd-4fc6-d717-a304029306c4"
      },
      "source": [
        "df = pd.DataFrame(np.random.randn(5, 3), index=['a', 'c', 'e', 'f',\n",
        "'h'],columns=['one', 'two', 'three'])\n",
        "\n",
        "df = df.reindex(['a', 'b', 'c', 'd', 'e', 'f', 'g', 'h'])\n",
        "\n",
        "print (df['one'].isnull())\n",
        "print(\"----------------------\")\n",
        "print (df['one'].notnull())"
      ],
      "execution_count": null,
      "outputs": [
        {
          "output_type": "stream",
          "text": [
            "a    False\n",
            "b     True\n",
            "c    False\n",
            "d     True\n",
            "e    False\n",
            "f    False\n",
            "g     True\n",
            "h    False\n",
            "Name: one, dtype: bool\n",
            "----------------------\n",
            "a     True\n",
            "b    False\n",
            "c     True\n",
            "d    False\n",
            "e     True\n",
            "f     True\n",
            "g    False\n",
            "h     True\n",
            "Name: one, dtype: bool\n"
          ],
          "name": "stdout"
        }
      ]
    },
    {
      "cell_type": "code",
      "metadata": {
        "id": "E8do5hMMt1sy",
        "outputId": "89f3996a-7e36-4485-e8e5-c4e7a5f3f48c"
      },
      "source": [
        "import pandas as pd\n",
        "import numpy as np\n",
        "data = pd.read_csv(\"athlete_events.csv\")\n",
        "data"
      ],
      "execution_count": null,
      "outputs": [
        {
          "output_type": "execute_result",
          "data": {
            "text/html": [
              "<div>\n",
              "<style scoped>\n",
              "    .dataframe tbody tr th:only-of-type {\n",
              "        vertical-align: middle;\n",
              "    }\n",
              "\n",
              "    .dataframe tbody tr th {\n",
              "        vertical-align: top;\n",
              "    }\n",
              "\n",
              "    .dataframe thead th {\n",
              "        text-align: right;\n",
              "    }\n",
              "</style>\n",
              "<table border=\"1\" class=\"dataframe\">\n",
              "  <thead>\n",
              "    <tr style=\"text-align: right;\">\n",
              "      <th></th>\n",
              "      <th>ID</th>\n",
              "      <th>Name</th>\n",
              "      <th>Sex</th>\n",
              "      <th>Age</th>\n",
              "      <th>Height</th>\n",
              "      <th>Weight</th>\n",
              "      <th>Team</th>\n",
              "      <th>NOC</th>\n",
              "      <th>Games</th>\n",
              "      <th>Year</th>\n",
              "      <th>Season</th>\n",
              "      <th>City</th>\n",
              "      <th>Sport</th>\n",
              "      <th>Event</th>\n",
              "      <th>Medal</th>\n",
              "    </tr>\n",
              "  </thead>\n",
              "  <tbody>\n",
              "    <tr>\n",
              "      <th>0</th>\n",
              "      <td>1</td>\n",
              "      <td>A Dijiang</td>\n",
              "      <td>M</td>\n",
              "      <td>24.0</td>\n",
              "      <td>180.0</td>\n",
              "      <td>80.0</td>\n",
              "      <td>China</td>\n",
              "      <td>CHN</td>\n",
              "      <td>1992 Summer</td>\n",
              "      <td>1992</td>\n",
              "      <td>Summer</td>\n",
              "      <td>Barcelona</td>\n",
              "      <td>Basketball</td>\n",
              "      <td>Basketball Men's Basketball</td>\n",
              "      <td>NaN</td>\n",
              "    </tr>\n",
              "    <tr>\n",
              "      <th>1</th>\n",
              "      <td>2</td>\n",
              "      <td>A Lamusi</td>\n",
              "      <td>M</td>\n",
              "      <td>23.0</td>\n",
              "      <td>170.0</td>\n",
              "      <td>60.0</td>\n",
              "      <td>China</td>\n",
              "      <td>CHN</td>\n",
              "      <td>2012 Summer</td>\n",
              "      <td>2012</td>\n",
              "      <td>Summer</td>\n",
              "      <td>London</td>\n",
              "      <td>Judo</td>\n",
              "      <td>Judo Men's Extra-Lightweight</td>\n",
              "      <td>NaN</td>\n",
              "    </tr>\n",
              "    <tr>\n",
              "      <th>2</th>\n",
              "      <td>3</td>\n",
              "      <td>Gunnar Nielsen Aaby</td>\n",
              "      <td>M</td>\n",
              "      <td>24.0</td>\n",
              "      <td>NaN</td>\n",
              "      <td>NaN</td>\n",
              "      <td>Denmark</td>\n",
              "      <td>DEN</td>\n",
              "      <td>1920 Summer</td>\n",
              "      <td>1920</td>\n",
              "      <td>Summer</td>\n",
              "      <td>Antwerpen</td>\n",
              "      <td>Football</td>\n",
              "      <td>Football Men's Football</td>\n",
              "      <td>NaN</td>\n",
              "    </tr>\n",
              "    <tr>\n",
              "      <th>3</th>\n",
              "      <td>4</td>\n",
              "      <td>Edgar Lindenau Aabye</td>\n",
              "      <td>M</td>\n",
              "      <td>34.0</td>\n",
              "      <td>NaN</td>\n",
              "      <td>NaN</td>\n",
              "      <td>Denmark/Sweden</td>\n",
              "      <td>DEN</td>\n",
              "      <td>1900 Summer</td>\n",
              "      <td>1900</td>\n",
              "      <td>Summer</td>\n",
              "      <td>Paris</td>\n",
              "      <td>Tug-Of-War</td>\n",
              "      <td>Tug-Of-War Men's Tug-Of-War</td>\n",
              "      <td>Gold</td>\n",
              "    </tr>\n",
              "    <tr>\n",
              "      <th>4</th>\n",
              "      <td>5</td>\n",
              "      <td>Christine Jacoba Aaftink</td>\n",
              "      <td>F</td>\n",
              "      <td>21.0</td>\n",
              "      <td>185.0</td>\n",
              "      <td>82.0</td>\n",
              "      <td>Netherlands</td>\n",
              "      <td>NED</td>\n",
              "      <td>1988 Winter</td>\n",
              "      <td>1988</td>\n",
              "      <td>Winter</td>\n",
              "      <td>Calgary</td>\n",
              "      <td>Speed Skating</td>\n",
              "      <td>Speed Skating Women's 500 metres</td>\n",
              "      <td>NaN</td>\n",
              "    </tr>\n",
              "    <tr>\n",
              "      <th>5</th>\n",
              "      <td>5</td>\n",
              "      <td>Christine Jacoba Aaftink</td>\n",
              "      <td>F</td>\n",
              "      <td>21.0</td>\n",
              "      <td>185.0</td>\n",
              "      <td>82.0</td>\n",
              "      <td>Netherlands</td>\n",
              "      <td>NED</td>\n",
              "      <td>1988 Winter</td>\n",
              "      <td>1988</td>\n",
              "      <td>Winter</td>\n",
              "      <td>Calgary</td>\n",
              "      <td>Speed Skating</td>\n",
              "      <td>Speed Skating Women's 1,000 metres</td>\n",
              "      <td>NaN</td>\n",
              "    </tr>\n",
              "    <tr>\n",
              "      <th>6</th>\n",
              "      <td>5</td>\n",
              "      <td>Christine Jacoba Aaftink</td>\n",
              "      <td>F</td>\n",
              "      <td>25.0</td>\n",
              "      <td>185.0</td>\n",
              "      <td>82.0</td>\n",
              "      <td>Netherlands</td>\n",
              "      <td>NED</td>\n",
              "      <td>1992 Winter</td>\n",
              "      <td>1992</td>\n",
              "      <td>Winter</td>\n",
              "      <td>Albertville</td>\n",
              "      <td>Speed Skating</td>\n",
              "      <td>Speed Skating Women's 500 metres</td>\n",
              "      <td>NaN</td>\n",
              "    </tr>\n",
              "    <tr>\n",
              "      <th>7</th>\n",
              "      <td>5</td>\n",
              "      <td>Christine Jacoba Aaftink</td>\n",
              "      <td>F</td>\n",
              "      <td>25.0</td>\n",
              "      <td>185.0</td>\n",
              "      <td>82.0</td>\n",
              "      <td>Netherlands</td>\n",
              "      <td>NED</td>\n",
              "      <td>1992 Winter</td>\n",
              "      <td>1992</td>\n",
              "      <td>Winter</td>\n",
              "      <td>Albertville</td>\n",
              "      <td>Speed Skating</td>\n",
              "      <td>Speed Skating Women's 1,000 metres</td>\n",
              "      <td>NaN</td>\n",
              "    </tr>\n",
              "    <tr>\n",
              "      <th>8</th>\n",
              "      <td>5</td>\n",
              "      <td>Christine Jacoba Aaftink</td>\n",
              "      <td>F</td>\n",
              "      <td>27.0</td>\n",
              "      <td>185.0</td>\n",
              "      <td>82.0</td>\n",
              "      <td>Netherlands</td>\n",
              "      <td>NED</td>\n",
              "      <td>1994 Winter</td>\n",
              "      <td>1994</td>\n",
              "      <td>Winter</td>\n",
              "      <td>Lillehammer</td>\n",
              "      <td>Speed Skating</td>\n",
              "      <td>Speed Skating Women's 500 metres</td>\n",
              "      <td>NaN</td>\n",
              "    </tr>\n",
              "    <tr>\n",
              "      <th>9</th>\n",
              "      <td>5</td>\n",
              "      <td>Christine Jacoba Aaftink</td>\n",
              "      <td>F</td>\n",
              "      <td>27.0</td>\n",
              "      <td>185.0</td>\n",
              "      <td>82.0</td>\n",
              "      <td>Netherlands</td>\n",
              "      <td>NED</td>\n",
              "      <td>1994 Winter</td>\n",
              "      <td>1994</td>\n",
              "      <td>Winter</td>\n",
              "      <td>Lillehammer</td>\n",
              "      <td>Speed Skating</td>\n",
              "      <td>Speed Skating Women's 1,000 metres</td>\n",
              "      <td>NaN</td>\n",
              "    </tr>\n",
              "    <tr>\n",
              "      <th>10</th>\n",
              "      <td>6</td>\n",
              "      <td>Per Knut Aaland</td>\n",
              "      <td>M</td>\n",
              "      <td>31.0</td>\n",
              "      <td>188.0</td>\n",
              "      <td>75.0</td>\n",
              "      <td>United States</td>\n",
              "      <td>USA</td>\n",
              "      <td>1992 Winter</td>\n",
              "      <td>1992</td>\n",
              "      <td>Winter</td>\n",
              "      <td>Albertville</td>\n",
              "      <td>Cross Country Skiing</td>\n",
              "      <td>Cross Country Skiing Men's 10 kilometres</td>\n",
              "      <td>NaN</td>\n",
              "    </tr>\n",
              "    <tr>\n",
              "      <th>11</th>\n",
              "      <td>6</td>\n",
              "      <td>Per Knut Aaland</td>\n",
              "      <td>M</td>\n",
              "      <td>31.0</td>\n",
              "      <td>188.0</td>\n",
              "      <td>75.0</td>\n",
              "      <td>United States</td>\n",
              "      <td>USA</td>\n",
              "      <td>1992 Winter</td>\n",
              "      <td>1992</td>\n",
              "      <td>Winter</td>\n",
              "      <td>Albertville</td>\n",
              "      <td>Cross Country Skiing</td>\n",
              "      <td>Cross Country Skiing Men's 50 kilometres</td>\n",
              "      <td>NaN</td>\n",
              "    </tr>\n",
              "    <tr>\n",
              "      <th>12</th>\n",
              "      <td>6</td>\n",
              "      <td>Per Knut Aaland</td>\n",
              "      <td>M</td>\n",
              "      <td>31.0</td>\n",
              "      <td>188.0</td>\n",
              "      <td>75.0</td>\n",
              "      <td>United States</td>\n",
              "      <td>USA</td>\n",
              "      <td>1992 Winter</td>\n",
              "      <td>1992</td>\n",
              "      <td>Winter</td>\n",
              "      <td>Albertville</td>\n",
              "      <td>Cross Country Skiing</td>\n",
              "      <td>Cross Country Skiing Men's 10/15 kilometres Pu...</td>\n",
              "      <td>NaN</td>\n",
              "    </tr>\n",
              "    <tr>\n",
              "      <th>13</th>\n",
              "      <td>6</td>\n",
              "      <td>Per Knut Aaland</td>\n",
              "      <td>M</td>\n",
              "      <td>31.0</td>\n",
              "      <td>188.0</td>\n",
              "      <td>75.0</td>\n",
              "      <td>United States</td>\n",
              "      <td>USA</td>\n",
              "      <td>1992 Winter</td>\n",
              "      <td>1992</td>\n",
              "      <td>Winter</td>\n",
              "      <td>Albertville</td>\n",
              "      <td>Cross Country Skiing</td>\n",
              "      <td>Cross Country Skiing Men's 4 x 10 kilometres R...</td>\n",
              "      <td>NaN</td>\n",
              "    </tr>\n",
              "    <tr>\n",
              "      <th>14</th>\n",
              "      <td>6</td>\n",
              "      <td>Per Knut Aaland</td>\n",
              "      <td>M</td>\n",
              "      <td>33.0</td>\n",
              "      <td>188.0</td>\n",
              "      <td>75.0</td>\n",
              "      <td>United States</td>\n",
              "      <td>USA</td>\n",
              "      <td>1994 Winter</td>\n",
              "      <td>1994</td>\n",
              "      <td>Winter</td>\n",
              "      <td>Lillehammer</td>\n",
              "      <td>Cross Country Skiing</td>\n",
              "      <td>Cross Country Skiing Men's 10 kilometres</td>\n",
              "      <td>NaN</td>\n",
              "    </tr>\n",
              "    <tr>\n",
              "      <th>15</th>\n",
              "      <td>6</td>\n",
              "      <td>Per Knut Aaland</td>\n",
              "      <td>M</td>\n",
              "      <td>33.0</td>\n",
              "      <td>188.0</td>\n",
              "      <td>75.0</td>\n",
              "      <td>United States</td>\n",
              "      <td>USA</td>\n",
              "      <td>1994 Winter</td>\n",
              "      <td>1994</td>\n",
              "      <td>Winter</td>\n",
              "      <td>Lillehammer</td>\n",
              "      <td>Cross Country Skiing</td>\n",
              "      <td>Cross Country Skiing Men's 30 kilometres</td>\n",
              "      <td>NaN</td>\n",
              "    </tr>\n",
              "    <tr>\n",
              "      <th>16</th>\n",
              "      <td>6</td>\n",
              "      <td>Per Knut Aaland</td>\n",
              "      <td>M</td>\n",
              "      <td>33.0</td>\n",
              "      <td>188.0</td>\n",
              "      <td>75.0</td>\n",
              "      <td>United States</td>\n",
              "      <td>USA</td>\n",
              "      <td>1994 Winter</td>\n",
              "      <td>1994</td>\n",
              "      <td>Winter</td>\n",
              "      <td>Lillehammer</td>\n",
              "      <td>Cross Country Skiing</td>\n",
              "      <td>Cross Country Skiing Men's 10/15 kilometres Pu...</td>\n",
              "      <td>NaN</td>\n",
              "    </tr>\n",
              "    <tr>\n",
              "      <th>17</th>\n",
              "      <td>6</td>\n",
              "      <td>Per Knut Aaland</td>\n",
              "      <td>M</td>\n",
              "      <td>33.0</td>\n",
              "      <td>188.0</td>\n",
              "      <td>75.0</td>\n",
              "      <td>United States</td>\n",
              "      <td>USA</td>\n",
              "      <td>1994 Winter</td>\n",
              "      <td>1994</td>\n",
              "      <td>Winter</td>\n",
              "      <td>Lillehammer</td>\n",
              "      <td>Cross Country Skiing</td>\n",
              "      <td>Cross Country Skiing Men's 4 x 10 kilometres R...</td>\n",
              "      <td>NaN</td>\n",
              "    </tr>\n",
              "    <tr>\n",
              "      <th>18</th>\n",
              "      <td>7</td>\n",
              "      <td>John Aalberg</td>\n",
              "      <td>M</td>\n",
              "      <td>31.0</td>\n",
              "      <td>183.0</td>\n",
              "      <td>72.0</td>\n",
              "      <td>United States</td>\n",
              "      <td>USA</td>\n",
              "      <td>1992 Winter</td>\n",
              "      <td>1992</td>\n",
              "      <td>Winter</td>\n",
              "      <td>Albertville</td>\n",
              "      <td>Cross Country Skiing</td>\n",
              "      <td>Cross Country Skiing Men's 10 kilometres</td>\n",
              "      <td>NaN</td>\n",
              "    </tr>\n",
              "    <tr>\n",
              "      <th>19</th>\n",
              "      <td>7</td>\n",
              "      <td>John Aalberg</td>\n",
              "      <td>M</td>\n",
              "      <td>31.0</td>\n",
              "      <td>183.0</td>\n",
              "      <td>72.0</td>\n",
              "      <td>United States</td>\n",
              "      <td>USA</td>\n",
              "      <td>1992 Winter</td>\n",
              "      <td>1992</td>\n",
              "      <td>Winter</td>\n",
              "      <td>Albertville</td>\n",
              "      <td>Cross Country Skiing</td>\n",
              "      <td>Cross Country Skiing Men's 50 kilometres</td>\n",
              "      <td>NaN</td>\n",
              "    </tr>\n",
              "    <tr>\n",
              "      <th>20</th>\n",
              "      <td>7</td>\n",
              "      <td>John Aalberg</td>\n",
              "      <td>M</td>\n",
              "      <td>31.0</td>\n",
              "      <td>183.0</td>\n",
              "      <td>72.0</td>\n",
              "      <td>United States</td>\n",
              "      <td>USA</td>\n",
              "      <td>1992 Winter</td>\n",
              "      <td>1992</td>\n",
              "      <td>Winter</td>\n",
              "      <td>Albertville</td>\n",
              "      <td>Cross Country Skiing</td>\n",
              "      <td>Cross Country Skiing Men's 10/15 kilometres Pu...</td>\n",
              "      <td>NaN</td>\n",
              "    </tr>\n",
              "    <tr>\n",
              "      <th>21</th>\n",
              "      <td>7</td>\n",
              "      <td>John Aalberg</td>\n",
              "      <td>M</td>\n",
              "      <td>31.0</td>\n",
              "      <td>183.0</td>\n",
              "      <td>72.0</td>\n",
              "      <td>United States</td>\n",
              "      <td>USA</td>\n",
              "      <td>1992 Winter</td>\n",
              "      <td>1992</td>\n",
              "      <td>Winter</td>\n",
              "      <td>Albertville</td>\n",
              "      <td>Cross Country Skiing</td>\n",
              "      <td>Cross Country Skiing Men's 4 x 10 kilometres R...</td>\n",
              "      <td>NaN</td>\n",
              "    </tr>\n",
              "    <tr>\n",
              "      <th>22</th>\n",
              "      <td>7</td>\n",
              "      <td>John Aalberg</td>\n",
              "      <td>M</td>\n",
              "      <td>33.0</td>\n",
              "      <td>183.0</td>\n",
              "      <td>72.0</td>\n",
              "      <td>United States</td>\n",
              "      <td>USA</td>\n",
              "      <td>1994 Winter</td>\n",
              "      <td>1994</td>\n",
              "      <td>Winter</td>\n",
              "      <td>Lillehammer</td>\n",
              "      <td>Cross Country Skiing</td>\n",
              "      <td>Cross Country Skiing Men's 10 kilometres</td>\n",
              "      <td>NaN</td>\n",
              "    </tr>\n",
              "    <tr>\n",
              "      <th>23</th>\n",
              "      <td>7</td>\n",
              "      <td>John Aalberg</td>\n",
              "      <td>M</td>\n",
              "      <td>33.0</td>\n",
              "      <td>183.0</td>\n",
              "      <td>72.0</td>\n",
              "      <td>United States</td>\n",
              "      <td>USA</td>\n",
              "      <td>1994 Winter</td>\n",
              "      <td>1994</td>\n",
              "      <td>Winter</td>\n",
              "      <td>Lillehammer</td>\n",
              "      <td>Cross Country Skiing</td>\n",
              "      <td>Cross Country Skiing Men's 30 kilometres</td>\n",
              "      <td>NaN</td>\n",
              "    </tr>\n",
              "    <tr>\n",
              "      <th>24</th>\n",
              "      <td>7</td>\n",
              "      <td>John Aalberg</td>\n",
              "      <td>M</td>\n",
              "      <td>33.0</td>\n",
              "      <td>183.0</td>\n",
              "      <td>72.0</td>\n",
              "      <td>United States</td>\n",
              "      <td>USA</td>\n",
              "      <td>1994 Winter</td>\n",
              "      <td>1994</td>\n",
              "      <td>Winter</td>\n",
              "      <td>Lillehammer</td>\n",
              "      <td>Cross Country Skiing</td>\n",
              "      <td>Cross Country Skiing Men's 10/15 kilometres Pu...</td>\n",
              "      <td>NaN</td>\n",
              "    </tr>\n",
              "    <tr>\n",
              "      <th>25</th>\n",
              "      <td>7</td>\n",
              "      <td>John Aalberg</td>\n",
              "      <td>M</td>\n",
              "      <td>33.0</td>\n",
              "      <td>183.0</td>\n",
              "      <td>72.0</td>\n",
              "      <td>United States</td>\n",
              "      <td>USA</td>\n",
              "      <td>1994 Winter</td>\n",
              "      <td>1994</td>\n",
              "      <td>Winter</td>\n",
              "      <td>Lillehammer</td>\n",
              "      <td>Cross Country Skiing</td>\n",
              "      <td>Cross Country Skiing Men's 4 x 10 kilometres R...</td>\n",
              "      <td>NaN</td>\n",
              "    </tr>\n",
              "    <tr>\n",
              "      <th>26</th>\n",
              "      <td>8</td>\n",
              "      <td>Cornelia \"Cor\" Aalten (-Strannood)</td>\n",
              "      <td>F</td>\n",
              "      <td>18.0</td>\n",
              "      <td>168.0</td>\n",
              "      <td>NaN</td>\n",
              "      <td>Netherlands</td>\n",
              "      <td>NED</td>\n",
              "      <td>1932 Summer</td>\n",
              "      <td>1932</td>\n",
              "      <td>Summer</td>\n",
              "      <td>Los Angeles</td>\n",
              "      <td>Athletics</td>\n",
              "      <td>Athletics Women's 100 metres</td>\n",
              "      <td>NaN</td>\n",
              "    </tr>\n",
              "    <tr>\n",
              "      <th>27</th>\n",
              "      <td>8</td>\n",
              "      <td>Cornelia \"Cor\" Aalten (-Strannood)</td>\n",
              "      <td>F</td>\n",
              "      <td>18.0</td>\n",
              "      <td>168.0</td>\n",
              "      <td>NaN</td>\n",
              "      <td>Netherlands</td>\n",
              "      <td>NED</td>\n",
              "      <td>1932 Summer</td>\n",
              "      <td>1932</td>\n",
              "      <td>Summer</td>\n",
              "      <td>Los Angeles</td>\n",
              "      <td>Athletics</td>\n",
              "      <td>Athletics Women's 4 x 100 metres Relay</td>\n",
              "      <td>NaN</td>\n",
              "    </tr>\n",
              "    <tr>\n",
              "      <th>28</th>\n",
              "      <td>9</td>\n",
              "      <td>Antti Sami Aalto</td>\n",
              "      <td>M</td>\n",
              "      <td>26.0</td>\n",
              "      <td>186.0</td>\n",
              "      <td>96.0</td>\n",
              "      <td>Finland</td>\n",
              "      <td>FIN</td>\n",
              "      <td>2002 Winter</td>\n",
              "      <td>2002</td>\n",
              "      <td>Winter</td>\n",
              "      <td>Salt Lake City</td>\n",
              "      <td>Ice Hockey</td>\n",
              "      <td>Ice Hockey Men's Ice Hockey</td>\n",
              "      <td>NaN</td>\n",
              "    </tr>\n",
              "    <tr>\n",
              "      <th>29</th>\n",
              "      <td>10</td>\n",
              "      <td>Einar Ferdinand \"Einari\" Aalto</td>\n",
              "      <td>M</td>\n",
              "      <td>26.0</td>\n",
              "      <td>NaN</td>\n",
              "      <td>NaN</td>\n",
              "      <td>Finland</td>\n",
              "      <td>FIN</td>\n",
              "      <td>1952 Summer</td>\n",
              "      <td>1952</td>\n",
              "      <td>Summer</td>\n",
              "      <td>Helsinki</td>\n",
              "      <td>Swimming</td>\n",
              "      <td>Swimming Men's 400 metres Freestyle</td>\n",
              "      <td>NaN</td>\n",
              "    </tr>\n",
              "    <tr>\n",
              "      <th>...</th>\n",
              "      <td>...</td>\n",
              "      <td>...</td>\n",
              "      <td>...</td>\n",
              "      <td>...</td>\n",
              "      <td>...</td>\n",
              "      <td>...</td>\n",
              "      <td>...</td>\n",
              "      <td>...</td>\n",
              "      <td>...</td>\n",
              "      <td>...</td>\n",
              "      <td>...</td>\n",
              "      <td>...</td>\n",
              "      <td>...</td>\n",
              "      <td>...</td>\n",
              "      <td>...</td>\n",
              "    </tr>\n",
              "    <tr>\n",
              "      <th>271086</th>\n",
              "      <td>135555</td>\n",
              "      <td>Micha Zych</td>\n",
              "      <td>M</td>\n",
              "      <td>23.0</td>\n",
              "      <td>177.0</td>\n",
              "      <td>68.0</td>\n",
              "      <td>Poland</td>\n",
              "      <td>POL</td>\n",
              "      <td>2006 Winter</td>\n",
              "      <td>2006</td>\n",
              "      <td>Winter</td>\n",
              "      <td>Torino</td>\n",
              "      <td>Figure Skating</td>\n",
              "      <td>Figure Skating Mixed Ice Dancing</td>\n",
              "      <td>NaN</td>\n",
              "    </tr>\n",
              "    <tr>\n",
              "      <th>271087</th>\n",
              "      <td>135556</td>\n",
              "      <td>Bogusaw Stanisaw Zychowicz</td>\n",
              "      <td>M</td>\n",
              "      <td>19.0</td>\n",
              "      <td>189.0</td>\n",
              "      <td>80.0</td>\n",
              "      <td>Poland</td>\n",
              "      <td>POL</td>\n",
              "      <td>1980 Summer</td>\n",
              "      <td>1980</td>\n",
              "      <td>Summer</td>\n",
              "      <td>Moskva</td>\n",
              "      <td>Swimming</td>\n",
              "      <td>Swimming Men's 100 metres Butterfly</td>\n",
              "      <td>NaN</td>\n",
              "    </tr>\n",
              "    <tr>\n",
              "      <th>271088</th>\n",
              "      <td>135556</td>\n",
              "      <td>Bogusaw Stanisaw Zychowicz</td>\n",
              "      <td>M</td>\n",
              "      <td>19.0</td>\n",
              "      <td>189.0</td>\n",
              "      <td>80.0</td>\n",
              "      <td>Poland</td>\n",
              "      <td>POL</td>\n",
              "      <td>1980 Summer</td>\n",
              "      <td>1980</td>\n",
              "      <td>Summer</td>\n",
              "      <td>Moskva</td>\n",
              "      <td>Swimming</td>\n",
              "      <td>Swimming Men's 200 metres Butterfly</td>\n",
              "      <td>NaN</td>\n",
              "    </tr>\n",
              "    <tr>\n",
              "      <th>271089</th>\n",
              "      <td>135557</td>\n",
              "      <td>Dominik ycki</td>\n",
              "      <td>M</td>\n",
              "      <td>34.0</td>\n",
              "      <td>192.0</td>\n",
              "      <td>95.0</td>\n",
              "      <td>Poland</td>\n",
              "      <td>POL</td>\n",
              "      <td>2008 Summer</td>\n",
              "      <td>2008</td>\n",
              "      <td>Summer</td>\n",
              "      <td>Beijing</td>\n",
              "      <td>Sailing</td>\n",
              "      <td>Sailing Men's Two Person Keelboat</td>\n",
              "      <td>NaN</td>\n",
              "    </tr>\n",
              "    <tr>\n",
              "      <th>271090</th>\n",
              "      <td>135557</td>\n",
              "      <td>Dominik ycki</td>\n",
              "      <td>M</td>\n",
              "      <td>38.0</td>\n",
              "      <td>192.0</td>\n",
              "      <td>95.0</td>\n",
              "      <td>Poland</td>\n",
              "      <td>POL</td>\n",
              "      <td>2012 Summer</td>\n",
              "      <td>2012</td>\n",
              "      <td>Summer</td>\n",
              "      <td>London</td>\n",
              "      <td>Sailing</td>\n",
              "      <td>Sailing Men's Two Person Keelboat</td>\n",
              "      <td>NaN</td>\n",
              "    </tr>\n",
              "    <tr>\n",
              "      <th>271091</th>\n",
              "      <td>135558</td>\n",
              "      <td>ukasz Tomasz ygado</td>\n",
              "      <td>M</td>\n",
              "      <td>32.0</td>\n",
              "      <td>200.0</td>\n",
              "      <td>89.0</td>\n",
              "      <td>Poland</td>\n",
              "      <td>POL</td>\n",
              "      <td>2012 Summer</td>\n",
              "      <td>2012</td>\n",
              "      <td>Summer</td>\n",
              "      <td>London</td>\n",
              "      <td>Volleyball</td>\n",
              "      <td>Volleyball Men's Volleyball</td>\n",
              "      <td>NaN</td>\n",
              "    </tr>\n",
              "    <tr>\n",
              "      <th>271092</th>\n",
              "      <td>135559</td>\n",
              "      <td>Pawe Jan Zygmunt</td>\n",
              "      <td>M</td>\n",
              "      <td>21.0</td>\n",
              "      <td>182.0</td>\n",
              "      <td>79.0</td>\n",
              "      <td>Poland</td>\n",
              "      <td>POL</td>\n",
              "      <td>1994 Winter</td>\n",
              "      <td>1994</td>\n",
              "      <td>Winter</td>\n",
              "      <td>Lillehammer</td>\n",
              "      <td>Speed Skating</td>\n",
              "      <td>Speed Skating Men's 1,500 metres</td>\n",
              "      <td>NaN</td>\n",
              "    </tr>\n",
              "    <tr>\n",
              "      <th>271093</th>\n",
              "      <td>135559</td>\n",
              "      <td>Pawe Jan Zygmunt</td>\n",
              "      <td>M</td>\n",
              "      <td>21.0</td>\n",
              "      <td>182.0</td>\n",
              "      <td>79.0</td>\n",
              "      <td>Poland</td>\n",
              "      <td>POL</td>\n",
              "      <td>1994 Winter</td>\n",
              "      <td>1994</td>\n",
              "      <td>Winter</td>\n",
              "      <td>Lillehammer</td>\n",
              "      <td>Speed Skating</td>\n",
              "      <td>Speed Skating Men's 5,000 metres</td>\n",
              "      <td>NaN</td>\n",
              "    </tr>\n",
              "    <tr>\n",
              "      <th>271094</th>\n",
              "      <td>135559</td>\n",
              "      <td>Pawe Jan Zygmunt</td>\n",
              "      <td>M</td>\n",
              "      <td>25.0</td>\n",
              "      <td>182.0</td>\n",
              "      <td>79.0</td>\n",
              "      <td>Poland</td>\n",
              "      <td>POL</td>\n",
              "      <td>1998 Winter</td>\n",
              "      <td>1998</td>\n",
              "      <td>Winter</td>\n",
              "      <td>Nagano</td>\n",
              "      <td>Speed Skating</td>\n",
              "      <td>Speed Skating Men's 1,500 metres</td>\n",
              "      <td>NaN</td>\n",
              "    </tr>\n",
              "    <tr>\n",
              "      <th>271095</th>\n",
              "      <td>135559</td>\n",
              "      <td>Pawe Jan Zygmunt</td>\n",
              "      <td>M</td>\n",
              "      <td>25.0</td>\n",
              "      <td>182.0</td>\n",
              "      <td>79.0</td>\n",
              "      <td>Poland</td>\n",
              "      <td>POL</td>\n",
              "      <td>1998 Winter</td>\n",
              "      <td>1998</td>\n",
              "      <td>Winter</td>\n",
              "      <td>Nagano</td>\n",
              "      <td>Speed Skating</td>\n",
              "      <td>Speed Skating Men's 5,000 metres</td>\n",
              "      <td>NaN</td>\n",
              "    </tr>\n",
              "    <tr>\n",
              "      <th>271096</th>\n",
              "      <td>135559</td>\n",
              "      <td>Pawe Jan Zygmunt</td>\n",
              "      <td>M</td>\n",
              "      <td>29.0</td>\n",
              "      <td>182.0</td>\n",
              "      <td>79.0</td>\n",
              "      <td>Poland</td>\n",
              "      <td>POL</td>\n",
              "      <td>2002 Winter</td>\n",
              "      <td>2002</td>\n",
              "      <td>Winter</td>\n",
              "      <td>Salt Lake City</td>\n",
              "      <td>Speed Skating</td>\n",
              "      <td>Speed Skating Men's 5,000 metres</td>\n",
              "      <td>NaN</td>\n",
              "    </tr>\n",
              "    <tr>\n",
              "      <th>271097</th>\n",
              "      <td>135559</td>\n",
              "      <td>Pawe Jan Zygmunt</td>\n",
              "      <td>M</td>\n",
              "      <td>29.0</td>\n",
              "      <td>182.0</td>\n",
              "      <td>79.0</td>\n",
              "      <td>Poland</td>\n",
              "      <td>POL</td>\n",
              "      <td>2002 Winter</td>\n",
              "      <td>2002</td>\n",
              "      <td>Winter</td>\n",
              "      <td>Salt Lake City</td>\n",
              "      <td>Speed Skating</td>\n",
              "      <td>Speed Skating Men's 10,000 metres</td>\n",
              "      <td>NaN</td>\n",
              "    </tr>\n",
              "    <tr>\n",
              "      <th>271098</th>\n",
              "      <td>135559</td>\n",
              "      <td>Pawe Jan Zygmunt</td>\n",
              "      <td>M</td>\n",
              "      <td>33.0</td>\n",
              "      <td>182.0</td>\n",
              "      <td>79.0</td>\n",
              "      <td>Poland</td>\n",
              "      <td>POL</td>\n",
              "      <td>2006 Winter</td>\n",
              "      <td>2006</td>\n",
              "      <td>Winter</td>\n",
              "      <td>Torino</td>\n",
              "      <td>Speed Skating</td>\n",
              "      <td>Speed Skating Men's 5,000 metres</td>\n",
              "      <td>NaN</td>\n",
              "    </tr>\n",
              "    <tr>\n",
              "      <th>271099</th>\n",
              "      <td>135560</td>\n",
              "      <td>Stavroula Zygouri</td>\n",
              "      <td>F</td>\n",
              "      <td>36.0</td>\n",
              "      <td>171.0</td>\n",
              "      <td>63.0</td>\n",
              "      <td>Greece</td>\n",
              "      <td>GRE</td>\n",
              "      <td>2004 Summer</td>\n",
              "      <td>2004</td>\n",
              "      <td>Summer</td>\n",
              "      <td>Athina</td>\n",
              "      <td>Wrestling</td>\n",
              "      <td>Wrestling Women's Middleweight, Freestyle</td>\n",
              "      <td>NaN</td>\n",
              "    </tr>\n",
              "    <tr>\n",
              "      <th>271100</th>\n",
              "      <td>135561</td>\n",
              "      <td>Frantiek Zyka</td>\n",
              "      <td>M</td>\n",
              "      <td>26.0</td>\n",
              "      <td>NaN</td>\n",
              "      <td>NaN</td>\n",
              "      <td>Czechoslovakia</td>\n",
              "      <td>TCH</td>\n",
              "      <td>1928 Summer</td>\n",
              "      <td>1928</td>\n",
              "      <td>Summer</td>\n",
              "      <td>Amsterdam</td>\n",
              "      <td>Athletics</td>\n",
              "      <td>Athletics Men's Marathon</td>\n",
              "      <td>NaN</td>\n",
              "    </tr>\n",
              "    <tr>\n",
              "      <th>271101</th>\n",
              "      <td>135562</td>\n",
              "      <td>Milan Zyka</td>\n",
              "      <td>M</td>\n",
              "      <td>24.0</td>\n",
              "      <td>173.0</td>\n",
              "      <td>68.0</td>\n",
              "      <td>Czechoslovakia</td>\n",
              "      <td>TCH</td>\n",
              "      <td>1972 Summer</td>\n",
              "      <td>1972</td>\n",
              "      <td>Summer</td>\n",
              "      <td>Munich</td>\n",
              "      <td>Cycling</td>\n",
              "      <td>Cycling Men's Team Pursuit, 4,000 metres</td>\n",
              "      <td>NaN</td>\n",
              "    </tr>\n",
              "    <tr>\n",
              "      <th>271102</th>\n",
              "      <td>135563</td>\n",
              "      <td>Olesya Nikolayevna Zykina</td>\n",
              "      <td>F</td>\n",
              "      <td>19.0</td>\n",
              "      <td>171.0</td>\n",
              "      <td>64.0</td>\n",
              "      <td>Russia</td>\n",
              "      <td>RUS</td>\n",
              "      <td>2000 Summer</td>\n",
              "      <td>2000</td>\n",
              "      <td>Summer</td>\n",
              "      <td>Sydney</td>\n",
              "      <td>Athletics</td>\n",
              "      <td>Athletics Women's 4 x 400 metres Relay</td>\n",
              "      <td>Bronze</td>\n",
              "    </tr>\n",
              "    <tr>\n",
              "      <th>271103</th>\n",
              "      <td>135563</td>\n",
              "      <td>Olesya Nikolayevna Zykina</td>\n",
              "      <td>F</td>\n",
              "      <td>23.0</td>\n",
              "      <td>171.0</td>\n",
              "      <td>64.0</td>\n",
              "      <td>Russia</td>\n",
              "      <td>RUS</td>\n",
              "      <td>2004 Summer</td>\n",
              "      <td>2004</td>\n",
              "      <td>Summer</td>\n",
              "      <td>Athina</td>\n",
              "      <td>Athletics</td>\n",
              "      <td>Athletics Women's 4 x 400 metres Relay</td>\n",
              "      <td>Silver</td>\n",
              "    </tr>\n",
              "    <tr>\n",
              "      <th>271104</th>\n",
              "      <td>135564</td>\n",
              "      <td>Yevgeny Aleksandrovich Zykov</td>\n",
              "      <td>M</td>\n",
              "      <td>22.0</td>\n",
              "      <td>172.0</td>\n",
              "      <td>65.0</td>\n",
              "      <td>Russia-1</td>\n",
              "      <td>RUS</td>\n",
              "      <td>2002 Winter</td>\n",
              "      <td>2002</td>\n",
              "      <td>Winter</td>\n",
              "      <td>Salt Lake City</td>\n",
              "      <td>Luge</td>\n",
              "      <td>Luge Mixed (Men)'s Doubles</td>\n",
              "      <td>NaN</td>\n",
              "    </tr>\n",
              "    <tr>\n",
              "      <th>271105</th>\n",
              "      <td>135565</td>\n",
              "      <td>Fernando scar Zylberberg</td>\n",
              "      <td>M</td>\n",
              "      <td>23.0</td>\n",
              "      <td>168.0</td>\n",
              "      <td>76.0</td>\n",
              "      <td>Argentina</td>\n",
              "      <td>ARG</td>\n",
              "      <td>2000 Summer</td>\n",
              "      <td>2000</td>\n",
              "      <td>Summer</td>\n",
              "      <td>Sydney</td>\n",
              "      <td>Hockey</td>\n",
              "      <td>Hockey Men's Hockey</td>\n",
              "      <td>NaN</td>\n",
              "    </tr>\n",
              "    <tr>\n",
              "      <th>271106</th>\n",
              "      <td>135565</td>\n",
              "      <td>Fernando scar Zylberberg</td>\n",
              "      <td>M</td>\n",
              "      <td>27.0</td>\n",
              "      <td>168.0</td>\n",
              "      <td>76.0</td>\n",
              "      <td>Argentina</td>\n",
              "      <td>ARG</td>\n",
              "      <td>2004 Summer</td>\n",
              "      <td>2004</td>\n",
              "      <td>Summer</td>\n",
              "      <td>Athina</td>\n",
              "      <td>Hockey</td>\n",
              "      <td>Hockey Men's Hockey</td>\n",
              "      <td>NaN</td>\n",
              "    </tr>\n",
              "    <tr>\n",
              "      <th>271107</th>\n",
              "      <td>135566</td>\n",
              "      <td>James Francis \"Jim\" Zylker</td>\n",
              "      <td>M</td>\n",
              "      <td>21.0</td>\n",
              "      <td>175.0</td>\n",
              "      <td>75.0</td>\n",
              "      <td>United States</td>\n",
              "      <td>USA</td>\n",
              "      <td>1972 Summer</td>\n",
              "      <td>1972</td>\n",
              "      <td>Summer</td>\n",
              "      <td>Munich</td>\n",
              "      <td>Football</td>\n",
              "      <td>Football Men's Football</td>\n",
              "      <td>NaN</td>\n",
              "    </tr>\n",
              "    <tr>\n",
              "      <th>271108</th>\n",
              "      <td>135567</td>\n",
              "      <td>Aleksandr Viktorovich Zyuzin</td>\n",
              "      <td>M</td>\n",
              "      <td>24.0</td>\n",
              "      <td>183.0</td>\n",
              "      <td>72.0</td>\n",
              "      <td>Russia</td>\n",
              "      <td>RUS</td>\n",
              "      <td>2000 Summer</td>\n",
              "      <td>2000</td>\n",
              "      <td>Summer</td>\n",
              "      <td>Sydney</td>\n",
              "      <td>Rowing</td>\n",
              "      <td>Rowing Men's Lightweight Coxless Fours</td>\n",
              "      <td>NaN</td>\n",
              "    </tr>\n",
              "    <tr>\n",
              "      <th>271109</th>\n",
              "      <td>135567</td>\n",
              "      <td>Aleksandr Viktorovich Zyuzin</td>\n",
              "      <td>M</td>\n",
              "      <td>28.0</td>\n",
              "      <td>183.0</td>\n",
              "      <td>72.0</td>\n",
              "      <td>Russia</td>\n",
              "      <td>RUS</td>\n",
              "      <td>2004 Summer</td>\n",
              "      <td>2004</td>\n",
              "      <td>Summer</td>\n",
              "      <td>Athina</td>\n",
              "      <td>Rowing</td>\n",
              "      <td>Rowing Men's Lightweight Coxless Fours</td>\n",
              "      <td>NaN</td>\n",
              "    </tr>\n",
              "    <tr>\n",
              "      <th>271110</th>\n",
              "      <td>135568</td>\n",
              "      <td>Olga Igorevna Zyuzkova</td>\n",
              "      <td>F</td>\n",
              "      <td>33.0</td>\n",
              "      <td>171.0</td>\n",
              "      <td>69.0</td>\n",
              "      <td>Belarus</td>\n",
              "      <td>BLR</td>\n",
              "      <td>2016 Summer</td>\n",
              "      <td>2016</td>\n",
              "      <td>Summer</td>\n",
              "      <td>Rio de Janeiro</td>\n",
              "      <td>Basketball</td>\n",
              "      <td>Basketball Women's Basketball</td>\n",
              "      <td>NaN</td>\n",
              "    </tr>\n",
              "    <tr>\n",
              "      <th>271111</th>\n",
              "      <td>135569</td>\n",
              "      <td>Andrzej ya</td>\n",
              "      <td>M</td>\n",
              "      <td>29.0</td>\n",
              "      <td>179.0</td>\n",
              "      <td>89.0</td>\n",
              "      <td>Poland-1</td>\n",
              "      <td>POL</td>\n",
              "      <td>1976 Winter</td>\n",
              "      <td>1976</td>\n",
              "      <td>Winter</td>\n",
              "      <td>Innsbruck</td>\n",
              "      <td>Luge</td>\n",
              "      <td>Luge Mixed (Men)'s Doubles</td>\n",
              "      <td>NaN</td>\n",
              "    </tr>\n",
              "    <tr>\n",
              "      <th>271112</th>\n",
              "      <td>135570</td>\n",
              "      <td>Piotr ya</td>\n",
              "      <td>M</td>\n",
              "      <td>27.0</td>\n",
              "      <td>176.0</td>\n",
              "      <td>59.0</td>\n",
              "      <td>Poland</td>\n",
              "      <td>POL</td>\n",
              "      <td>2014 Winter</td>\n",
              "      <td>2014</td>\n",
              "      <td>Winter</td>\n",
              "      <td>Sochi</td>\n",
              "      <td>Ski Jumping</td>\n",
              "      <td>Ski Jumping Men's Large Hill, Individual</td>\n",
              "      <td>NaN</td>\n",
              "    </tr>\n",
              "    <tr>\n",
              "      <th>271113</th>\n",
              "      <td>135570</td>\n",
              "      <td>Piotr ya</td>\n",
              "      <td>M</td>\n",
              "      <td>27.0</td>\n",
              "      <td>176.0</td>\n",
              "      <td>59.0</td>\n",
              "      <td>Poland</td>\n",
              "      <td>POL</td>\n",
              "      <td>2014 Winter</td>\n",
              "      <td>2014</td>\n",
              "      <td>Winter</td>\n",
              "      <td>Sochi</td>\n",
              "      <td>Ski Jumping</td>\n",
              "      <td>Ski Jumping Men's Large Hill, Team</td>\n",
              "      <td>NaN</td>\n",
              "    </tr>\n",
              "    <tr>\n",
              "      <th>271114</th>\n",
              "      <td>135571</td>\n",
              "      <td>Tomasz Ireneusz ya</td>\n",
              "      <td>M</td>\n",
              "      <td>30.0</td>\n",
              "      <td>185.0</td>\n",
              "      <td>96.0</td>\n",
              "      <td>Poland</td>\n",
              "      <td>POL</td>\n",
              "      <td>1998 Winter</td>\n",
              "      <td>1998</td>\n",
              "      <td>Winter</td>\n",
              "      <td>Nagano</td>\n",
              "      <td>Bobsleigh</td>\n",
              "      <td>Bobsleigh Men's Four</td>\n",
              "      <td>NaN</td>\n",
              "    </tr>\n",
              "    <tr>\n",
              "      <th>271115</th>\n",
              "      <td>135571</td>\n",
              "      <td>Tomasz Ireneusz ya</td>\n",
              "      <td>M</td>\n",
              "      <td>34.0</td>\n",
              "      <td>185.0</td>\n",
              "      <td>96.0</td>\n",
              "      <td>Poland</td>\n",
              "      <td>POL</td>\n",
              "      <td>2002 Winter</td>\n",
              "      <td>2002</td>\n",
              "      <td>Winter</td>\n",
              "      <td>Salt Lake City</td>\n",
              "      <td>Bobsleigh</td>\n",
              "      <td>Bobsleigh Men's Four</td>\n",
              "      <td>NaN</td>\n",
              "    </tr>\n",
              "  </tbody>\n",
              "</table>\n",
              "<p>271116 rows × 15 columns</p>\n",
              "</div>"
            ],
            "text/plain": [
              "            ID                                Name Sex   Age  Height  Weight  \\\n",
              "0            1                           A Dijiang   M  24.0   180.0    80.0   \n",
              "1            2                            A Lamusi   M  23.0   170.0    60.0   \n",
              "2            3                 Gunnar Nielsen Aaby   M  24.0     NaN     NaN   \n",
              "3            4                Edgar Lindenau Aabye   M  34.0     NaN     NaN   \n",
              "4            5            Christine Jacoba Aaftink   F  21.0   185.0    82.0   \n",
              "5            5            Christine Jacoba Aaftink   F  21.0   185.0    82.0   \n",
              "6            5            Christine Jacoba Aaftink   F  25.0   185.0    82.0   \n",
              "7            5            Christine Jacoba Aaftink   F  25.0   185.0    82.0   \n",
              "8            5            Christine Jacoba Aaftink   F  27.0   185.0    82.0   \n",
              "9            5            Christine Jacoba Aaftink   F  27.0   185.0    82.0   \n",
              "10           6                     Per Knut Aaland   M  31.0   188.0    75.0   \n",
              "11           6                     Per Knut Aaland   M  31.0   188.0    75.0   \n",
              "12           6                     Per Knut Aaland   M  31.0   188.0    75.0   \n",
              "13           6                     Per Knut Aaland   M  31.0   188.0    75.0   \n",
              "14           6                     Per Knut Aaland   M  33.0   188.0    75.0   \n",
              "15           6                     Per Knut Aaland   M  33.0   188.0    75.0   \n",
              "16           6                     Per Knut Aaland   M  33.0   188.0    75.0   \n",
              "17           6                     Per Knut Aaland   M  33.0   188.0    75.0   \n",
              "18           7                        John Aalberg   M  31.0   183.0    72.0   \n",
              "19           7                        John Aalberg   M  31.0   183.0    72.0   \n",
              "20           7                        John Aalberg   M  31.0   183.0    72.0   \n",
              "21           7                        John Aalberg   M  31.0   183.0    72.0   \n",
              "22           7                        John Aalberg   M  33.0   183.0    72.0   \n",
              "23           7                        John Aalberg   M  33.0   183.0    72.0   \n",
              "24           7                        John Aalberg   M  33.0   183.0    72.0   \n",
              "25           7                        John Aalberg   M  33.0   183.0    72.0   \n",
              "26           8  Cornelia \"Cor\" Aalten (-Strannood)   F  18.0   168.0     NaN   \n",
              "27           8  Cornelia \"Cor\" Aalten (-Strannood)   F  18.0   168.0     NaN   \n",
              "28           9                    Antti Sami Aalto   M  26.0   186.0    96.0   \n",
              "29          10      Einar Ferdinand \"Einari\" Aalto   M  26.0     NaN     NaN   \n",
              "...        ...                                 ...  ..   ...     ...     ...   \n",
              "271086  135555                          Micha Zych   M  23.0   177.0    68.0   \n",
              "271087  135556          Bogusaw Stanisaw Zychowicz   M  19.0   189.0    80.0   \n",
              "271088  135556          Bogusaw Stanisaw Zychowicz   M  19.0   189.0    80.0   \n",
              "271089  135557                        Dominik ycki   M  34.0   192.0    95.0   \n",
              "271090  135557                        Dominik ycki   M  38.0   192.0    95.0   \n",
              "271091  135558                  ukasz Tomasz ygado   M  32.0   200.0    89.0   \n",
              "271092  135559                    Pawe Jan Zygmunt   M  21.0   182.0    79.0   \n",
              "271093  135559                    Pawe Jan Zygmunt   M  21.0   182.0    79.0   \n",
              "271094  135559                    Pawe Jan Zygmunt   M  25.0   182.0    79.0   \n",
              "271095  135559                    Pawe Jan Zygmunt   M  25.0   182.0    79.0   \n",
              "271096  135559                    Pawe Jan Zygmunt   M  29.0   182.0    79.0   \n",
              "271097  135559                    Pawe Jan Zygmunt   M  29.0   182.0    79.0   \n",
              "271098  135559                    Pawe Jan Zygmunt   M  33.0   182.0    79.0   \n",
              "271099  135560                   Stavroula Zygouri   F  36.0   171.0    63.0   \n",
              "271100  135561                       Frantiek Zyka   M  26.0     NaN     NaN   \n",
              "271101  135562                          Milan Zyka   M  24.0   173.0    68.0   \n",
              "271102  135563           Olesya Nikolayevna Zykina   F  19.0   171.0    64.0   \n",
              "271103  135563           Olesya Nikolayevna Zykina   F  23.0   171.0    64.0   \n",
              "271104  135564        Yevgeny Aleksandrovich Zykov   M  22.0   172.0    65.0   \n",
              "271105  135565            Fernando scar Zylberberg   M  23.0   168.0    76.0   \n",
              "271106  135565            Fernando scar Zylberberg   M  27.0   168.0    76.0   \n",
              "271107  135566          James Francis \"Jim\" Zylker   M  21.0   175.0    75.0   \n",
              "271108  135567        Aleksandr Viktorovich Zyuzin   M  24.0   183.0    72.0   \n",
              "271109  135567        Aleksandr Viktorovich Zyuzin   M  28.0   183.0    72.0   \n",
              "271110  135568              Olga Igorevna Zyuzkova   F  33.0   171.0    69.0   \n",
              "271111  135569                          Andrzej ya   M  29.0   179.0    89.0   \n",
              "271112  135570                            Piotr ya   M  27.0   176.0    59.0   \n",
              "271113  135570                            Piotr ya   M  27.0   176.0    59.0   \n",
              "271114  135571                  Tomasz Ireneusz ya   M  30.0   185.0    96.0   \n",
              "271115  135571                  Tomasz Ireneusz ya   M  34.0   185.0    96.0   \n",
              "\n",
              "                  Team  NOC        Games  Year  Season            City  \\\n",
              "0                China  CHN  1992 Summer  1992  Summer       Barcelona   \n",
              "1                China  CHN  2012 Summer  2012  Summer          London   \n",
              "2              Denmark  DEN  1920 Summer  1920  Summer       Antwerpen   \n",
              "3       Denmark/Sweden  DEN  1900 Summer  1900  Summer           Paris   \n",
              "4          Netherlands  NED  1988 Winter  1988  Winter         Calgary   \n",
              "5          Netherlands  NED  1988 Winter  1988  Winter         Calgary   \n",
              "6          Netherlands  NED  1992 Winter  1992  Winter     Albertville   \n",
              "7          Netherlands  NED  1992 Winter  1992  Winter     Albertville   \n",
              "8          Netherlands  NED  1994 Winter  1994  Winter     Lillehammer   \n",
              "9          Netherlands  NED  1994 Winter  1994  Winter     Lillehammer   \n",
              "10       United States  USA  1992 Winter  1992  Winter     Albertville   \n",
              "11       United States  USA  1992 Winter  1992  Winter     Albertville   \n",
              "12       United States  USA  1992 Winter  1992  Winter     Albertville   \n",
              "13       United States  USA  1992 Winter  1992  Winter     Albertville   \n",
              "14       United States  USA  1994 Winter  1994  Winter     Lillehammer   \n",
              "15       United States  USA  1994 Winter  1994  Winter     Lillehammer   \n",
              "16       United States  USA  1994 Winter  1994  Winter     Lillehammer   \n",
              "17       United States  USA  1994 Winter  1994  Winter     Lillehammer   \n",
              "18       United States  USA  1992 Winter  1992  Winter     Albertville   \n",
              "19       United States  USA  1992 Winter  1992  Winter     Albertville   \n",
              "20       United States  USA  1992 Winter  1992  Winter     Albertville   \n",
              "21       United States  USA  1992 Winter  1992  Winter     Albertville   \n",
              "22       United States  USA  1994 Winter  1994  Winter     Lillehammer   \n",
              "23       United States  USA  1994 Winter  1994  Winter     Lillehammer   \n",
              "24       United States  USA  1994 Winter  1994  Winter     Lillehammer   \n",
              "25       United States  USA  1994 Winter  1994  Winter     Lillehammer   \n",
              "26         Netherlands  NED  1932 Summer  1932  Summer     Los Angeles   \n",
              "27         Netherlands  NED  1932 Summer  1932  Summer     Los Angeles   \n",
              "28             Finland  FIN  2002 Winter  2002  Winter  Salt Lake City   \n",
              "29             Finland  FIN  1952 Summer  1952  Summer        Helsinki   \n",
              "...                ...  ...          ...   ...     ...             ...   \n",
              "271086          Poland  POL  2006 Winter  2006  Winter          Torino   \n",
              "271087          Poland  POL  1980 Summer  1980  Summer          Moskva   \n",
              "271088          Poland  POL  1980 Summer  1980  Summer          Moskva   \n",
              "271089          Poland  POL  2008 Summer  2008  Summer         Beijing   \n",
              "271090          Poland  POL  2012 Summer  2012  Summer          London   \n",
              "271091          Poland  POL  2012 Summer  2012  Summer          London   \n",
              "271092          Poland  POL  1994 Winter  1994  Winter     Lillehammer   \n",
              "271093          Poland  POL  1994 Winter  1994  Winter     Lillehammer   \n",
              "271094          Poland  POL  1998 Winter  1998  Winter          Nagano   \n",
              "271095          Poland  POL  1998 Winter  1998  Winter          Nagano   \n",
              "271096          Poland  POL  2002 Winter  2002  Winter  Salt Lake City   \n",
              "271097          Poland  POL  2002 Winter  2002  Winter  Salt Lake City   \n",
              "271098          Poland  POL  2006 Winter  2006  Winter          Torino   \n",
              "271099          Greece  GRE  2004 Summer  2004  Summer          Athina   \n",
              "271100  Czechoslovakia  TCH  1928 Summer  1928  Summer       Amsterdam   \n",
              "271101  Czechoslovakia  TCH  1972 Summer  1972  Summer          Munich   \n",
              "271102          Russia  RUS  2000 Summer  2000  Summer          Sydney   \n",
              "271103          Russia  RUS  2004 Summer  2004  Summer          Athina   \n",
              "271104        Russia-1  RUS  2002 Winter  2002  Winter  Salt Lake City   \n",
              "271105       Argentina  ARG  2000 Summer  2000  Summer          Sydney   \n",
              "271106       Argentina  ARG  2004 Summer  2004  Summer          Athina   \n",
              "271107   United States  USA  1972 Summer  1972  Summer          Munich   \n",
              "271108          Russia  RUS  2000 Summer  2000  Summer          Sydney   \n",
              "271109          Russia  RUS  2004 Summer  2004  Summer          Athina   \n",
              "271110         Belarus  BLR  2016 Summer  2016  Summer  Rio de Janeiro   \n",
              "271111        Poland-1  POL  1976 Winter  1976  Winter       Innsbruck   \n",
              "271112          Poland  POL  2014 Winter  2014  Winter           Sochi   \n",
              "271113          Poland  POL  2014 Winter  2014  Winter           Sochi   \n",
              "271114          Poland  POL  1998 Winter  1998  Winter          Nagano   \n",
              "271115          Poland  POL  2002 Winter  2002  Winter  Salt Lake City   \n",
              "\n",
              "                       Sport  \\\n",
              "0                 Basketball   \n",
              "1                       Judo   \n",
              "2                   Football   \n",
              "3                 Tug-Of-War   \n",
              "4              Speed Skating   \n",
              "5              Speed Skating   \n",
              "6              Speed Skating   \n",
              "7              Speed Skating   \n",
              "8              Speed Skating   \n",
              "9              Speed Skating   \n",
              "10      Cross Country Skiing   \n",
              "11      Cross Country Skiing   \n",
              "12      Cross Country Skiing   \n",
              "13      Cross Country Skiing   \n",
              "14      Cross Country Skiing   \n",
              "15      Cross Country Skiing   \n",
              "16      Cross Country Skiing   \n",
              "17      Cross Country Skiing   \n",
              "18      Cross Country Skiing   \n",
              "19      Cross Country Skiing   \n",
              "20      Cross Country Skiing   \n",
              "21      Cross Country Skiing   \n",
              "22      Cross Country Skiing   \n",
              "23      Cross Country Skiing   \n",
              "24      Cross Country Skiing   \n",
              "25      Cross Country Skiing   \n",
              "26                 Athletics   \n",
              "27                 Athletics   \n",
              "28                Ice Hockey   \n",
              "29                  Swimming   \n",
              "...                      ...   \n",
              "271086        Figure Skating   \n",
              "271087              Swimming   \n",
              "271088              Swimming   \n",
              "271089               Sailing   \n",
              "271090               Sailing   \n",
              "271091            Volleyball   \n",
              "271092         Speed Skating   \n",
              "271093         Speed Skating   \n",
              "271094         Speed Skating   \n",
              "271095         Speed Skating   \n",
              "271096         Speed Skating   \n",
              "271097         Speed Skating   \n",
              "271098         Speed Skating   \n",
              "271099             Wrestling   \n",
              "271100             Athletics   \n",
              "271101               Cycling   \n",
              "271102             Athletics   \n",
              "271103             Athletics   \n",
              "271104                  Luge   \n",
              "271105                Hockey   \n",
              "271106                Hockey   \n",
              "271107              Football   \n",
              "271108                Rowing   \n",
              "271109                Rowing   \n",
              "271110            Basketball   \n",
              "271111                  Luge   \n",
              "271112           Ski Jumping   \n",
              "271113           Ski Jumping   \n",
              "271114             Bobsleigh   \n",
              "271115             Bobsleigh   \n",
              "\n",
              "                                                    Event   Medal  \n",
              "0                             Basketball Men's Basketball     NaN  \n",
              "1                            Judo Men's Extra-Lightweight     NaN  \n",
              "2                                 Football Men's Football     NaN  \n",
              "3                             Tug-Of-War Men's Tug-Of-War    Gold  \n",
              "4                        Speed Skating Women's 500 metres     NaN  \n",
              "5                      Speed Skating Women's 1,000 metres     NaN  \n",
              "6                        Speed Skating Women's 500 metres     NaN  \n",
              "7                      Speed Skating Women's 1,000 metres     NaN  \n",
              "8                        Speed Skating Women's 500 metres     NaN  \n",
              "9                      Speed Skating Women's 1,000 metres     NaN  \n",
              "10               Cross Country Skiing Men's 10 kilometres     NaN  \n",
              "11               Cross Country Skiing Men's 50 kilometres     NaN  \n",
              "12      Cross Country Skiing Men's 10/15 kilometres Pu...     NaN  \n",
              "13      Cross Country Skiing Men's 4 x 10 kilometres R...     NaN  \n",
              "14               Cross Country Skiing Men's 10 kilometres     NaN  \n",
              "15               Cross Country Skiing Men's 30 kilometres     NaN  \n",
              "16      Cross Country Skiing Men's 10/15 kilometres Pu...     NaN  \n",
              "17      Cross Country Skiing Men's 4 x 10 kilometres R...     NaN  \n",
              "18               Cross Country Skiing Men's 10 kilometres     NaN  \n",
              "19               Cross Country Skiing Men's 50 kilometres     NaN  \n",
              "20      Cross Country Skiing Men's 10/15 kilometres Pu...     NaN  \n",
              "21      Cross Country Skiing Men's 4 x 10 kilometres R...     NaN  \n",
              "22               Cross Country Skiing Men's 10 kilometres     NaN  \n",
              "23               Cross Country Skiing Men's 30 kilometres     NaN  \n",
              "24      Cross Country Skiing Men's 10/15 kilometres Pu...     NaN  \n",
              "25      Cross Country Skiing Men's 4 x 10 kilometres R...     NaN  \n",
              "26                           Athletics Women's 100 metres     NaN  \n",
              "27                 Athletics Women's 4 x 100 metres Relay     NaN  \n",
              "28                            Ice Hockey Men's Ice Hockey     NaN  \n",
              "29                    Swimming Men's 400 metres Freestyle     NaN  \n",
              "...                                                   ...     ...  \n",
              "271086                   Figure Skating Mixed Ice Dancing     NaN  \n",
              "271087                Swimming Men's 100 metres Butterfly     NaN  \n",
              "271088                Swimming Men's 200 metres Butterfly     NaN  \n",
              "271089                  Sailing Men's Two Person Keelboat     NaN  \n",
              "271090                  Sailing Men's Two Person Keelboat     NaN  \n",
              "271091                        Volleyball Men's Volleyball     NaN  \n",
              "271092                   Speed Skating Men's 1,500 metres     NaN  \n",
              "271093                   Speed Skating Men's 5,000 metres     NaN  \n",
              "271094                   Speed Skating Men's 1,500 metres     NaN  \n",
              "271095                   Speed Skating Men's 5,000 metres     NaN  \n",
              "271096                   Speed Skating Men's 5,000 metres     NaN  \n",
              "271097                  Speed Skating Men's 10,000 metres     NaN  \n",
              "271098                   Speed Skating Men's 5,000 metres     NaN  \n",
              "271099          Wrestling Women's Middleweight, Freestyle     NaN  \n",
              "271100                           Athletics Men's Marathon     NaN  \n",
              "271101           Cycling Men's Team Pursuit, 4,000 metres     NaN  \n",
              "271102             Athletics Women's 4 x 400 metres Relay  Bronze  \n",
              "271103             Athletics Women's 4 x 400 metres Relay  Silver  \n",
              "271104                         Luge Mixed (Men)'s Doubles     NaN  \n",
              "271105                                Hockey Men's Hockey     NaN  \n",
              "271106                                Hockey Men's Hockey     NaN  \n",
              "271107                            Football Men's Football     NaN  \n",
              "271108             Rowing Men's Lightweight Coxless Fours     NaN  \n",
              "271109             Rowing Men's Lightweight Coxless Fours     NaN  \n",
              "271110                      Basketball Women's Basketball     NaN  \n",
              "271111                         Luge Mixed (Men)'s Doubles     NaN  \n",
              "271112           Ski Jumping Men's Large Hill, Individual     NaN  \n",
              "271113                 Ski Jumping Men's Large Hill, Team     NaN  \n",
              "271114                               Bobsleigh Men's Four     NaN  \n",
              "271115                               Bobsleigh Men's Four     NaN  \n",
              "\n",
              "[271116 rows x 15 columns]"
            ]
          },
          "metadata": {
            "tags": []
          },
          "execution_count": 12
        }
      ]
    },
    {
      "cell_type": "code",
      "metadata": {
        "id": "xnUI-riwt1sz",
        "outputId": "8dce785f-6bc7-4989-a903-454e426aeaf6"
      },
      "source": [
        "print (data['Weight'].isnull())"
      ],
      "execution_count": null,
      "outputs": [
        {
          "output_type": "stream",
          "text": [
            "0         False\n",
            "1         False\n",
            "2          True\n",
            "3          True\n",
            "4         False\n",
            "5         False\n",
            "6         False\n",
            "7         False\n",
            "8         False\n",
            "9         False\n",
            "10        False\n",
            "11        False\n",
            "12        False\n",
            "13        False\n",
            "14        False\n",
            "15        False\n",
            "16        False\n",
            "17        False\n",
            "18        False\n",
            "19        False\n",
            "20        False\n",
            "21        False\n",
            "22        False\n",
            "23        False\n",
            "24        False\n",
            "25        False\n",
            "26         True\n",
            "27         True\n",
            "28        False\n",
            "29         True\n",
            "          ...  \n",
            "271086    False\n",
            "271087    False\n",
            "271088    False\n",
            "271089    False\n",
            "271090    False\n",
            "271091    False\n",
            "271092    False\n",
            "271093    False\n",
            "271094    False\n",
            "271095    False\n",
            "271096    False\n",
            "271097    False\n",
            "271098    False\n",
            "271099    False\n",
            "271100     True\n",
            "271101    False\n",
            "271102    False\n",
            "271103    False\n",
            "271104    False\n",
            "271105    False\n",
            "271106    False\n",
            "271107    False\n",
            "271108    False\n",
            "271109    False\n",
            "271110    False\n",
            "271111    False\n",
            "271112    False\n",
            "271113    False\n",
            "271114    False\n",
            "271115    False\n",
            "Name: Weight, Length: 271116, dtype: bool\n"
          ],
          "name": "stdout"
        }
      ]
    },
    {
      "cell_type": "code",
      "metadata": {
        "id": "OpEoY_sht1sz",
        "outputId": "92cbe90a-68a0-4ff6-c8ba-ee24efcf7bc0"
      },
      "source": [
        "import pandas as pd\n",
        "import numpy as np\n",
        "data = pd.read_csv(\"data.csv\")\n",
        "print(data)"
      ],
      "execution_count": null,
      "outputs": [
        {
          "output_type": "stream",
          "text": [
            "      A     B     C     D\n",
            "0   1.0   2.0   3.0   5.0\n",
            "1   NaN   4.0   5.0  10.0\n",
            "2   3.0   6.0   7.0   NaN\n",
            "3   4.0   8.0   9.0  20.0\n",
            "4   5.0   NaN   NaN  25.0\n",
            "5   NaN  12.0  13.0   NaN\n",
            "6   7.0  14.0  15.0  35.0\n",
            "7   8.0   NaN  17.0  40.0\n",
            "8   NaN  18.0  19.0  45.0\n",
            "9  10.0  20.0  21.0  50.0\n"
          ],
          "name": "stdout"
        }
      ]
    },
    {
      "cell_type": "code",
      "metadata": {
        "id": "ooeRQjevt1s0",
        "outputId": "538fe07c-3f81-42cf-831e-f4284a7ed6ca"
      },
      "source": [
        "print (data['A'].sum())"
      ],
      "execution_count": null,
      "outputs": [
        {
          "output_type": "stream",
          "text": [
            "38.0\n"
          ],
          "name": "stdout"
        }
      ]
    },
    {
      "cell_type": "code",
      "metadata": {
        "id": "UUsRUMZFt1s0",
        "outputId": "973b816e-af8d-4524-ee79-a12339dfad03"
      },
      "source": [
        "df = pd.DataFrame(index=[0,1,2,3,4,5],columns=['one','two'])\n",
        "print(df)\n",
        "print (df['one'].sum())"
      ],
      "execution_count": null,
      "outputs": [
        {
          "output_type": "stream",
          "text": [
            "   one  two\n",
            "0  NaN  NaN\n",
            "1  NaN  NaN\n",
            "2  NaN  NaN\n",
            "3  NaN  NaN\n",
            "4  NaN  NaN\n",
            "5  NaN  NaN\n",
            "0\n"
          ],
          "name": "stdout"
        }
      ]
    },
    {
      "cell_type": "markdown",
      "metadata": {
        "id": "EPQUJOxYt1s1"
      },
      "source": [
        "## Cleaning / Filling Missing Data"
      ]
    },
    {
      "cell_type": "code",
      "metadata": {
        "id": "hX0XPeiRt1s1",
        "outputId": "cf5525a5-3703-4318-ca6b-544d003d9f2a"
      },
      "source": [
        "df = pd.DataFrame(np.random.randn(3, 3), index=['a', 'c', 'e'],columns=['one',\n",
        "'two', 'three'])\n",
        "\n",
        "df = df.reindex(['a', 'b', 'c'])\n",
        "\n",
        "print (df)\n",
        "print (\"NaN replaced with '0':\")\n",
        "print (df.fillna(0))"
      ],
      "execution_count": null,
      "outputs": [
        {
          "output_type": "stream",
          "text": [
            "        one       two     three\n",
            "a -0.642305 -0.603400 -0.944232\n",
            "b       NaN       NaN       NaN\n",
            "c  1.242212 -0.952358 -1.916920\n",
            "NaN replaced with '0':\n",
            "        one       two     three\n",
            "a -0.642305 -0.603400 -0.944232\n",
            "b  0.000000  0.000000  0.000000\n",
            "c  1.242212 -0.952358 -1.916920\n"
          ],
          "name": "stdout"
        }
      ]
    },
    {
      "cell_type": "markdown",
      "metadata": {
        "id": "x6avevzet1s1"
      },
      "source": [
        "## Fill NA Forward and Backward"
      ]
    },
    {
      "cell_type": "code",
      "metadata": {
        "id": "-h7t18uBt1s1",
        "outputId": "5945bbbb-39ae-41f3-c2d8-7653b0c74778"
      },
      "source": [
        "df = pd.DataFrame(np.random.randn(5, 3), index=['a', 'c', 'e', 'f',\n",
        "'h'],columns=['one', 'two', 'three'])\n",
        "\n",
        "df = df.reindex(['a', 'b', 'c', 'd', 'e', 'f', 'g', 'h'])\n",
        "print(df)\n",
        "print(\"-----------------------------\")\n",
        "print (df.fillna(method='pad'))"
      ],
      "execution_count": null,
      "outputs": [
        {
          "output_type": "stream",
          "text": [
            "        one       two     three\n",
            "a  1.146033 -0.149642  0.277404\n",
            "b       NaN       NaN       NaN\n",
            "c -0.010095  2.248349  0.664187\n",
            "d       NaN       NaN       NaN\n",
            "e -1.198900 -1.368529 -0.059725\n",
            "f -0.348196  0.309328 -2.120937\n",
            "g       NaN       NaN       NaN\n",
            "h -0.043159 -0.915848 -0.033562\n",
            "-----------------------------\n",
            "        one       two     three\n",
            "a  1.146033 -0.149642  0.277404\n",
            "b  1.146033 -0.149642  0.277404\n",
            "c -0.010095  2.248349  0.664187\n",
            "d -0.010095  2.248349  0.664187\n",
            "e -1.198900 -1.368529 -0.059725\n",
            "f -0.348196  0.309328 -2.120937\n",
            "g -0.348196  0.309328 -2.120937\n",
            "h -0.043159 -0.915848 -0.033562\n"
          ],
          "name": "stdout"
        }
      ]
    },
    {
      "cell_type": "code",
      "metadata": {
        "id": "WBlXu3VTt1s2",
        "outputId": "0240b3c4-cbf1-4a6d-bc09-bb25d7977c8a"
      },
      "source": [
        "df = pd.DataFrame(np.random.randn(5, 3), index=['a', 'c', 'e', 'f',\n",
        "'h'],columns=['one', 'two', 'three'])\n",
        "\n",
        "df = df.reindex(['a', 'b', 'c', 'd', 'e', 'f', 'g', 'h'])\n",
        "print(df)\n",
        "print(\"-----------------------------\")\n",
        "print (df.fillna(method='backfill'))"
      ],
      "execution_count": null,
      "outputs": [
        {
          "output_type": "stream",
          "text": [
            "        one       two     three\n",
            "a -1.630344 -0.497175  1.272994\n",
            "b       NaN       NaN       NaN\n",
            "c -0.572398  0.619612  1.105527\n",
            "d       NaN       NaN       NaN\n",
            "e  1.222902 -0.442529  0.591567\n",
            "f  0.107577 -2.533396  0.753795\n",
            "g       NaN       NaN       NaN\n",
            "h  0.884141  1.352075  0.603482\n",
            "-----------------------------\n",
            "        one       two     three\n",
            "a -1.630344 -0.497175  1.272994\n",
            "b -0.572398  0.619612  1.105527\n",
            "c -0.572398  0.619612  1.105527\n",
            "d  1.222902 -0.442529  0.591567\n",
            "e  1.222902 -0.442529  0.591567\n",
            "f  0.107577 -2.533396  0.753795\n",
            "g  0.884141  1.352075  0.603482\n",
            "h  0.884141  1.352075  0.603482\n"
          ],
          "name": "stdout"
        }
      ]
    },
    {
      "cell_type": "markdown",
      "metadata": {
        "id": "MVlPrC-Mt1s2"
      },
      "source": [
        "# Drop Missing Values"
      ]
    },
    {
      "cell_type": "code",
      "metadata": {
        "id": "5-Fye531t1s2",
        "outputId": "bade5bec-fb00-4127-efdd-f03c61d10be5"
      },
      "source": [
        "df = pd.DataFrame(np.random.randn(5, 3), index=['a', 'c', 'e', 'f',\n",
        "'h'],columns=['one', 'two', 'three'])\n",
        "\n",
        "\n",
        "df = df.reindex(['a', 'b', 'c', 'd', 'e', 'f', 'g', 'h'])\n",
        "print(df)\n",
        "print(\"-----------------------------\")\n",
        "print (df.dropna())"
      ],
      "execution_count": null,
      "outputs": [
        {
          "output_type": "stream",
          "text": [
            "        one       two     three\n",
            "a -0.827668  0.556166  0.126810\n",
            "b       NaN       NaN       NaN\n",
            "c  0.164537  1.098938 -0.893576\n",
            "d       NaN       NaN       NaN\n",
            "e -0.241608 -0.443362  0.255676\n",
            "f -0.041445 -1.668323  0.451631\n",
            "g       NaN       NaN       NaN\n",
            "h -0.410398 -0.227468  0.756156\n",
            "-----------------------------\n",
            "        one       two     three\n",
            "a -0.827668  0.556166  0.126810\n",
            "c  0.164537  1.098938 -0.893576\n",
            "e -0.241608 -0.443362  0.255676\n",
            "f -0.041445 -1.668323  0.451631\n",
            "h -0.410398 -0.227468  0.756156\n"
          ],
          "name": "stdout"
        }
      ]
    },
    {
      "cell_type": "code",
      "metadata": {
        "id": "JwqEixkat1s3",
        "outputId": "8a1b30de-88eb-466a-8210-a4d39c09a18b"
      },
      "source": [
        "df = pd.DataFrame(np.random.randn(5, 3), index=['a', 'c', 'e', 'f',\n",
        "'h'],columns=['one', 'two', 'three'])\n",
        "\n",
        "df = df.reindex(['a', 'b', 'c', 'd', 'e', 'f', 'g', 'h'])\n",
        "print(df)\n",
        "print(\"-----------------------------\")\n",
        "print (df.dropna(axis=1))"
      ],
      "execution_count": null,
      "outputs": [
        {
          "output_type": "stream",
          "text": [
            "        one       two     three\n",
            "a  0.299527 -1.172651 -0.701408\n",
            "b       NaN       NaN       NaN\n",
            "c  0.997185 -0.090804 -0.014353\n",
            "d       NaN       NaN       NaN\n",
            "e -0.699106  0.149991 -0.514226\n",
            "f -0.589308  0.896113 -0.320995\n",
            "g       NaN       NaN       NaN\n",
            "h  0.257417  2.454714 -0.959687\n",
            "-----------------------------\n",
            "Empty DataFrame\n",
            "Columns: []\n",
            "Index: [a, b, c, d, e, f, g, h]\n"
          ],
          "name": "stdout"
        }
      ]
    },
    {
      "cell_type": "markdown",
      "metadata": {
        "id": "fIzZ31zdt1s4"
      },
      "source": [
        "# Replace Missing (or) Generic Values"
      ]
    },
    {
      "cell_type": "code",
      "metadata": {
        "id": "HAYxHPT5t1s4",
        "outputId": "f762c51f-21eb-4fa2-b9db-96810891556e"
      },
      "source": [
        "df = pd.DataFrame({'one':[10,20,30,40,50,2000], 'two':[1000,0,30,40,50,60]})\n",
        "print(df)\n",
        "print(\"-----------------------------\")\n",
        "print (df.replace({1000:10,2000:60}))"
      ],
      "execution_count": null,
      "outputs": [
        {
          "output_type": "stream",
          "text": [
            "    one   two\n",
            "0    10  1000\n",
            "1    20     0\n",
            "2    30    30\n",
            "3    40    40\n",
            "4    50    50\n",
            "5  2000    60\n",
            "-----------------------------\n",
            "   one  two\n",
            "0   10   10\n",
            "1   20    0\n",
            "2   30   30\n",
            "3   40   40\n",
            "4   50   50\n",
            "5   60   60\n"
          ],
          "name": "stdout"
        }
      ]
    },
    {
      "cell_type": "code",
      "metadata": {
        "id": "a-zTXOGOt1s5",
        "outputId": "e3ea55ce-7dd6-45cf-a7a2-1e03391b7b83"
      },
      "source": [
        "df = pd.DataFrame({'one':[10,20,30,40,50,2000], 'two':[1000,0,30,40,50,60]})\n",
        "print(df)\n",
        "print(\"-----------------------------\")\n",
        "print (df.replace({1000:10,2000:60}))"
      ],
      "execution_count": null,
      "outputs": [
        {
          "output_type": "stream",
          "text": [
            "    one   two\n",
            "0    10  1000\n",
            "1    20     0\n",
            "2    30    30\n",
            "3    40    40\n",
            "4    50    50\n",
            "5  2000    60\n",
            "-----------------------------\n",
            "   one  two\n",
            "0   10   10\n",
            "1   20    0\n",
            "2   30   30\n",
            "3   40   40\n",
            "4   50   50\n",
            "5   60   60\n"
          ],
          "name": "stdout"
        }
      ]
    },
    {
      "cell_type": "code",
      "metadata": {
        "id": "xBxS6oAJt1s5",
        "outputId": "5af045fc-3621-4c64-b4a1-dcf66d1f885a"
      },
      "source": [
        "import pandas as pd\n",
        "import numpy as np\n",
        "import matplotlib.pyplot as plt\n",
        "\n",
        "a = np.arange(4)\n",
        "print(a)\n",
        "p = np.linspace(0, 100, 6001)\n",
        "ax = plt.gca()\n",
        "lines = [\n",
        "    ('linear', None),\n",
        "    ('higher', '--'),\n",
        "    ('lower', '--'),\n",
        "    ('nearest', '-.'),\n",
        "    ('midpoint', '-.'),\n",
        "]\n",
        "for interpolation, style in lines:\n",
        "    ax.plot(\n",
        "        p, np.percentile(a, p, interpolation=interpolation),\n",
        "        label=interpolation, linestyle=style)\n",
        "ax.set(\n",
        "    title='Interpolation methods for list: ' + str(a),\n",
        "    xlabel='Percentile',\n",
        "    ylabel='List item returned',\n",
        "    yticks=a)\n",
        "ax.legend()\n",
        "plt.show()"
      ],
      "execution_count": null,
      "outputs": [
        {
          "output_type": "stream",
          "text": [
            "[0 1 2 3]\n"
          ],
          "name": "stdout"
        },
        {
          "output_type": "display_data",
          "data": {
            "text/plain": [
              "<Figure size 640x480 with 1 Axes>"
            ]
          },
          "metadata": {
            "tags": []
          }
        }
      ]
    },
    {
      "cell_type": "code",
      "metadata": {
        "id": "V5XgzU0qt1s6",
        "outputId": "9a0ae5b1-592e-4eba-c03b-ccabb534eacd"
      },
      "source": [
        "data= pd.DataFrame({'One':[4,6,8,10]},columns=['One'])\n",
        "print(data)\n",
        "print(\"-----------------------\")\n",
        "data.describe()"
      ],
      "execution_count": null,
      "outputs": [
        {
          "output_type": "stream",
          "text": [
            "   One\n",
            "0    4\n",
            "1    6\n",
            "2    8\n",
            "3   10\n",
            "-----------------------\n"
          ],
          "name": "stdout"
        },
        {
          "output_type": "execute_result",
          "data": {
            "text/html": [
              "<div>\n",
              "<style scoped>\n",
              "    .dataframe tbody tr th:only-of-type {\n",
              "        vertical-align: middle;\n",
              "    }\n",
              "\n",
              "    .dataframe tbody tr th {\n",
              "        vertical-align: top;\n",
              "    }\n",
              "\n",
              "    .dataframe thead th {\n",
              "        text-align: right;\n",
              "    }\n",
              "</style>\n",
              "<table border=\"1\" class=\"dataframe\">\n",
              "  <thead>\n",
              "    <tr style=\"text-align: right;\">\n",
              "      <th></th>\n",
              "      <th>One</th>\n",
              "    </tr>\n",
              "  </thead>\n",
              "  <tbody>\n",
              "    <tr>\n",
              "      <th>count</th>\n",
              "      <td>4.000000</td>\n",
              "    </tr>\n",
              "    <tr>\n",
              "      <th>mean</th>\n",
              "      <td>7.000000</td>\n",
              "    </tr>\n",
              "    <tr>\n",
              "      <th>std</th>\n",
              "      <td>2.581989</td>\n",
              "    </tr>\n",
              "    <tr>\n",
              "      <th>min</th>\n",
              "      <td>4.000000</td>\n",
              "    </tr>\n",
              "    <tr>\n",
              "      <th>25%</th>\n",
              "      <td>5.500000</td>\n",
              "    </tr>\n",
              "    <tr>\n",
              "      <th>50%</th>\n",
              "      <td>7.000000</td>\n",
              "    </tr>\n",
              "    <tr>\n",
              "      <th>75%</th>\n",
              "      <td>8.500000</td>\n",
              "    </tr>\n",
              "    <tr>\n",
              "      <th>max</th>\n",
              "      <td>10.000000</td>\n",
              "    </tr>\n",
              "  </tbody>\n",
              "</table>\n",
              "</div>"
            ],
            "text/plain": [
              "             One\n",
              "count   4.000000\n",
              "mean    7.000000\n",
              "std     2.581989\n",
              "min     4.000000\n",
              "25%     5.500000\n",
              "50%     7.000000\n",
              "75%     8.500000\n",
              "max    10.000000"
            ]
          },
          "metadata": {
            "tags": []
          },
          "execution_count": 182
        }
      ]
    },
    {
      "cell_type": "markdown",
      "metadata": {
        "id": "oX4xAgXJt1s6"
      },
      "source": [
        "# linear:(i+(j-i)*fraction) this is a normal function for linear interpolation method function named numpy.percentile"
      ]
    },
    {
      "cell_type": "markdown",
      "metadata": {
        "id": "7Qzq7Qhgt1s6"
      },
      "source": [
        "# For 25%"
      ]
    },
    {
      "cell_type": "markdown",
      "metadata": {
        "id": "A98tDv4-t1s6"
      },
      "source": [
        "i=4 and j=6 fraction=3/4\n",
        "\n",
        "\n",
        "calculation:\n",
        "\n",
        "linear:(4+(6-4)*3/4)"
      ]
    },
    {
      "cell_type": "code",
      "metadata": {
        "id": "hXgE28ZZt1s6",
        "outputId": "90307fd3-9f51-4345-b932-1d13818c2c1a"
      },
      "source": [
        "(4+(6-4)*(3/4))"
      ],
      "execution_count": null,
      "outputs": [
        {
          "output_type": "execute_result",
          "data": {
            "text/plain": [
              "5.5"
            ]
          },
          "metadata": {
            "tags": []
          },
          "execution_count": 183
        }
      ]
    },
    {
      "cell_type": "markdown",
      "metadata": {
        "id": "2oZa22bNt1s7"
      },
      "source": [
        "# for 50%"
      ]
    },
    {
      "cell_type": "markdown",
      "metadata": {
        "id": "9vkf1V7Vt1s8"
      },
      "source": [
        "i=6 and j=8 fraction=2/4\n",
        "\n",
        "\n",
        "calculation:\n",
        "\n",
        "linear:(6+(8-6)*(2/4))"
      ]
    },
    {
      "cell_type": "code",
      "metadata": {
        "id": "6C62pFCDt1s8",
        "outputId": "c8c7201a-600c-4b64-b858-ddd8c1b654ea"
      },
      "source": [
        "(6+(8-6)*(2/4))"
      ],
      "execution_count": null,
      "outputs": [
        {
          "output_type": "execute_result",
          "data": {
            "text/plain": [
              "7.0"
            ]
          },
          "metadata": {
            "tags": []
          },
          "execution_count": 184
        }
      ]
    },
    {
      "cell_type": "markdown",
      "metadata": {
        "id": "QgdQEHsRt1s8"
      },
      "source": [
        "# for 75%"
      ]
    },
    {
      "cell_type": "markdown",
      "metadata": {
        "id": "OuqUMPrat1s8"
      },
      "source": [
        "i=8 and j=10 fraction=1/4\n",
        "\n",
        "calculation:\n",
        "\n",
        "linear:(8+(10-8)*(1/4))"
      ]
    },
    {
      "cell_type": "code",
      "metadata": {
        "id": "Sl4GVIXct1s8",
        "outputId": "a5da3026-31c4-4e1d-9f94-d12211e87093"
      },
      "source": [
        "(8+(10-8)*(1/4))"
      ],
      "execution_count": null,
      "outputs": [
        {
          "output_type": "execute_result",
          "data": {
            "text/plain": [
              "8.5"
            ]
          },
          "metadata": {
            "tags": []
          },
          "execution_count": 185
        }
      ]
    },
    {
      "cell_type": "markdown",
      "metadata": {
        "id": "mEcBFrJ1t1s9"
      },
      "source": [
        "# another method"
      ]
    },
    {
      "cell_type": "markdown",
      "metadata": {
        "id": "67GaFwqIt1s9"
      },
      "source": [
        "# min+(max-min)*percentile"
      ]
    },
    {
      "cell_type": "markdown",
      "metadata": {
        "id": "c_kRpqT3t1tA"
      },
      "source": [
        "min=4\n",
        "max=10\n",
        "precentile=25%,50%,75%"
      ]
    },
    {
      "cell_type": "code",
      "metadata": {
        "id": "9Csb5Hlzt1tA",
        "outputId": "f708ed2b-0f7c-4efb-83b2-1dd2942d5ba3"
      },
      "source": [
        "4+(10-4)*(1/4)     #------------------25%"
      ],
      "execution_count": null,
      "outputs": [
        {
          "output_type": "execute_result",
          "data": {
            "text/plain": [
              "5.5"
            ]
          },
          "metadata": {
            "tags": []
          },
          "execution_count": 186
        }
      ]
    },
    {
      "cell_type": "code",
      "metadata": {
        "id": "Pj1a4xStt1tA",
        "outputId": "2d201a95-2b1c-44f3-959b-246f23b45435"
      },
      "source": [
        "4+(10-4)*(2/4)    #------------------50%"
      ],
      "execution_count": null,
      "outputs": [
        {
          "output_type": "execute_result",
          "data": {
            "text/plain": [
              "7.0"
            ]
          },
          "metadata": {
            "tags": []
          },
          "execution_count": 187
        }
      ]
    },
    {
      "cell_type": "code",
      "metadata": {
        "id": "GJfjTOP0t1tB",
        "outputId": "0646ab28-3ff8-4a03-a4d7-efe6ab9b3738"
      },
      "source": [
        "4+(10-4)*(3/4)     #------------------75%"
      ],
      "execution_count": null,
      "outputs": [
        {
          "output_type": "execute_result",
          "data": {
            "text/plain": [
              "8.5"
            ]
          },
          "metadata": {
            "tags": []
          },
          "execution_count": 188
        }
      ]
    },
    {
      "cell_type": "markdown",
      "metadata": {
        "id": "PljAtOqQt1tC"
      },
      "source": [
        "# GroupBy"
      ]
    },
    {
      "cell_type": "markdown",
      "metadata": {
        "id": "UwSZdbi3t1tD"
      },
      "source": [
        "# groupby operation involves\n",
        "\n",
        "\n",
        "## Splitting the Object\n",
        "\n",
        "## Applying a function\n",
        "\n",
        "## Combining the results"
      ]
    },
    {
      "cell_type": "markdown",
      "metadata": {
        "id": "OBmRi_xGt1tD"
      },
      "source": [
        " # operations we perform\n",
        "    \n",
        " ## Aggregation − computing a summary statistic\n",
        "\n",
        " ## Transformation − perform some group-specific operation\n",
        "\n",
        " ## Filtration − discarding the data with some condition"
      ]
    },
    {
      "cell_type": "code",
      "metadata": {
        "id": "VWcXutKbt1tD",
        "outputId": "96c85975-e4d7-4d80-99c6-889080503cf4"
      },
      "source": [
        "import pandas as pd\n",
        "\n",
        "ipl_data = {'Team': ['Riders', 'Riders', 'Devils', 'Devils', 'Kings',\n",
        "   'kings', 'Kings', 'Kings', 'Riders', 'Royals', 'Royals', 'Riders'],\n",
        "   'Rank': [1, 2, 2, 3, 3,4 ,1 ,1,2 , 4,1,2],\n",
        "   'Year': [2014,2015,2014,2015,2014,2015,2016,2017,2016,2014,2015,2017],\n",
        "   'Points':[876,789,863,673,741,812,756,788,694,701,804,690]}\n",
        "df = pd.DataFrame(ipl_data)\n",
        "\n",
        "df"
      ],
      "execution_count": null,
      "outputs": [
        {
          "output_type": "execute_result",
          "data": {
            "text/html": [
              "<div>\n",
              "<style scoped>\n",
              "    .dataframe tbody tr th:only-of-type {\n",
              "        vertical-align: middle;\n",
              "    }\n",
              "\n",
              "    .dataframe tbody tr th {\n",
              "        vertical-align: top;\n",
              "    }\n",
              "\n",
              "    .dataframe thead th {\n",
              "        text-align: right;\n",
              "    }\n",
              "</style>\n",
              "<table border=\"1\" class=\"dataframe\">\n",
              "  <thead>\n",
              "    <tr style=\"text-align: right;\">\n",
              "      <th></th>\n",
              "      <th>Team</th>\n",
              "      <th>Rank</th>\n",
              "      <th>Year</th>\n",
              "      <th>Points</th>\n",
              "    </tr>\n",
              "  </thead>\n",
              "  <tbody>\n",
              "    <tr>\n",
              "      <th>0</th>\n",
              "      <td>Riders</td>\n",
              "      <td>1</td>\n",
              "      <td>2014</td>\n",
              "      <td>876</td>\n",
              "    </tr>\n",
              "    <tr>\n",
              "      <th>1</th>\n",
              "      <td>Riders</td>\n",
              "      <td>2</td>\n",
              "      <td>2015</td>\n",
              "      <td>789</td>\n",
              "    </tr>\n",
              "    <tr>\n",
              "      <th>2</th>\n",
              "      <td>Devils</td>\n",
              "      <td>2</td>\n",
              "      <td>2014</td>\n",
              "      <td>863</td>\n",
              "    </tr>\n",
              "    <tr>\n",
              "      <th>3</th>\n",
              "      <td>Devils</td>\n",
              "      <td>3</td>\n",
              "      <td>2015</td>\n",
              "      <td>673</td>\n",
              "    </tr>\n",
              "    <tr>\n",
              "      <th>4</th>\n",
              "      <td>Kings</td>\n",
              "      <td>3</td>\n",
              "      <td>2014</td>\n",
              "      <td>741</td>\n",
              "    </tr>\n",
              "    <tr>\n",
              "      <th>5</th>\n",
              "      <td>kings</td>\n",
              "      <td>4</td>\n",
              "      <td>2015</td>\n",
              "      <td>812</td>\n",
              "    </tr>\n",
              "    <tr>\n",
              "      <th>6</th>\n",
              "      <td>Kings</td>\n",
              "      <td>1</td>\n",
              "      <td>2016</td>\n",
              "      <td>756</td>\n",
              "    </tr>\n",
              "    <tr>\n",
              "      <th>7</th>\n",
              "      <td>Kings</td>\n",
              "      <td>1</td>\n",
              "      <td>2017</td>\n",
              "      <td>788</td>\n",
              "    </tr>\n",
              "    <tr>\n",
              "      <th>8</th>\n",
              "      <td>Riders</td>\n",
              "      <td>2</td>\n",
              "      <td>2016</td>\n",
              "      <td>694</td>\n",
              "    </tr>\n",
              "    <tr>\n",
              "      <th>9</th>\n",
              "      <td>Royals</td>\n",
              "      <td>4</td>\n",
              "      <td>2014</td>\n",
              "      <td>701</td>\n",
              "    </tr>\n",
              "    <tr>\n",
              "      <th>10</th>\n",
              "      <td>Royals</td>\n",
              "      <td>1</td>\n",
              "      <td>2015</td>\n",
              "      <td>804</td>\n",
              "    </tr>\n",
              "    <tr>\n",
              "      <th>11</th>\n",
              "      <td>Riders</td>\n",
              "      <td>2</td>\n",
              "      <td>2017</td>\n",
              "      <td>690</td>\n",
              "    </tr>\n",
              "  </tbody>\n",
              "</table>\n",
              "</div>"
            ],
            "text/plain": [
              "      Team  Rank  Year  Points\n",
              "0   Riders     1  2014     876\n",
              "1   Riders     2  2015     789\n",
              "2   Devils     2  2014     863\n",
              "3   Devils     3  2015     673\n",
              "4    Kings     3  2014     741\n",
              "5    kings     4  2015     812\n",
              "6    Kings     1  2016     756\n",
              "7    Kings     1  2017     788\n",
              "8   Riders     2  2016     694\n",
              "9   Royals     4  2014     701\n",
              "10  Royals     1  2015     804\n",
              "11  Riders     2  2017     690"
            ]
          },
          "metadata": {
            "tags": []
          },
          "execution_count": 189
        }
      ]
    },
    {
      "cell_type": "markdown",
      "metadata": {
        "id": "fb7BNkH4t1tE"
      },
      "source": [
        "# Split Data into Groups\n",
        "\n",
        "## obj.groupby('key')\n",
        "## obj.groupby(['key1','key2'])\n",
        "## obj.groupby(key,axis=1)"
      ]
    },
    {
      "cell_type": "code",
      "metadata": {
        "id": "h6YZwF-Tt1tE",
        "outputId": "ab0e2d63-077e-4074-d9ad-4bd1005e475b"
      },
      "source": [
        "df.groupby('Team')"
      ],
      "execution_count": null,
      "outputs": [
        {
          "output_type": "execute_result",
          "data": {
            "text/plain": [
              "<pandas.core.groupby.generic.DataFrameGroupBy object at 0x000001CD58B0CD68>"
            ]
          },
          "metadata": {
            "tags": []
          },
          "execution_count": 190
        }
      ]
    },
    {
      "cell_type": "code",
      "metadata": {
        "id": "bdXh7zYGt1tE",
        "outputId": "64b8b428-6254-4274-ad72-63e674408279"
      },
      "source": [
        "df.groupby('Team').groups"
      ],
      "execution_count": null,
      "outputs": [
        {
          "output_type": "execute_result",
          "data": {
            "text/plain": [
              "{'Devils': Int64Index([2, 3], dtype='int64'),\n",
              " 'Kings': Int64Index([4, 6, 7], dtype='int64'),\n",
              " 'Riders': Int64Index([0, 1, 8, 11], dtype='int64'),\n",
              " 'Royals': Int64Index([9, 10], dtype='int64'),\n",
              " 'kings': Int64Index([5], dtype='int64')}"
            ]
          },
          "metadata": {
            "tags": []
          },
          "execution_count": 191
        }
      ]
    },
    {
      "cell_type": "code",
      "metadata": {
        "id": "xNGK4x_ct1tF",
        "outputId": "c9f84ce0-7735-4464-bc8f-3611fa4080f2"
      },
      "source": [
        "df.groupby(['Team','Year']).groups"
      ],
      "execution_count": null,
      "outputs": [
        {
          "output_type": "execute_result",
          "data": {
            "text/plain": [
              "{('Devils', 2014): Int64Index([2], dtype='int64'),\n",
              " ('Devils', 2015): Int64Index([3], dtype='int64'),\n",
              " ('Kings', 2014): Int64Index([4], dtype='int64'),\n",
              " ('Kings', 2016): Int64Index([6], dtype='int64'),\n",
              " ('Kings', 2017): Int64Index([7], dtype='int64'),\n",
              " ('Riders', 2014): Int64Index([0], dtype='int64'),\n",
              " ('Riders', 2015): Int64Index([1], dtype='int64'),\n",
              " ('Riders', 2016): Int64Index([8], dtype='int64'),\n",
              " ('Riders', 2017): Int64Index([11], dtype='int64'),\n",
              " ('Royals', 2014): Int64Index([9], dtype='int64'),\n",
              " ('Royals', 2015): Int64Index([10], dtype='int64'),\n",
              " ('kings', 2015): Int64Index([5], dtype='int64')}"
            ]
          },
          "metadata": {
            "tags": []
          },
          "execution_count": 192
        }
      ]
    },
    {
      "cell_type": "markdown",
      "metadata": {
        "id": "rt3lJyBAt1tF"
      },
      "source": [
        "# Iterating through Groups"
      ]
    },
    {
      "cell_type": "code",
      "metadata": {
        "id": "vlMh1TfUt1tF",
        "outputId": "8538116c-7ad6-4e46-a009-b071ce1b977d"
      },
      "source": [
        "grouped = df.groupby('Year')\n",
        "\n",
        "for name,group in grouped:\n",
        "    print (name)\n",
        "    print (group)"
      ],
      "execution_count": null,
      "outputs": [
        {
          "output_type": "stream",
          "text": [
            "2014\n",
            "     Team  Rank  Year  Points\n",
            "0  Riders     1  2014     876\n",
            "2  Devils     2  2014     863\n",
            "4   Kings     3  2014     741\n",
            "9  Royals     4  2014     701\n",
            "2015\n",
            "      Team  Rank  Year  Points\n",
            "1   Riders     2  2015     789\n",
            "3   Devils     3  2015     673\n",
            "5    kings     4  2015     812\n",
            "10  Royals     1  2015     804\n",
            "2016\n",
            "     Team  Rank  Year  Points\n",
            "6   Kings     1  2016     756\n",
            "8  Riders     2  2016     694\n",
            "2017\n",
            "      Team  Rank  Year  Points\n",
            "7    Kings     1  2017     788\n",
            "11  Riders     2  2017     690\n"
          ],
          "name": "stdout"
        }
      ]
    },
    {
      "cell_type": "markdown",
      "metadata": {
        "id": "WrYdWD8st1tF"
      },
      "source": [
        "# Select a Group"
      ]
    },
    {
      "cell_type": "code",
      "metadata": {
        "id": "Rx9-Q1Ekt1tG",
        "outputId": "b57f1aee-a3aa-4436-cda0-5875766872f6"
      },
      "source": [
        "print (grouped.get_group(2014))"
      ],
      "execution_count": null,
      "outputs": [
        {
          "output_type": "stream",
          "text": [
            "     Team  Rank  Year  Points\n",
            "0  Riders     1  2014     876\n",
            "2  Devils     2  2014     863\n",
            "4   Kings     3  2014     741\n",
            "9  Royals     4  2014     701\n"
          ],
          "name": "stdout"
        }
      ]
    },
    {
      "cell_type": "markdown",
      "metadata": {
        "id": "SMpxKjOEt1tH"
      },
      "source": [
        "# Aggregations"
      ]
    },
    {
      "cell_type": "code",
      "metadata": {
        "id": "IUNJwgN6t1tH",
        "outputId": "5a6e79b4-ed9e-4a6d-c161-47ca1950fd61"
      },
      "source": [
        "print (grouped['Points'].agg(np.mean))"
      ],
      "execution_count": null,
      "outputs": [
        {
          "output_type": "stream",
          "text": [
            "Year\n",
            "2014    795.25\n",
            "2015    769.50\n",
            "2016    725.00\n",
            "2017    739.00\n",
            "Name: Points, dtype: float64\n"
          ],
          "name": "stdout"
        }
      ]
    },
    {
      "cell_type": "code",
      "metadata": {
        "id": "wiQhrHvwt1tH",
        "outputId": "789f3a38-86a4-43f4-c712-b5c768e4d916"
      },
      "source": [
        "grouped = df.groupby('Team')\n",
        "grouped.agg(np.size)"
      ],
      "execution_count": null,
      "outputs": [
        {
          "output_type": "execute_result",
          "data": {
            "text/html": [
              "<div>\n",
              "<style scoped>\n",
              "    .dataframe tbody tr th:only-of-type {\n",
              "        vertical-align: middle;\n",
              "    }\n",
              "\n",
              "    .dataframe tbody tr th {\n",
              "        vertical-align: top;\n",
              "    }\n",
              "\n",
              "    .dataframe thead th {\n",
              "        text-align: right;\n",
              "    }\n",
              "</style>\n",
              "<table border=\"1\" class=\"dataframe\">\n",
              "  <thead>\n",
              "    <tr style=\"text-align: right;\">\n",
              "      <th></th>\n",
              "      <th>Rank</th>\n",
              "      <th>Year</th>\n",
              "      <th>Points</th>\n",
              "    </tr>\n",
              "    <tr>\n",
              "      <th>Team</th>\n",
              "      <th></th>\n",
              "      <th></th>\n",
              "      <th></th>\n",
              "    </tr>\n",
              "  </thead>\n",
              "  <tbody>\n",
              "    <tr>\n",
              "      <th>Devils</th>\n",
              "      <td>2</td>\n",
              "      <td>2</td>\n",
              "      <td>2</td>\n",
              "    </tr>\n",
              "    <tr>\n",
              "      <th>Kings</th>\n",
              "      <td>3</td>\n",
              "      <td>3</td>\n",
              "      <td>3</td>\n",
              "    </tr>\n",
              "    <tr>\n",
              "      <th>Riders</th>\n",
              "      <td>4</td>\n",
              "      <td>4</td>\n",
              "      <td>4</td>\n",
              "    </tr>\n",
              "    <tr>\n",
              "      <th>Royals</th>\n",
              "      <td>2</td>\n",
              "      <td>2</td>\n",
              "      <td>2</td>\n",
              "    </tr>\n",
              "    <tr>\n",
              "      <th>kings</th>\n",
              "      <td>1</td>\n",
              "      <td>1</td>\n",
              "      <td>1</td>\n",
              "    </tr>\n",
              "  </tbody>\n",
              "</table>\n",
              "</div>"
            ],
            "text/plain": [
              "        Rank  Year  Points\n",
              "Team                      \n",
              "Devils     2     2       2\n",
              "Kings      3     3       3\n",
              "Riders     4     4       4\n",
              "Royals     2     2       2\n",
              "kings      1     1       1"
            ]
          },
          "metadata": {
            "tags": []
          },
          "execution_count": 196
        }
      ]
    },
    {
      "cell_type": "code",
      "metadata": {
        "id": "Z6v7q5mSt1tI",
        "outputId": "a72227c9-7b93-49ab-aeec-902354504362"
      },
      "source": [
        "grouped = df.groupby('Team')\n",
        "grouped['Points'].agg([np.sum, np.mean, np.std])"
      ],
      "execution_count": null,
      "outputs": [
        {
          "output_type": "execute_result",
          "data": {
            "text/html": [
              "<div>\n",
              "<style scoped>\n",
              "    .dataframe tbody tr th:only-of-type {\n",
              "        vertical-align: middle;\n",
              "    }\n",
              "\n",
              "    .dataframe tbody tr th {\n",
              "        vertical-align: top;\n",
              "    }\n",
              "\n",
              "    .dataframe thead th {\n",
              "        text-align: right;\n",
              "    }\n",
              "</style>\n",
              "<table border=\"1\" class=\"dataframe\">\n",
              "  <thead>\n",
              "    <tr style=\"text-align: right;\">\n",
              "      <th></th>\n",
              "      <th>sum</th>\n",
              "      <th>mean</th>\n",
              "      <th>std</th>\n",
              "    </tr>\n",
              "    <tr>\n",
              "      <th>Team</th>\n",
              "      <th></th>\n",
              "      <th></th>\n",
              "      <th></th>\n",
              "    </tr>\n",
              "  </thead>\n",
              "  <tbody>\n",
              "    <tr>\n",
              "      <th>Devils</th>\n",
              "      <td>1536</td>\n",
              "      <td>768.000000</td>\n",
              "      <td>134.350288</td>\n",
              "    </tr>\n",
              "    <tr>\n",
              "      <th>Kings</th>\n",
              "      <td>2285</td>\n",
              "      <td>761.666667</td>\n",
              "      <td>24.006943</td>\n",
              "    </tr>\n",
              "    <tr>\n",
              "      <th>Riders</th>\n",
              "      <td>3049</td>\n",
              "      <td>762.250000</td>\n",
              "      <td>88.567771</td>\n",
              "    </tr>\n",
              "    <tr>\n",
              "      <th>Royals</th>\n",
              "      <td>1505</td>\n",
              "      <td>752.500000</td>\n",
              "      <td>72.831998</td>\n",
              "    </tr>\n",
              "    <tr>\n",
              "      <th>kings</th>\n",
              "      <td>812</td>\n",
              "      <td>812.000000</td>\n",
              "      <td>NaN</td>\n",
              "    </tr>\n",
              "  </tbody>\n",
              "</table>\n",
              "</div>"
            ],
            "text/plain": [
              "         sum        mean         std\n",
              "Team                                \n",
              "Devils  1536  768.000000  134.350288\n",
              "Kings   2285  761.666667   24.006943\n",
              "Riders  3049  762.250000   88.567771\n",
              "Royals  1505  752.500000   72.831998\n",
              "kings    812  812.000000         NaN"
            ]
          },
          "metadata": {
            "tags": []
          },
          "execution_count": 197
        }
      ]
    },
    {
      "cell_type": "markdown",
      "metadata": {
        "id": "UwleKd6kt1tI"
      },
      "source": [
        "# Transformations"
      ]
    },
    {
      "cell_type": "code",
      "metadata": {
        "id": "WhqUB_sKt1tI",
        "outputId": "a7acfa1b-3fed-4ff2-c11c-667fd2f09a5c"
      },
      "source": [
        "grouped = df.groupby('Team')\n",
        "score = lambda x: (x - x.mean()) / x.std()*10\n",
        "grouped.transform(score)"
      ],
      "execution_count": null,
      "outputs": [
        {
          "output_type": "execute_result",
          "data": {
            "text/html": [
              "<div>\n",
              "<style scoped>\n",
              "    .dataframe tbody tr th:only-of-type {\n",
              "        vertical-align: middle;\n",
              "    }\n",
              "\n",
              "    .dataframe tbody tr th {\n",
              "        vertical-align: top;\n",
              "    }\n",
              "\n",
              "    .dataframe thead th {\n",
              "        text-align: right;\n",
              "    }\n",
              "</style>\n",
              "<table border=\"1\" class=\"dataframe\">\n",
              "  <thead>\n",
              "    <tr style=\"text-align: right;\">\n",
              "      <th></th>\n",
              "      <th>Rank</th>\n",
              "      <th>Year</th>\n",
              "      <th>Points</th>\n",
              "    </tr>\n",
              "  </thead>\n",
              "  <tbody>\n",
              "    <tr>\n",
              "      <th>0</th>\n",
              "      <td>-15.000000</td>\n",
              "      <td>-11.618950</td>\n",
              "      <td>12.843272</td>\n",
              "    </tr>\n",
              "    <tr>\n",
              "      <th>1</th>\n",
              "      <td>5.000000</td>\n",
              "      <td>-3.872983</td>\n",
              "      <td>3.020286</td>\n",
              "    </tr>\n",
              "    <tr>\n",
              "      <th>2</th>\n",
              "      <td>-7.071068</td>\n",
              "      <td>-7.071068</td>\n",
              "      <td>7.071068</td>\n",
              "    </tr>\n",
              "    <tr>\n",
              "      <th>3</th>\n",
              "      <td>7.071068</td>\n",
              "      <td>7.071068</td>\n",
              "      <td>-7.071068</td>\n",
              "    </tr>\n",
              "    <tr>\n",
              "      <th>4</th>\n",
              "      <td>11.547005</td>\n",
              "      <td>-10.910895</td>\n",
              "      <td>-8.608621</td>\n",
              "    </tr>\n",
              "    <tr>\n",
              "      <th>5</th>\n",
              "      <td>NaN</td>\n",
              "      <td>NaN</td>\n",
              "      <td>NaN</td>\n",
              "    </tr>\n",
              "    <tr>\n",
              "      <th>6</th>\n",
              "      <td>-5.773503</td>\n",
              "      <td>2.182179</td>\n",
              "      <td>-2.360428</td>\n",
              "    </tr>\n",
              "    <tr>\n",
              "      <th>7</th>\n",
              "      <td>-5.773503</td>\n",
              "      <td>8.728716</td>\n",
              "      <td>10.969049</td>\n",
              "    </tr>\n",
              "    <tr>\n",
              "      <th>8</th>\n",
              "      <td>5.000000</td>\n",
              "      <td>3.872983</td>\n",
              "      <td>-7.705963</td>\n",
              "    </tr>\n",
              "    <tr>\n",
              "      <th>9</th>\n",
              "      <td>7.071068</td>\n",
              "      <td>-7.071068</td>\n",
              "      <td>-7.071068</td>\n",
              "    </tr>\n",
              "    <tr>\n",
              "      <th>10</th>\n",
              "      <td>-7.071068</td>\n",
              "      <td>7.071068</td>\n",
              "      <td>7.071068</td>\n",
              "    </tr>\n",
              "    <tr>\n",
              "      <th>11</th>\n",
              "      <td>5.000000</td>\n",
              "      <td>11.618950</td>\n",
              "      <td>-8.157595</td>\n",
              "    </tr>\n",
              "  </tbody>\n",
              "</table>\n",
              "</div>"
            ],
            "text/plain": [
              "         Rank       Year     Points\n",
              "0  -15.000000 -11.618950  12.843272\n",
              "1    5.000000  -3.872983   3.020286\n",
              "2   -7.071068  -7.071068   7.071068\n",
              "3    7.071068   7.071068  -7.071068\n",
              "4   11.547005 -10.910895  -8.608621\n",
              "5         NaN        NaN        NaN\n",
              "6   -5.773503   2.182179  -2.360428\n",
              "7   -5.773503   8.728716  10.969049\n",
              "8    5.000000   3.872983  -7.705963\n",
              "9    7.071068  -7.071068  -7.071068\n",
              "10  -7.071068   7.071068   7.071068\n",
              "11   5.000000  11.618950  -8.157595"
            ]
          },
          "metadata": {
            "tags": []
          },
          "execution_count": 198
        }
      ]
    },
    {
      "cell_type": "markdown",
      "metadata": {
        "id": "plMzurMXt1tI"
      },
      "source": [
        "# Filtration"
      ]
    },
    {
      "cell_type": "code",
      "metadata": {
        "id": "2S73mChjt1tJ",
        "outputId": "1d734e3d-8472-40cf-ce7b-e760c9345e2a"
      },
      "source": [
        "df.groupby('Team').filter(lambda x: len(x) >= 3)"
      ],
      "execution_count": null,
      "outputs": [
        {
          "output_type": "execute_result",
          "data": {
            "text/html": [
              "<div>\n",
              "<style scoped>\n",
              "    .dataframe tbody tr th:only-of-type {\n",
              "        vertical-align: middle;\n",
              "    }\n",
              "\n",
              "    .dataframe tbody tr th {\n",
              "        vertical-align: top;\n",
              "    }\n",
              "\n",
              "    .dataframe thead th {\n",
              "        text-align: right;\n",
              "    }\n",
              "</style>\n",
              "<table border=\"1\" class=\"dataframe\">\n",
              "  <thead>\n",
              "    <tr style=\"text-align: right;\">\n",
              "      <th></th>\n",
              "      <th>Team</th>\n",
              "      <th>Rank</th>\n",
              "      <th>Year</th>\n",
              "      <th>Points</th>\n",
              "    </tr>\n",
              "  </thead>\n",
              "  <tbody>\n",
              "    <tr>\n",
              "      <th>0</th>\n",
              "      <td>Riders</td>\n",
              "      <td>1</td>\n",
              "      <td>2014</td>\n",
              "      <td>876</td>\n",
              "    </tr>\n",
              "    <tr>\n",
              "      <th>1</th>\n",
              "      <td>Riders</td>\n",
              "      <td>2</td>\n",
              "      <td>2015</td>\n",
              "      <td>789</td>\n",
              "    </tr>\n",
              "    <tr>\n",
              "      <th>4</th>\n",
              "      <td>Kings</td>\n",
              "      <td>3</td>\n",
              "      <td>2014</td>\n",
              "      <td>741</td>\n",
              "    </tr>\n",
              "    <tr>\n",
              "      <th>6</th>\n",
              "      <td>Kings</td>\n",
              "      <td>1</td>\n",
              "      <td>2016</td>\n",
              "      <td>756</td>\n",
              "    </tr>\n",
              "    <tr>\n",
              "      <th>7</th>\n",
              "      <td>Kings</td>\n",
              "      <td>1</td>\n",
              "      <td>2017</td>\n",
              "      <td>788</td>\n",
              "    </tr>\n",
              "    <tr>\n",
              "      <th>8</th>\n",
              "      <td>Riders</td>\n",
              "      <td>2</td>\n",
              "      <td>2016</td>\n",
              "      <td>694</td>\n",
              "    </tr>\n",
              "    <tr>\n",
              "      <th>11</th>\n",
              "      <td>Riders</td>\n",
              "      <td>2</td>\n",
              "      <td>2017</td>\n",
              "      <td>690</td>\n",
              "    </tr>\n",
              "  </tbody>\n",
              "</table>\n",
              "</div>"
            ],
            "text/plain": [
              "      Team  Rank  Year  Points\n",
              "0   Riders     1  2014     876\n",
              "1   Riders     2  2015     789\n",
              "4    Kings     3  2014     741\n",
              "6    Kings     1  2016     756\n",
              "7    Kings     1  2017     788\n",
              "8   Riders     2  2016     694\n",
              "11  Riders     2  2017     690"
            ]
          },
          "metadata": {
            "tags": []
          },
          "execution_count": 199
        }
      ]
    },
    {
      "cell_type": "markdown",
      "metadata": {
        "id": "yjAJcWUNt1tK"
      },
      "source": [
        "# Merging/Joining"
      ]
    },
    {
      "cell_type": "markdown",
      "metadata": {
        "id": "WRO8k1TZt1tK"
      },
      "source": [
        "#### left − A DataFrame object.\n",
        "\n",
        "#### right − Another DataFrame object.\n",
        "\n",
        "#### on − Columns (names) to join on. Must be found in both the left and right DataFrame objects.\n",
        "\n",
        "#### left_on − Columns from the left DataFrame to use as keys. Can either be column names or arrays with length equal to the length of the DataFrame.\n",
        "\n",
        "#### right_on − Columns from the right DataFrame to use as keys. Can either be column names or arrays with length equal to the length of the DataFrame.\n",
        "\n",
        "#### left_index − If True, use the index (row labels) from the left DataFrame as its join key(s). In case of a DataFrame with a MultiIndex (hierarchical), the number of levels must match the number of join keys from the right DataFrame.\n",
        "\n",
        "#### right_index − Same usage as left_index for the right DataFrame.\n",
        "\n",
        "#### how − One of 'left', 'right', 'outer', 'inner'. Defaults to inner. Each method has been described below.\n",
        "\n",
        "#### sort − Sort the result DataFrame by the join keys in lexicographical order. Defaults to True, setting to False will improve the performance substantially in many cases."
      ]
    },
    {
      "cell_type": "code",
      "metadata": {
        "id": "rrZq8MSut1tK",
        "outputId": "377e6d6d-84f5-4fbb-f29f-a1fb7ec5d1ea"
      },
      "source": [
        "import pandas as pd\n",
        "left = pd.DataFrame({\n",
        "   'id':[1,2,3,4,5],\n",
        "   'Name': ['Alex', 'Amy', 'Allen', 'Alice', 'Ayoung'],\n",
        "   'subject_id':['sub1','sub2','sub4','sub6','sub5']})\n",
        "right = pd.DataFrame(\n",
        "   {'id':[1,2,3,4,5],\n",
        "   'Name': ['Billy', 'Brian', 'Bran', 'Bryce', 'Betty'],\n",
        "   'subject_id':['sub2','sub4','sub3','sub6','sub5']})\n",
        "print (left)\n",
        "print (right)"
      ],
      "execution_count": null,
      "outputs": [
        {
          "output_type": "stream",
          "text": [
            "   id    Name subject_id\n",
            "0   1    Alex       sub1\n",
            "1   2     Amy       sub2\n",
            "2   3   Allen       sub4\n",
            "3   4   Alice       sub6\n",
            "4   5  Ayoung       sub5\n",
            "   id   Name subject_id\n",
            "0   1  Billy       sub2\n",
            "1   2  Brian       sub4\n",
            "2   3   Bran       sub3\n",
            "3   4  Bryce       sub6\n",
            "4   5  Betty       sub5\n"
          ],
          "name": "stdout"
        }
      ]
    },
    {
      "cell_type": "code",
      "metadata": {
        "id": "yYY-Pcxqt1tK",
        "outputId": "a2d2bb86-550c-4eb5-aa0d-46dd6ffccd10"
      },
      "source": [
        "pd.merge(left,right,on='id')"
      ],
      "execution_count": null,
      "outputs": [
        {
          "output_type": "execute_result",
          "data": {
            "text/html": [
              "<div>\n",
              "<style scoped>\n",
              "    .dataframe tbody tr th:only-of-type {\n",
              "        vertical-align: middle;\n",
              "    }\n",
              "\n",
              "    .dataframe tbody tr th {\n",
              "        vertical-align: top;\n",
              "    }\n",
              "\n",
              "    .dataframe thead th {\n",
              "        text-align: right;\n",
              "    }\n",
              "</style>\n",
              "<table border=\"1\" class=\"dataframe\">\n",
              "  <thead>\n",
              "    <tr style=\"text-align: right;\">\n",
              "      <th></th>\n",
              "      <th>id</th>\n",
              "      <th>Name_x</th>\n",
              "      <th>subject_id_x</th>\n",
              "      <th>Name_y</th>\n",
              "      <th>subject_id_y</th>\n",
              "    </tr>\n",
              "  </thead>\n",
              "  <tbody>\n",
              "    <tr>\n",
              "      <th>0</th>\n",
              "      <td>1</td>\n",
              "      <td>Alex</td>\n",
              "      <td>sub1</td>\n",
              "      <td>Billy</td>\n",
              "      <td>sub2</td>\n",
              "    </tr>\n",
              "    <tr>\n",
              "      <th>1</th>\n",
              "      <td>2</td>\n",
              "      <td>Amy</td>\n",
              "      <td>sub2</td>\n",
              "      <td>Brian</td>\n",
              "      <td>sub4</td>\n",
              "    </tr>\n",
              "    <tr>\n",
              "      <th>2</th>\n",
              "      <td>3</td>\n",
              "      <td>Allen</td>\n",
              "      <td>sub4</td>\n",
              "      <td>Bran</td>\n",
              "      <td>sub3</td>\n",
              "    </tr>\n",
              "    <tr>\n",
              "      <th>3</th>\n",
              "      <td>4</td>\n",
              "      <td>Alice</td>\n",
              "      <td>sub6</td>\n",
              "      <td>Bryce</td>\n",
              "      <td>sub6</td>\n",
              "    </tr>\n",
              "    <tr>\n",
              "      <th>4</th>\n",
              "      <td>5</td>\n",
              "      <td>Ayoung</td>\n",
              "      <td>sub5</td>\n",
              "      <td>Betty</td>\n",
              "      <td>sub5</td>\n",
              "    </tr>\n",
              "  </tbody>\n",
              "</table>\n",
              "</div>"
            ],
            "text/plain": [
              "   id  Name_x subject_id_x Name_y subject_id_y\n",
              "0   1    Alex         sub1  Billy         sub2\n",
              "1   2     Amy         sub2  Brian         sub4\n",
              "2   3   Allen         sub4   Bran         sub3\n",
              "3   4   Alice         sub6  Bryce         sub6\n",
              "4   5  Ayoung         sub5  Betty         sub5"
            ]
          },
          "metadata": {
            "tags": []
          },
          "execution_count": 201
        }
      ]
    },
    {
      "cell_type": "code",
      "metadata": {
        "id": "SWx83q5Pt1tL",
        "outputId": "db525997-ed97-4adc-de74-4667ae54052e"
      },
      "source": [
        " pd.merge(left,right,on=['id','subject_id'])"
      ],
      "execution_count": null,
      "outputs": [
        {
          "output_type": "execute_result",
          "data": {
            "text/html": [
              "<div>\n",
              "<style scoped>\n",
              "    .dataframe tbody tr th:only-of-type {\n",
              "        vertical-align: middle;\n",
              "    }\n",
              "\n",
              "    .dataframe tbody tr th {\n",
              "        vertical-align: top;\n",
              "    }\n",
              "\n",
              "    .dataframe thead th {\n",
              "        text-align: right;\n",
              "    }\n",
              "</style>\n",
              "<table border=\"1\" class=\"dataframe\">\n",
              "  <thead>\n",
              "    <tr style=\"text-align: right;\">\n",
              "      <th></th>\n",
              "      <th>id</th>\n",
              "      <th>Name_x</th>\n",
              "      <th>subject_id</th>\n",
              "      <th>Name_y</th>\n",
              "    </tr>\n",
              "  </thead>\n",
              "  <tbody>\n",
              "    <tr>\n",
              "      <th>0</th>\n",
              "      <td>4</td>\n",
              "      <td>Alice</td>\n",
              "      <td>sub6</td>\n",
              "      <td>Bryce</td>\n",
              "    </tr>\n",
              "    <tr>\n",
              "      <th>1</th>\n",
              "      <td>5</td>\n",
              "      <td>Ayoung</td>\n",
              "      <td>sub5</td>\n",
              "      <td>Betty</td>\n",
              "    </tr>\n",
              "  </tbody>\n",
              "</table>\n",
              "</div>"
            ],
            "text/plain": [
              "   id  Name_x subject_id Name_y\n",
              "0   4   Alice       sub6  Bryce\n",
              "1   5  Ayoung       sub5  Betty"
            ]
          },
          "metadata": {
            "tags": []
          },
          "execution_count": 202
        }
      ]
    },
    {
      "cell_type": "markdown",
      "metadata": {
        "id": "nd5oj600t1tL"
      },
      "source": [
        "# Left Join"
      ]
    },
    {
      "cell_type": "code",
      "metadata": {
        "id": "RIG-_WRbt1tL",
        "outputId": "01b0b2c5-3eff-414b-af9d-b382f4c4ad93"
      },
      "source": [
        "pd.merge(left, right, on='subject_id', how='left')"
      ],
      "execution_count": null,
      "outputs": [
        {
          "output_type": "execute_result",
          "data": {
            "text/html": [
              "<div>\n",
              "<style scoped>\n",
              "    .dataframe tbody tr th:only-of-type {\n",
              "        vertical-align: middle;\n",
              "    }\n",
              "\n",
              "    .dataframe tbody tr th {\n",
              "        vertical-align: top;\n",
              "    }\n",
              "\n",
              "    .dataframe thead th {\n",
              "        text-align: right;\n",
              "    }\n",
              "</style>\n",
              "<table border=\"1\" class=\"dataframe\">\n",
              "  <thead>\n",
              "    <tr style=\"text-align: right;\">\n",
              "      <th></th>\n",
              "      <th>id_x</th>\n",
              "      <th>Name_x</th>\n",
              "      <th>subject_id</th>\n",
              "      <th>id_y</th>\n",
              "      <th>Name_y</th>\n",
              "    </tr>\n",
              "  </thead>\n",
              "  <tbody>\n",
              "    <tr>\n",
              "      <th>0</th>\n",
              "      <td>1</td>\n",
              "      <td>Alex</td>\n",
              "      <td>sub1</td>\n",
              "      <td>NaN</td>\n",
              "      <td>NaN</td>\n",
              "    </tr>\n",
              "    <tr>\n",
              "      <th>1</th>\n",
              "      <td>2</td>\n",
              "      <td>Amy</td>\n",
              "      <td>sub2</td>\n",
              "      <td>1.0</td>\n",
              "      <td>Billy</td>\n",
              "    </tr>\n",
              "    <tr>\n",
              "      <th>2</th>\n",
              "      <td>3</td>\n",
              "      <td>Allen</td>\n",
              "      <td>sub4</td>\n",
              "      <td>2.0</td>\n",
              "      <td>Brian</td>\n",
              "    </tr>\n",
              "    <tr>\n",
              "      <th>3</th>\n",
              "      <td>4</td>\n",
              "      <td>Alice</td>\n",
              "      <td>sub6</td>\n",
              "      <td>4.0</td>\n",
              "      <td>Bryce</td>\n",
              "    </tr>\n",
              "    <tr>\n",
              "      <th>4</th>\n",
              "      <td>5</td>\n",
              "      <td>Ayoung</td>\n",
              "      <td>sub5</td>\n",
              "      <td>5.0</td>\n",
              "      <td>Betty</td>\n",
              "    </tr>\n",
              "  </tbody>\n",
              "</table>\n",
              "</div>"
            ],
            "text/plain": [
              "   id_x  Name_x subject_id  id_y Name_y\n",
              "0     1    Alex       sub1   NaN    NaN\n",
              "1     2     Amy       sub2   1.0  Billy\n",
              "2     3   Allen       sub4   2.0  Brian\n",
              "3     4   Alice       sub6   4.0  Bryce\n",
              "4     5  Ayoung       sub5   5.0  Betty"
            ]
          },
          "metadata": {
            "tags": []
          },
          "execution_count": 203
        }
      ]
    },
    {
      "cell_type": "markdown",
      "metadata": {
        "id": "NO2nnOR5t1tL"
      },
      "source": [
        "# Right Join"
      ]
    },
    {
      "cell_type": "code",
      "metadata": {
        "id": "hio-tE9vt1tL",
        "outputId": "bbe1111a-a1eb-470d-aa27-184621aadfeb"
      },
      "source": [
        "pd.merge(left, right, on='subject_id', how='right')"
      ],
      "execution_count": null,
      "outputs": [
        {
          "output_type": "execute_result",
          "data": {
            "text/html": [
              "<div>\n",
              "<style scoped>\n",
              "    .dataframe tbody tr th:only-of-type {\n",
              "        vertical-align: middle;\n",
              "    }\n",
              "\n",
              "    .dataframe tbody tr th {\n",
              "        vertical-align: top;\n",
              "    }\n",
              "\n",
              "    .dataframe thead th {\n",
              "        text-align: right;\n",
              "    }\n",
              "</style>\n",
              "<table border=\"1\" class=\"dataframe\">\n",
              "  <thead>\n",
              "    <tr style=\"text-align: right;\">\n",
              "      <th></th>\n",
              "      <th>id_x</th>\n",
              "      <th>Name_x</th>\n",
              "      <th>subject_id</th>\n",
              "      <th>id_y</th>\n",
              "      <th>Name_y</th>\n",
              "    </tr>\n",
              "  </thead>\n",
              "  <tbody>\n",
              "    <tr>\n",
              "      <th>0</th>\n",
              "      <td>2.0</td>\n",
              "      <td>Amy</td>\n",
              "      <td>sub2</td>\n",
              "      <td>1</td>\n",
              "      <td>Billy</td>\n",
              "    </tr>\n",
              "    <tr>\n",
              "      <th>1</th>\n",
              "      <td>3.0</td>\n",
              "      <td>Allen</td>\n",
              "      <td>sub4</td>\n",
              "      <td>2</td>\n",
              "      <td>Brian</td>\n",
              "    </tr>\n",
              "    <tr>\n",
              "      <th>2</th>\n",
              "      <td>4.0</td>\n",
              "      <td>Alice</td>\n",
              "      <td>sub6</td>\n",
              "      <td>4</td>\n",
              "      <td>Bryce</td>\n",
              "    </tr>\n",
              "    <tr>\n",
              "      <th>3</th>\n",
              "      <td>5.0</td>\n",
              "      <td>Ayoung</td>\n",
              "      <td>sub5</td>\n",
              "      <td>5</td>\n",
              "      <td>Betty</td>\n",
              "    </tr>\n",
              "    <tr>\n",
              "      <th>4</th>\n",
              "      <td>NaN</td>\n",
              "      <td>NaN</td>\n",
              "      <td>sub3</td>\n",
              "      <td>3</td>\n",
              "      <td>Bran</td>\n",
              "    </tr>\n",
              "  </tbody>\n",
              "</table>\n",
              "</div>"
            ],
            "text/plain": [
              "   id_x  Name_x subject_id  id_y Name_y\n",
              "0   2.0     Amy       sub2     1  Billy\n",
              "1   3.0   Allen       sub4     2  Brian\n",
              "2   4.0   Alice       sub6     4  Bryce\n",
              "3   5.0  Ayoung       sub5     5  Betty\n",
              "4   NaN     NaN       sub3     3   Bran"
            ]
          },
          "metadata": {
            "tags": []
          },
          "execution_count": 204
        }
      ]
    },
    {
      "cell_type": "markdown",
      "metadata": {
        "id": "j6R24Rbht1tM"
      },
      "source": [
        "# Outer Join"
      ]
    },
    {
      "cell_type": "code",
      "metadata": {
        "id": "RCCFAN-Ht1tM",
        "outputId": "226d269b-c08e-4a52-8df6-ac4dfa710d17"
      },
      "source": [
        "pd.merge(left, right, how='outer', on='subject_id')"
      ],
      "execution_count": null,
      "outputs": [
        {
          "output_type": "execute_result",
          "data": {
            "text/html": [
              "<div>\n",
              "<style scoped>\n",
              "    .dataframe tbody tr th:only-of-type {\n",
              "        vertical-align: middle;\n",
              "    }\n",
              "\n",
              "    .dataframe tbody tr th {\n",
              "        vertical-align: top;\n",
              "    }\n",
              "\n",
              "    .dataframe thead th {\n",
              "        text-align: right;\n",
              "    }\n",
              "</style>\n",
              "<table border=\"1\" class=\"dataframe\">\n",
              "  <thead>\n",
              "    <tr style=\"text-align: right;\">\n",
              "      <th></th>\n",
              "      <th>id_x</th>\n",
              "      <th>Name_x</th>\n",
              "      <th>subject_id</th>\n",
              "      <th>id_y</th>\n",
              "      <th>Name_y</th>\n",
              "    </tr>\n",
              "  </thead>\n",
              "  <tbody>\n",
              "    <tr>\n",
              "      <th>0</th>\n",
              "      <td>1.0</td>\n",
              "      <td>Alex</td>\n",
              "      <td>sub1</td>\n",
              "      <td>NaN</td>\n",
              "      <td>NaN</td>\n",
              "    </tr>\n",
              "    <tr>\n",
              "      <th>1</th>\n",
              "      <td>2.0</td>\n",
              "      <td>Amy</td>\n",
              "      <td>sub2</td>\n",
              "      <td>1.0</td>\n",
              "      <td>Billy</td>\n",
              "    </tr>\n",
              "    <tr>\n",
              "      <th>2</th>\n",
              "      <td>3.0</td>\n",
              "      <td>Allen</td>\n",
              "      <td>sub4</td>\n",
              "      <td>2.0</td>\n",
              "      <td>Brian</td>\n",
              "    </tr>\n",
              "    <tr>\n",
              "      <th>3</th>\n",
              "      <td>4.0</td>\n",
              "      <td>Alice</td>\n",
              "      <td>sub6</td>\n",
              "      <td>4.0</td>\n",
              "      <td>Bryce</td>\n",
              "    </tr>\n",
              "    <tr>\n",
              "      <th>4</th>\n",
              "      <td>5.0</td>\n",
              "      <td>Ayoung</td>\n",
              "      <td>sub5</td>\n",
              "      <td>5.0</td>\n",
              "      <td>Betty</td>\n",
              "    </tr>\n",
              "    <tr>\n",
              "      <th>5</th>\n",
              "      <td>NaN</td>\n",
              "      <td>NaN</td>\n",
              "      <td>sub3</td>\n",
              "      <td>3.0</td>\n",
              "      <td>Bran</td>\n",
              "    </tr>\n",
              "  </tbody>\n",
              "</table>\n",
              "</div>"
            ],
            "text/plain": [
              "   id_x  Name_x subject_id  id_y Name_y\n",
              "0   1.0    Alex       sub1   NaN    NaN\n",
              "1   2.0     Amy       sub2   1.0  Billy\n",
              "2   3.0   Allen       sub4   2.0  Brian\n",
              "3   4.0   Alice       sub6   4.0  Bryce\n",
              "4   5.0  Ayoung       sub5   5.0  Betty\n",
              "5   NaN     NaN       sub3   3.0   Bran"
            ]
          },
          "metadata": {
            "tags": []
          },
          "execution_count": 205
        }
      ]
    },
    {
      "cell_type": "markdown",
      "metadata": {
        "id": "TQ4RmXiXt1tM"
      },
      "source": [
        "# Inner Join"
      ]
    },
    {
      "cell_type": "code",
      "metadata": {
        "id": "8UscHSEgt1tN",
        "outputId": "f16f1bbc-ce8c-4fdc-929a-64f8d0d6f7d7"
      },
      "source": [
        "pd.merge(left, right, on='subject_id', how='inner')"
      ],
      "execution_count": null,
      "outputs": [
        {
          "output_type": "execute_result",
          "data": {
            "text/html": [
              "<div>\n",
              "<style scoped>\n",
              "    .dataframe tbody tr th:only-of-type {\n",
              "        vertical-align: middle;\n",
              "    }\n",
              "\n",
              "    .dataframe tbody tr th {\n",
              "        vertical-align: top;\n",
              "    }\n",
              "\n",
              "    .dataframe thead th {\n",
              "        text-align: right;\n",
              "    }\n",
              "</style>\n",
              "<table border=\"1\" class=\"dataframe\">\n",
              "  <thead>\n",
              "    <tr style=\"text-align: right;\">\n",
              "      <th></th>\n",
              "      <th>id_x</th>\n",
              "      <th>Name_x</th>\n",
              "      <th>subject_id</th>\n",
              "      <th>id_y</th>\n",
              "      <th>Name_y</th>\n",
              "    </tr>\n",
              "  </thead>\n",
              "  <tbody>\n",
              "    <tr>\n",
              "      <th>0</th>\n",
              "      <td>2</td>\n",
              "      <td>Amy</td>\n",
              "      <td>sub2</td>\n",
              "      <td>1</td>\n",
              "      <td>Billy</td>\n",
              "    </tr>\n",
              "    <tr>\n",
              "      <th>1</th>\n",
              "      <td>3</td>\n",
              "      <td>Allen</td>\n",
              "      <td>sub4</td>\n",
              "      <td>2</td>\n",
              "      <td>Brian</td>\n",
              "    </tr>\n",
              "    <tr>\n",
              "      <th>2</th>\n",
              "      <td>4</td>\n",
              "      <td>Alice</td>\n",
              "      <td>sub6</td>\n",
              "      <td>4</td>\n",
              "      <td>Bryce</td>\n",
              "    </tr>\n",
              "    <tr>\n",
              "      <th>3</th>\n",
              "      <td>5</td>\n",
              "      <td>Ayoung</td>\n",
              "      <td>sub5</td>\n",
              "      <td>5</td>\n",
              "      <td>Betty</td>\n",
              "    </tr>\n",
              "  </tbody>\n",
              "</table>\n",
              "</div>"
            ],
            "text/plain": [
              "   id_x  Name_x subject_id  id_y Name_y\n",
              "0     2     Amy       sub2     1  Billy\n",
              "1     3   Allen       sub4     2  Brian\n",
              "2     4   Alice       sub6     4  Bryce\n",
              "3     5  Ayoung       sub5     5  Betty"
            ]
          },
          "metadata": {
            "tags": []
          },
          "execution_count": 206
        }
      ]
    },
    {
      "cell_type": "markdown",
      "metadata": {
        "id": "8rtKB6xpt1tN"
      },
      "source": [
        "# Concatenation"
      ]
    },
    {
      "cell_type": "markdown",
      "metadata": {
        "id": "hp53rnXBt1tN"
      },
      "source": [
        "## objs − This is a sequence or mapping of Series, DataFrame, or Panel objects.\n",
        "\n",
        "## axis − {0, 1, ...}, default 0. This is the axis to concatenate along.\n",
        "\n",
        "## join − {‘inner’, ‘outer’}, default ‘outer’. How to handle indexes on other axis(es). Outer for union and inner for intersection.\n",
        "\n",
        "## ignore_index − boolean, default False. If True, do not use the index values on the concatenation axis. The resulting axis will be labeled 0, ..., n - 1.\n",
        "\n",
        "## join_axes − This is the list of Index objects. Specific indexes to use for the other (n-1) axes instead of performing inner/outer set logic."
      ]
    },
    {
      "cell_type": "code",
      "metadata": {
        "id": "Xkzf57Kzt1tN",
        "outputId": "65f610a5-a4fa-4418-a9fc-3484d752e36a"
      },
      "source": [
        "import pandas as pd\n",
        "\n",
        "one = pd.DataFrame({\n",
        "   'Name': ['Alex', 'Amy', 'Allen', 'Alice', 'Ayoung'],\n",
        "   'subject_id':['sub1','sub2','sub4','sub6','sub5'],\n",
        "   'Marks_scored':[98,90,87,69,78]},\n",
        "   index=[1,2,3,4,5])\n",
        "\n",
        "two = pd.DataFrame({\n",
        "   'Name': ['Billy', 'Brian', 'Bran', 'Bryce', 'Betty'],\n",
        "   'subject_id':['sub2','sub4','sub3','sub6','sub5'],\n",
        "   'Marks_scored':[89,80,79,97,88]},\n",
        "   index=[1,2,3,4,5])\n",
        "pd.concat([one,two])"
      ],
      "execution_count": null,
      "outputs": [
        {
          "output_type": "execute_result",
          "data": {
            "text/html": [
              "<div>\n",
              "<style scoped>\n",
              "    .dataframe tbody tr th:only-of-type {\n",
              "        vertical-align: middle;\n",
              "    }\n",
              "\n",
              "    .dataframe tbody tr th {\n",
              "        vertical-align: top;\n",
              "    }\n",
              "\n",
              "    .dataframe thead th {\n",
              "        text-align: right;\n",
              "    }\n",
              "</style>\n",
              "<table border=\"1\" class=\"dataframe\">\n",
              "  <thead>\n",
              "    <tr style=\"text-align: right;\">\n",
              "      <th></th>\n",
              "      <th>Name</th>\n",
              "      <th>subject_id</th>\n",
              "      <th>Marks_scored</th>\n",
              "    </tr>\n",
              "  </thead>\n",
              "  <tbody>\n",
              "    <tr>\n",
              "      <th>1</th>\n",
              "      <td>Alex</td>\n",
              "      <td>sub1</td>\n",
              "      <td>98</td>\n",
              "    </tr>\n",
              "    <tr>\n",
              "      <th>2</th>\n",
              "      <td>Amy</td>\n",
              "      <td>sub2</td>\n",
              "      <td>90</td>\n",
              "    </tr>\n",
              "    <tr>\n",
              "      <th>3</th>\n",
              "      <td>Allen</td>\n",
              "      <td>sub4</td>\n",
              "      <td>87</td>\n",
              "    </tr>\n",
              "    <tr>\n",
              "      <th>4</th>\n",
              "      <td>Alice</td>\n",
              "      <td>sub6</td>\n",
              "      <td>69</td>\n",
              "    </tr>\n",
              "    <tr>\n",
              "      <th>5</th>\n",
              "      <td>Ayoung</td>\n",
              "      <td>sub5</td>\n",
              "      <td>78</td>\n",
              "    </tr>\n",
              "    <tr>\n",
              "      <th>1</th>\n",
              "      <td>Billy</td>\n",
              "      <td>sub2</td>\n",
              "      <td>89</td>\n",
              "    </tr>\n",
              "    <tr>\n",
              "      <th>2</th>\n",
              "      <td>Brian</td>\n",
              "      <td>sub4</td>\n",
              "      <td>80</td>\n",
              "    </tr>\n",
              "    <tr>\n",
              "      <th>3</th>\n",
              "      <td>Bran</td>\n",
              "      <td>sub3</td>\n",
              "      <td>79</td>\n",
              "    </tr>\n",
              "    <tr>\n",
              "      <th>4</th>\n",
              "      <td>Bryce</td>\n",
              "      <td>sub6</td>\n",
              "      <td>97</td>\n",
              "    </tr>\n",
              "    <tr>\n",
              "      <th>5</th>\n",
              "      <td>Betty</td>\n",
              "      <td>sub5</td>\n",
              "      <td>88</td>\n",
              "    </tr>\n",
              "  </tbody>\n",
              "</table>\n",
              "</div>"
            ],
            "text/plain": [
              "     Name subject_id  Marks_scored\n",
              "1    Alex       sub1            98\n",
              "2     Amy       sub2            90\n",
              "3   Allen       sub4            87\n",
              "4   Alice       sub6            69\n",
              "5  Ayoung       sub5            78\n",
              "1   Billy       sub2            89\n",
              "2   Brian       sub4            80\n",
              "3    Bran       sub3            79\n",
              "4   Bryce       sub6            97\n",
              "5   Betty       sub5            88"
            ]
          },
          "metadata": {
            "tags": []
          },
          "execution_count": 2
        }
      ]
    },
    {
      "cell_type": "code",
      "metadata": {
        "id": "2iFMy-Ugt1tN",
        "outputId": "2e45c1c1-e51f-4ab4-d060-e1ecc0cf2608"
      },
      "source": [
        "pd.concat([one,two],keys=['x','y'])"
      ],
      "execution_count": null,
      "outputs": [
        {
          "output_type": "execute_result",
          "data": {
            "text/html": [
              "<div>\n",
              "<style scoped>\n",
              "    .dataframe tbody tr th:only-of-type {\n",
              "        vertical-align: middle;\n",
              "    }\n",
              "\n",
              "    .dataframe tbody tr th {\n",
              "        vertical-align: top;\n",
              "    }\n",
              "\n",
              "    .dataframe thead th {\n",
              "        text-align: right;\n",
              "    }\n",
              "</style>\n",
              "<table border=\"1\" class=\"dataframe\">\n",
              "  <thead>\n",
              "    <tr style=\"text-align: right;\">\n",
              "      <th></th>\n",
              "      <th></th>\n",
              "      <th>Name</th>\n",
              "      <th>subject_id</th>\n",
              "      <th>Marks_scored</th>\n",
              "    </tr>\n",
              "  </thead>\n",
              "  <tbody>\n",
              "    <tr>\n",
              "      <th rowspan=\"5\" valign=\"top\">x</th>\n",
              "      <th>1</th>\n",
              "      <td>Alex</td>\n",
              "      <td>sub1</td>\n",
              "      <td>98</td>\n",
              "    </tr>\n",
              "    <tr>\n",
              "      <th>2</th>\n",
              "      <td>Amy</td>\n",
              "      <td>sub2</td>\n",
              "      <td>90</td>\n",
              "    </tr>\n",
              "    <tr>\n",
              "      <th>3</th>\n",
              "      <td>Allen</td>\n",
              "      <td>sub4</td>\n",
              "      <td>87</td>\n",
              "    </tr>\n",
              "    <tr>\n",
              "      <th>4</th>\n",
              "      <td>Alice</td>\n",
              "      <td>sub6</td>\n",
              "      <td>69</td>\n",
              "    </tr>\n",
              "    <tr>\n",
              "      <th>5</th>\n",
              "      <td>Ayoung</td>\n",
              "      <td>sub5</td>\n",
              "      <td>78</td>\n",
              "    </tr>\n",
              "    <tr>\n",
              "      <th rowspan=\"5\" valign=\"top\">y</th>\n",
              "      <th>1</th>\n",
              "      <td>Billy</td>\n",
              "      <td>sub2</td>\n",
              "      <td>89</td>\n",
              "    </tr>\n",
              "    <tr>\n",
              "      <th>2</th>\n",
              "      <td>Brian</td>\n",
              "      <td>sub4</td>\n",
              "      <td>80</td>\n",
              "    </tr>\n",
              "    <tr>\n",
              "      <th>3</th>\n",
              "      <td>Bran</td>\n",
              "      <td>sub3</td>\n",
              "      <td>79</td>\n",
              "    </tr>\n",
              "    <tr>\n",
              "      <th>4</th>\n",
              "      <td>Bryce</td>\n",
              "      <td>sub6</td>\n",
              "      <td>97</td>\n",
              "    </tr>\n",
              "    <tr>\n",
              "      <th>5</th>\n",
              "      <td>Betty</td>\n",
              "      <td>sub5</td>\n",
              "      <td>88</td>\n",
              "    </tr>\n",
              "  </tbody>\n",
              "</table>\n",
              "</div>"
            ],
            "text/plain": [
              "       Name subject_id  Marks_scored\n",
              "x 1    Alex       sub1            98\n",
              "  2     Amy       sub2            90\n",
              "  3   Allen       sub4            87\n",
              "  4   Alice       sub6            69\n",
              "  5  Ayoung       sub5            78\n",
              "y 1   Billy       sub2            89\n",
              "  2   Brian       sub4            80\n",
              "  3    Bran       sub3            79\n",
              "  4   Bryce       sub6            97\n",
              "  5   Betty       sub5            88"
            ]
          },
          "metadata": {
            "tags": []
          },
          "execution_count": 7
        }
      ]
    },
    {
      "cell_type": "code",
      "metadata": {
        "id": "2AEFfhsmt1tO",
        "outputId": "25c4a345-3a5b-4d1b-fbbb-ba69a758810e"
      },
      "source": [
        "pd.concat([one,two],keys=['x','y'],ignore_index=True)"
      ],
      "execution_count": null,
      "outputs": [
        {
          "output_type": "execute_result",
          "data": {
            "text/html": [
              "<div>\n",
              "<style scoped>\n",
              "    .dataframe tbody tr th:only-of-type {\n",
              "        vertical-align: middle;\n",
              "    }\n",
              "\n",
              "    .dataframe tbody tr th {\n",
              "        vertical-align: top;\n",
              "    }\n",
              "\n",
              "    .dataframe thead th {\n",
              "        text-align: right;\n",
              "    }\n",
              "</style>\n",
              "<table border=\"1\" class=\"dataframe\">\n",
              "  <thead>\n",
              "    <tr style=\"text-align: right;\">\n",
              "      <th></th>\n",
              "      <th>Name</th>\n",
              "      <th>subject_id</th>\n",
              "      <th>Marks_scored</th>\n",
              "    </tr>\n",
              "  </thead>\n",
              "  <tbody>\n",
              "    <tr>\n",
              "      <th>0</th>\n",
              "      <td>Alex</td>\n",
              "      <td>sub1</td>\n",
              "      <td>98</td>\n",
              "    </tr>\n",
              "    <tr>\n",
              "      <th>1</th>\n",
              "      <td>Amy</td>\n",
              "      <td>sub2</td>\n",
              "      <td>90</td>\n",
              "    </tr>\n",
              "    <tr>\n",
              "      <th>2</th>\n",
              "      <td>Allen</td>\n",
              "      <td>sub4</td>\n",
              "      <td>87</td>\n",
              "    </tr>\n",
              "    <tr>\n",
              "      <th>3</th>\n",
              "      <td>Alice</td>\n",
              "      <td>sub6</td>\n",
              "      <td>69</td>\n",
              "    </tr>\n",
              "    <tr>\n",
              "      <th>4</th>\n",
              "      <td>Ayoung</td>\n",
              "      <td>sub5</td>\n",
              "      <td>78</td>\n",
              "    </tr>\n",
              "    <tr>\n",
              "      <th>5</th>\n",
              "      <td>Billy</td>\n",
              "      <td>sub2</td>\n",
              "      <td>89</td>\n",
              "    </tr>\n",
              "    <tr>\n",
              "      <th>6</th>\n",
              "      <td>Brian</td>\n",
              "      <td>sub4</td>\n",
              "      <td>80</td>\n",
              "    </tr>\n",
              "    <tr>\n",
              "      <th>7</th>\n",
              "      <td>Bran</td>\n",
              "      <td>sub3</td>\n",
              "      <td>79</td>\n",
              "    </tr>\n",
              "    <tr>\n",
              "      <th>8</th>\n",
              "      <td>Bryce</td>\n",
              "      <td>sub6</td>\n",
              "      <td>97</td>\n",
              "    </tr>\n",
              "    <tr>\n",
              "      <th>9</th>\n",
              "      <td>Betty</td>\n",
              "      <td>sub5</td>\n",
              "      <td>88</td>\n",
              "    </tr>\n",
              "  </tbody>\n",
              "</table>\n",
              "</div>"
            ],
            "text/plain": [
              "     Name subject_id  Marks_scored\n",
              "0    Alex       sub1            98\n",
              "1     Amy       sub2            90\n",
              "2   Allen       sub4            87\n",
              "3   Alice       sub6            69\n",
              "4  Ayoung       sub5            78\n",
              "5   Billy       sub2            89\n",
              "6   Brian       sub4            80\n",
              "7    Bran       sub3            79\n",
              "8   Bryce       sub6            97\n",
              "9   Betty       sub5            88"
            ]
          },
          "metadata": {
            "tags": []
          },
          "execution_count": 209
        }
      ]
    },
    {
      "cell_type": "code",
      "metadata": {
        "id": "LpC5r9fxt1tO",
        "outputId": "eaf98482-6215-49ae-cd76-3d7c2e1f189d"
      },
      "source": [
        " pd.concat([one,two],axis=1)"
      ],
      "execution_count": null,
      "outputs": [
        {
          "output_type": "execute_result",
          "data": {
            "text/html": [
              "<div>\n",
              "<style scoped>\n",
              "    .dataframe tbody tr th:only-of-type {\n",
              "        vertical-align: middle;\n",
              "    }\n",
              "\n",
              "    .dataframe tbody tr th {\n",
              "        vertical-align: top;\n",
              "    }\n",
              "\n",
              "    .dataframe thead th {\n",
              "        text-align: right;\n",
              "    }\n",
              "</style>\n",
              "<table border=\"1\" class=\"dataframe\">\n",
              "  <thead>\n",
              "    <tr style=\"text-align: right;\">\n",
              "      <th></th>\n",
              "      <th>Name</th>\n",
              "      <th>subject_id</th>\n",
              "      <th>Marks_scored</th>\n",
              "      <th>Name</th>\n",
              "      <th>subject_id</th>\n",
              "      <th>Marks_scored</th>\n",
              "    </tr>\n",
              "  </thead>\n",
              "  <tbody>\n",
              "    <tr>\n",
              "      <th>1</th>\n",
              "      <td>Alex</td>\n",
              "      <td>sub1</td>\n",
              "      <td>98</td>\n",
              "      <td>Billy</td>\n",
              "      <td>sub2</td>\n",
              "      <td>89</td>\n",
              "    </tr>\n",
              "    <tr>\n",
              "      <th>2</th>\n",
              "      <td>Amy</td>\n",
              "      <td>sub2</td>\n",
              "      <td>90</td>\n",
              "      <td>Brian</td>\n",
              "      <td>sub4</td>\n",
              "      <td>80</td>\n",
              "    </tr>\n",
              "    <tr>\n",
              "      <th>3</th>\n",
              "      <td>Allen</td>\n",
              "      <td>sub4</td>\n",
              "      <td>87</td>\n",
              "      <td>Bran</td>\n",
              "      <td>sub3</td>\n",
              "      <td>79</td>\n",
              "    </tr>\n",
              "    <tr>\n",
              "      <th>4</th>\n",
              "      <td>Alice</td>\n",
              "      <td>sub6</td>\n",
              "      <td>69</td>\n",
              "      <td>Bryce</td>\n",
              "      <td>sub6</td>\n",
              "      <td>97</td>\n",
              "    </tr>\n",
              "    <tr>\n",
              "      <th>5</th>\n",
              "      <td>Ayoung</td>\n",
              "      <td>sub5</td>\n",
              "      <td>78</td>\n",
              "      <td>Betty</td>\n",
              "      <td>sub5</td>\n",
              "      <td>88</td>\n",
              "    </tr>\n",
              "  </tbody>\n",
              "</table>\n",
              "</div>"
            ],
            "text/plain": [
              "     Name subject_id  Marks_scored   Name subject_id  Marks_scored\n",
              "1    Alex       sub1            98  Billy       sub2            89\n",
              "2     Amy       sub2            90  Brian       sub4            80\n",
              "3   Allen       sub4            87   Bran       sub3            79\n",
              "4   Alice       sub6            69  Bryce       sub6            97\n",
              "5  Ayoung       sub5            78  Betty       sub5            88"
            ]
          },
          "metadata": {
            "tags": []
          },
          "execution_count": 210
        }
      ]
    },
    {
      "cell_type": "code",
      "metadata": {
        "id": "1zxDjYErt1tO",
        "outputId": "dc145226-1ab5-4000-c471-2f47aae42bfc"
      },
      "source": [
        "one.append(two)"
      ],
      "execution_count": null,
      "outputs": [
        {
          "output_type": "execute_result",
          "data": {
            "text/html": [
              "<div>\n",
              "<style scoped>\n",
              "    .dataframe tbody tr th:only-of-type {\n",
              "        vertical-align: middle;\n",
              "    }\n",
              "\n",
              "    .dataframe tbody tr th {\n",
              "        vertical-align: top;\n",
              "    }\n",
              "\n",
              "    .dataframe thead th {\n",
              "        text-align: right;\n",
              "    }\n",
              "</style>\n",
              "<table border=\"1\" class=\"dataframe\">\n",
              "  <thead>\n",
              "    <tr style=\"text-align: right;\">\n",
              "      <th></th>\n",
              "      <th>Name</th>\n",
              "      <th>subject_id</th>\n",
              "      <th>Marks_scored</th>\n",
              "    </tr>\n",
              "  </thead>\n",
              "  <tbody>\n",
              "    <tr>\n",
              "      <th>1</th>\n",
              "      <td>Alex</td>\n",
              "      <td>sub1</td>\n",
              "      <td>98</td>\n",
              "    </tr>\n",
              "    <tr>\n",
              "      <th>2</th>\n",
              "      <td>Amy</td>\n",
              "      <td>sub2</td>\n",
              "      <td>90</td>\n",
              "    </tr>\n",
              "    <tr>\n",
              "      <th>3</th>\n",
              "      <td>Allen</td>\n",
              "      <td>sub4</td>\n",
              "      <td>87</td>\n",
              "    </tr>\n",
              "    <tr>\n",
              "      <th>4</th>\n",
              "      <td>Alice</td>\n",
              "      <td>sub6</td>\n",
              "      <td>69</td>\n",
              "    </tr>\n",
              "    <tr>\n",
              "      <th>5</th>\n",
              "      <td>Ayoung</td>\n",
              "      <td>sub5</td>\n",
              "      <td>78</td>\n",
              "    </tr>\n",
              "    <tr>\n",
              "      <th>1</th>\n",
              "      <td>Billy</td>\n",
              "      <td>sub2</td>\n",
              "      <td>89</td>\n",
              "    </tr>\n",
              "    <tr>\n",
              "      <th>2</th>\n",
              "      <td>Brian</td>\n",
              "      <td>sub4</td>\n",
              "      <td>80</td>\n",
              "    </tr>\n",
              "    <tr>\n",
              "      <th>3</th>\n",
              "      <td>Bran</td>\n",
              "      <td>sub3</td>\n",
              "      <td>79</td>\n",
              "    </tr>\n",
              "    <tr>\n",
              "      <th>4</th>\n",
              "      <td>Bryce</td>\n",
              "      <td>sub6</td>\n",
              "      <td>97</td>\n",
              "    </tr>\n",
              "    <tr>\n",
              "      <th>5</th>\n",
              "      <td>Betty</td>\n",
              "      <td>sub5</td>\n",
              "      <td>88</td>\n",
              "    </tr>\n",
              "  </tbody>\n",
              "</table>\n",
              "</div>"
            ],
            "text/plain": [
              "     Name subject_id  Marks_scored\n",
              "1    Alex       sub1            98\n",
              "2     Amy       sub2            90\n",
              "3   Allen       sub4            87\n",
              "4   Alice       sub6            69\n",
              "5  Ayoung       sub5            78\n",
              "1   Billy       sub2            89\n",
              "2   Brian       sub4            80\n",
              "3    Bran       sub3            79\n",
              "4   Bryce       sub6            97\n",
              "5   Betty       sub5            88"
            ]
          },
          "metadata": {
            "tags": []
          },
          "execution_count": 211
        }
      ]
    },
    {
      "cell_type": "code",
      "metadata": {
        "scrolled": true,
        "id": "GIS6V5SSt1tP",
        "outputId": "528d2cd7-ace5-4554-d79f-f4c567bd0fd5"
      },
      "source": [
        "one.append([two,one,two])"
      ],
      "execution_count": null,
      "outputs": [
        {
          "output_type": "execute_result",
          "data": {
            "text/html": [
              "<div>\n",
              "<style scoped>\n",
              "    .dataframe tbody tr th:only-of-type {\n",
              "        vertical-align: middle;\n",
              "    }\n",
              "\n",
              "    .dataframe tbody tr th {\n",
              "        vertical-align: top;\n",
              "    }\n",
              "\n",
              "    .dataframe thead th {\n",
              "        text-align: right;\n",
              "    }\n",
              "</style>\n",
              "<table border=\"1\" class=\"dataframe\">\n",
              "  <thead>\n",
              "    <tr style=\"text-align: right;\">\n",
              "      <th></th>\n",
              "      <th>Name</th>\n",
              "      <th>subject_id</th>\n",
              "      <th>Marks_scored</th>\n",
              "    </tr>\n",
              "  </thead>\n",
              "  <tbody>\n",
              "    <tr>\n",
              "      <th>1</th>\n",
              "      <td>Alex</td>\n",
              "      <td>sub1</td>\n",
              "      <td>98</td>\n",
              "    </tr>\n",
              "    <tr>\n",
              "      <th>2</th>\n",
              "      <td>Amy</td>\n",
              "      <td>sub2</td>\n",
              "      <td>90</td>\n",
              "    </tr>\n",
              "    <tr>\n",
              "      <th>3</th>\n",
              "      <td>Allen</td>\n",
              "      <td>sub4</td>\n",
              "      <td>87</td>\n",
              "    </tr>\n",
              "    <tr>\n",
              "      <th>4</th>\n",
              "      <td>Alice</td>\n",
              "      <td>sub6</td>\n",
              "      <td>69</td>\n",
              "    </tr>\n",
              "    <tr>\n",
              "      <th>5</th>\n",
              "      <td>Ayoung</td>\n",
              "      <td>sub5</td>\n",
              "      <td>78</td>\n",
              "    </tr>\n",
              "    <tr>\n",
              "      <th>1</th>\n",
              "      <td>Billy</td>\n",
              "      <td>sub2</td>\n",
              "      <td>89</td>\n",
              "    </tr>\n",
              "    <tr>\n",
              "      <th>2</th>\n",
              "      <td>Brian</td>\n",
              "      <td>sub4</td>\n",
              "      <td>80</td>\n",
              "    </tr>\n",
              "    <tr>\n",
              "      <th>3</th>\n",
              "      <td>Bran</td>\n",
              "      <td>sub3</td>\n",
              "      <td>79</td>\n",
              "    </tr>\n",
              "    <tr>\n",
              "      <th>4</th>\n",
              "      <td>Bryce</td>\n",
              "      <td>sub6</td>\n",
              "      <td>97</td>\n",
              "    </tr>\n",
              "    <tr>\n",
              "      <th>5</th>\n",
              "      <td>Betty</td>\n",
              "      <td>sub5</td>\n",
              "      <td>88</td>\n",
              "    </tr>\n",
              "    <tr>\n",
              "      <th>1</th>\n",
              "      <td>Alex</td>\n",
              "      <td>sub1</td>\n",
              "      <td>98</td>\n",
              "    </tr>\n",
              "    <tr>\n",
              "      <th>2</th>\n",
              "      <td>Amy</td>\n",
              "      <td>sub2</td>\n",
              "      <td>90</td>\n",
              "    </tr>\n",
              "    <tr>\n",
              "      <th>3</th>\n",
              "      <td>Allen</td>\n",
              "      <td>sub4</td>\n",
              "      <td>87</td>\n",
              "    </tr>\n",
              "    <tr>\n",
              "      <th>4</th>\n",
              "      <td>Alice</td>\n",
              "      <td>sub6</td>\n",
              "      <td>69</td>\n",
              "    </tr>\n",
              "    <tr>\n",
              "      <th>5</th>\n",
              "      <td>Ayoung</td>\n",
              "      <td>sub5</td>\n",
              "      <td>78</td>\n",
              "    </tr>\n",
              "    <tr>\n",
              "      <th>1</th>\n",
              "      <td>Billy</td>\n",
              "      <td>sub2</td>\n",
              "      <td>89</td>\n",
              "    </tr>\n",
              "    <tr>\n",
              "      <th>2</th>\n",
              "      <td>Brian</td>\n",
              "      <td>sub4</td>\n",
              "      <td>80</td>\n",
              "    </tr>\n",
              "    <tr>\n",
              "      <th>3</th>\n",
              "      <td>Bran</td>\n",
              "      <td>sub3</td>\n",
              "      <td>79</td>\n",
              "    </tr>\n",
              "    <tr>\n",
              "      <th>4</th>\n",
              "      <td>Bryce</td>\n",
              "      <td>sub6</td>\n",
              "      <td>97</td>\n",
              "    </tr>\n",
              "    <tr>\n",
              "      <th>5</th>\n",
              "      <td>Betty</td>\n",
              "      <td>sub5</td>\n",
              "      <td>88</td>\n",
              "    </tr>\n",
              "  </tbody>\n",
              "</table>\n",
              "</div>"
            ],
            "text/plain": [
              "     Name subject_id  Marks_scored\n",
              "1    Alex       sub1            98\n",
              "2     Amy       sub2            90\n",
              "3   Allen       sub4            87\n",
              "4   Alice       sub6            69\n",
              "5  Ayoung       sub5            78\n",
              "1   Billy       sub2            89\n",
              "2   Brian       sub4            80\n",
              "3    Bran       sub3            79\n",
              "4   Bryce       sub6            97\n",
              "5   Betty       sub5            88\n",
              "1    Alex       sub1            98\n",
              "2     Amy       sub2            90\n",
              "3   Allen       sub4            87\n",
              "4   Alice       sub6            69\n",
              "5  Ayoung       sub5            78\n",
              "1   Billy       sub2            89\n",
              "2   Brian       sub4            80\n",
              "3    Bran       sub3            79\n",
              "4   Bryce       sub6            97\n",
              "5   Betty       sub5            88"
            ]
          },
          "metadata": {
            "tags": []
          },
          "execution_count": 8
        }
      ]
    },
    {
      "cell_type": "code",
      "metadata": {
        "id": "tLG2kHuht1tQ"
      },
      "source": [
        ""
      ],
      "execution_count": null,
      "outputs": []
    }
  ]
}